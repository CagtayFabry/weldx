{
 "cells": [
  {
   "cell_type": "code",
   "execution_count": 1,
   "metadata": {},
   "outputs": [],
   "source": [
    "%matplotlib widget"
   ]
  },
  {
   "cell_type": "code",
   "execution_count": 2,
   "metadata": {},
   "outputs": [],
   "source": [
    "import numpy as np\n",
    "\n",
    "# plotting\n",
    "from mpl_toolkits.mplot3d import Axes3D  # noqa: F401 unused import\n",
    "import matplotlib.pyplot as plt\n",
    "\n",
    "#interactive plots\n",
    "import ipywidgets as widgets\n",
    "from ipywidgets import VBox, HBox, IntSlider, Checkbox, interactive_output, FloatSlider\n",
    "from IPython.display import display\n",
    "\n",
    "import libo\n",
    "from libo.io import tc3\n",
    "\n",
    "import weldx.geometry as geo\n",
    "import weldx.transformations as tf\n",
    "import weldx.utility as ut\n",
    "import weldx.visualization as vs\n"
   ]
  },
  {
   "cell_type": "markdown",
   "metadata": {},
   "source": [
    "Import movement data"
   ]
  },
  {
   "cell_type": "code",
   "execution_count": 3,
   "metadata": {},
   "outputs": [],
   "source": [
    "data = tc3.read_db(17519)\n",
    "ds = tc3.to_xarray(data)"
   ]
  },
  {
   "cell_type": "markdown",
   "metadata": {},
   "source": [
    "\n"
   ]
  },
  {
   "cell_type": "code",
   "execution_count": 4,
   "metadata": {},
   "outputs": [
    {
     "data": {
      "application/vnd.jupyter.widget-view+json": {
       "model_id": "4bb570018699489b9ce5a7253f1d1cd5",
       "version_major": 2,
       "version_minor": 0
      },
      "text/plain": [
       "Canvas(toolbar=Toolbar(toolitems=[('Home', 'Reset original view', 'home', 'home'), ('Back', 'Back to previous …"
      ]
     },
     "metadata": {},
     "output_type": "display_data"
    },
    {
     "name": "stderr",
     "output_type": "stream",
     "text": [
      "/opt/tljh/user/envs/libo_stable/lib/python3.7/site-packages/pandas/plotting/_matplotlib/converter.py:103: FutureWarning: Using an implicitly registered datetime converter for a matplotlib plotting method. The converter was registered by pandas on import. Future versions of pandas will require you to explicitly register matplotlib converters.\n",
      "\n",
      "To register the converters:\n",
      "\t>>> from pandas.plotting import register_matplotlib_converters\n",
      "\t>>> register_matplotlib_converters()\n",
      "  warnings.warn(msg, FutureWarning)\n"
     ]
    },
    {
     "data": {
      "text/plain": [
       "[<matplotlib.lines.Line2D at 0x7ff38ea82310>]"
      ]
     },
     "execution_count": 4,
     "metadata": {},
     "output_type": "execute_result"
    }
   ],
   "source": [
    "ds[[\"FB_X\",\"FB_Y\",\"FB_Z\"]]\n",
    "\n",
    "# schweißen\n",
    "ds.trigSchweissen.dropna(\"time\").plot()"
   ]
  },
  {
   "cell_type": "code",
   "execution_count": 5,
   "metadata": {},
   "outputs": [
    {
     "data": {
      "text/plain": [
       "array([[  47.188,   47.195,   47.206, ...,   49.738,   49.738,   49.738],\n",
       "       [1045.312, 1045.315, 1045.31 , ..., 1375.272, 1375.272, 1375.272],\n",
       "       [-137.386, -137.452, -137.512, ..., -136.894, -136.894, -136.894]])"
      ]
     },
     "execution_count": 5,
     "metadata": {},
     "output_type": "execute_result"
    }
   ],
   "source": [
    "locations = ds[[\"FB_X\",\"FB_Y\",\"FB_Z\"]].where(ds.trigSchweissen==1).dropna(\"time\").to_array().data\n",
    "#locations = np.array([ds.FB_X.dropna(\"time\").data, ds.FB_Y.dropna(\"time\").data, ds.FB_Z.dropna(\"time\").data], float)\n",
    "locations"
   ]
  },
  {
   "cell_type": "code",
   "execution_count": 6,
   "metadata": {},
   "outputs": [
    {
     "data": {
      "application/vnd.jupyter.widget-view+json": {
       "model_id": "bb54faeadb7c461b960af471d9076d27",
       "version_major": 2,
       "version_minor": 0
      },
      "text/plain": [
       "Canvas(toolbar=Toolbar(toolitems=[('Home', 'Reset original view', 'home', 'home'), ('Back', 'Back to previous …"
      ]
     },
     "metadata": {},
     "output_type": "display_data"
    }
   ],
   "source": [
    "#plt.plot(locations[0],locations[1])\n",
    "fig = plt.figure()\n",
    "ax = fig.gca(projection='3d')\n",
    "fig.canvas.layout.height=\"500px\"\n",
    "fig.canvas.layout.width=\"500px\"\n",
    "ax.plot(locations[0], locations[1], locations[2])\n",
    "vs.set_axes_equal(ax)"
   ]
  },
  {
   "cell_type": "markdown",
   "metadata": {},
   "source": [
    "Define coordinate systems:\n",
    "- `cs_base` is the root coordinate system\n",
    "- `cs_ref` is defined in `cs_base` -> coordinate system created from 3 robot positions\n",
    "- `cs_sp` is defined in `cs_ref` -> specimen coordinate system with x pointing into the direction of the trace\n",
    "\n",
    "Important note: Measured data is not perfectly orthogonal. We use the cross product to get a z axis which is perfectly orthogonal (in floating point precision) and recalculate a perfectly orthogonal y-axis. There are certainly better ways to adress this problem."
   ]
  },
  {
   "cell_type": "code",
   "execution_count": 7,
   "metadata": {},
   "outputs": [],
   "source": [
    "origin = ut.to_float_array([67.311, 1055.137, -132.694])\n",
    "offset_ox = ut.to_float_array([157.345, 1054.486,-132.949 ])\n",
    "offset_oy = ut.to_float_array([69.149, 1366.014, -131.962]) \n",
    "\n",
    "vec_x = offset_ox - origin\n",
    "vec_y = offset_oy - origin\n",
    "vec_z = np.cross(vec_x, vec_y)\n",
    "\n",
    "cs_ref = tf.LocalCoordinateSystem.construct_from_xz_and_orientation(vec_x=vec_x, vec_z=vec_z, origin=origin)\n",
    "cs_sp = tf.LocalCoordinateSystem(basis=tf.rotation_matrix_z(np.pi/2),origin=[-20.5, -10 ,-8])\n",
    "\n",
    "cs_sp_in_base = cs_sp + cs_ref"
   ]
  },
  {
   "cell_type": "markdown",
   "metadata": {},
   "source": [
    "Transform movement data to specimen coordinate system:"
   ]
  },
  {
   "cell_type": "code",
   "execution_count": 9,
   "metadata": {},
   "outputs": [
    {
     "data": {
      "application/vnd.jupyter.widget-view+json": {
       "model_id": "b280a920362d40ffb920506fc709cd6f",
       "version_major": 2,
       "version_minor": 0
      },
      "text/plain": [
       "Canvas(toolbar=Toolbar(toolitems=[('Home', 'Reset original view', 'home', 'home'), ('Back', 'Back to previous …"
      ]
     },
     "metadata": {},
     "output_type": "display_data"
    }
   ],
   "source": [
    "locations_sp = np.matmul(cs_sp_in_base.orientation.transpose(),locations- cs_sp_in_base.location[:,np.newaxis]) \n",
    "\n",
    "fig2 = plt.figure()\n",
    "ax2 = fig2.gca(projection='3d')\n",
    "fig2.canvas.layout.height=\"500px\"\n",
    "fig2.canvas.layout.width=\"500px\"\n",
    "ax2.plot(locations_sp[0], locations_sp[1], locations_sp[2])\n",
    "ax2.set_xlabel(\"x\")\n",
    "ax2.set_ylabel(\"y\")\n",
    "ax2.set_zlabel(\"z\")\n",
    "vs.set_axes_equal(ax2)"
   ]
  },
  {
   "cell_type": "raw",
   "metadata": {},
   "source": [
    "Create profiles "
   ]
  },
  {
   "cell_type": "code",
   "execution_count": 21,
   "metadata": {},
   "outputs": [
    {
     "data": {
      "application/vnd.jupyter.widget-view+json": {
       "model_id": "65185ccca9a0490c80b9615ba8ec7151",
       "version_major": 2,
       "version_minor": 0
      },
      "text/plain": [
       "Canvas(toolbar=Toolbar(toolitems=[('Home', 'Reset original view', 'home', 'home'), ('Back', 'Back to previous …"
      ]
     },
     "metadata": {},
     "output_type": "display_data"
    },
    {
     "data": {
      "text/plain": [
       "<matplotlib.legend.Legend at 0x7ff384873550>"
      ]
     },
     "execution_count": 21,
     "metadata": {},
     "output_type": "execute_result"
    }
   ],
   "source": [
    "# create points\n",
    "p_0 = [20, 8]\n",
    "p_1_1 = [np.tan(3/18 *np.pi)*8, 8]\n",
    "p_1_2 = [np.tan(2/18 *np.pi)*8, 8]\n",
    "p_2 = [0, 0]\n",
    "p_3 = [20, 0]\n",
    "\n",
    "# create shapes\n",
    "s_p1_r = geo.Shape().add_line_segments([p_0, p_1_1, p_2, p_3])\n",
    "s_p2_r = geo.Shape().add_line_segments([p_0, p_1_2, p_2, p_3])\n",
    "s_p1_l = s_p1_r.reflect([1, 0])\n",
    "s_p2_l = s_p2_r.reflect([1, 0])\n",
    "\n",
    "# create profiles\n",
    "p_1 = geo.Profile([s_p1_l, s_p1_r])\n",
    "p_2 = geo.Profile([s_p2_l, s_p2_r])\n",
    "\n",
    "# rasterize and plot profiles\n",
    "data_p_1 = p_1.rasterize(1)\n",
    "data_p_2 = p_2.rasterize(1)\n",
    "\n",
    "fig3 = plt.figure()\n",
    "plt.plot(data_p_1[0], data_p_1[1], \"ro\", label=\"profile 1\")\n",
    "plt.plot(data_p_2[0], data_p_2[1], \"bo\", label=\"profile 2\")\n",
    "plt.legend()\n"
   ]
  },
  {
   "cell_type": "markdown",
   "metadata": {},
   "source": [
    "Create variable profile, trace and geometry"
   ]
  },
  {
   "cell_type": "code",
   "execution_count": 24,
   "metadata": {},
   "outputs": [],
   "source": [
    "vp = geo.VariableProfile([p_1, p_2], [0, 1],[geo.linear_profile_interpolation_sbs])\n",
    "trace = geo.Trace(geo.LinearHorizontalTraceSegment(350))\n",
    "\n",
    "g_0 = geo.Geometry(vp,trace)"
   ]
  },
  {
   "cell_type": "code",
   "execution_count": 30,
   "metadata": {},
   "outputs": [],
   "source": [
    "data_g_0 = g_0.rasterize(profile_raster_width=0.5, trace_raster_width=10)"
   ]
  },
  {
   "cell_type": "markdown",
   "metadata": {},
   "source": [
    "Plot everything together"
   ]
  },
  {
   "cell_type": "code",
   "execution_count": 32,
   "metadata": {},
   "outputs": [
    {
     "data": {
      "application/vnd.jupyter.widget-view+json": {
       "model_id": "c9f96cf1aca845f0841c0856aa05baf6",
       "version_major": 2,
       "version_minor": 0
      },
      "text/plain": [
       "Canvas(toolbar=Toolbar(toolitems=[('Home', 'Reset original view', 'home', 'home'), ('Back', 'Back to previous …"
      ]
     },
     "metadata": {},
     "output_type": "display_data"
    },
    {
     "data": {
      "text/plain": [
       "Text(0.5, 0, 'z')"
      ]
     },
     "execution_count": 32,
     "metadata": {},
     "output_type": "execute_result"
    }
   ],
   "source": [
    "fig4 = plt.figure()\n",
    "ax4 = fig4.gca(projection='3d')\n",
    "fig4.canvas.layout.height=\"1500px\"\n",
    "fig4.canvas.layout.width=\"1500px\"\n",
    "ax4.plot(locations_sp[0], locations_sp[1], locations_sp[2], \"b\")\n",
    "ax4.plot(data_g_0[0], data_g_0[1], data_g_0[2], \"xr\")\n",
    "ax4.set_xlabel(\"x\")\n",
    "ax4.set_ylabel(\"y\")\n",
    "ax4.set_zlabel(\"z\")\n",
    "#vs.set_axes_equal(ax4)"
   ]
  },
  {
   "cell_type": "code",
   "execution_count": null,
   "metadata": {},
   "outputs": [],
   "source": []
  }
 ],
 "metadata": {
  "kernelspec": {
   "display_name": "libo (stable)",
   "language": "python",
   "name": "libo_stable"
  },
  "language_info": {
   "codemirror_mode": {
    "name": "ipython",
    "version": 3
   },
   "file_extension": ".py",
   "mimetype": "text/x-python",
   "name": "python",
   "nbconvert_exporter": "python",
   "pygments_lexer": "ipython3",
   "version": "3.7.6"
  }
 },
 "nbformat": 4,
 "nbformat_minor": 4
}
