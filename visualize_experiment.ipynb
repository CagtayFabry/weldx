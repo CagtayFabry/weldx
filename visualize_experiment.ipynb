{
 "cells": [
  {
   "cell_type": "code",
   "execution_count": 1,
   "metadata": {},
   "outputs": [],
   "source": [
    "%matplotlib widget"
   ]
  },
  {
   "cell_type": "code",
   "execution_count": 2,
   "metadata": {},
   "outputs": [],
   "source": [
    "import numpy as np\n",
    "import ipyvolume as ipv\n",
    "from scipy.spatial import Delaunay\n",
    "from scipy.spatial.transform import Rotation as rot\n",
    "\n",
    "# plotting\n",
    "from mpl_toolkits.mplot3d import Axes3D  # noqa: F401 unused import\n",
    "import matplotlib.pyplot as plt\n",
    "\n",
    "#interactive plots\n",
    "import ipywidgets as widgets\n",
    "from ipywidgets import VBox, HBox, IntSlider, Checkbox, interactive_output, FloatSlider\n",
    "from IPython.display import display\n",
    "\n",
    "import libo\n",
    "from libo.io import tc3\n",
    "\n",
    "import weldx.geometry as geo\n",
    "import weldx.transformations as tf\n",
    "import weldx.utility as ut\n",
    "import weldx.visualization as vs\n"
   ]
  },
  {
   "cell_type": "markdown",
   "metadata": {},
   "source": [
    "Import movement data"
   ]
  },
  {
   "cell_type": "code",
   "execution_count": 3,
   "metadata": {},
   "outputs": [
    {
     "data": {
      "text/html": [
       "<pre>&lt;xarray.Dataset&gt;\n",
       "Dimensions:         (time: 102261)\n",
       "Coordinates:\n",
       "  * time            (time) datetime64[ns] 2020-02-19T15:35:15.151000 ... 2020-02-19T15:36:57.543000\n",
       "Data variables:\n",
       "    trigScan2_fire  (time) float64 nan nan nan nan 0.0 ... 0.0 0.0 0.0 0.0 nan\n",
       "    trigLLT2        (time) float64 nan nan nan nan 0.0 ... 0.0 0.0 0.0 0.0 nan\n",
       "    trigScan2_prog  (time) float64 nan nan nan nan 0.0 ... 0.0 0.0 0.0 0.0 nan\n",
       "    trigXiris1      (time) float64 nan nan nan nan 0.0 ... 0.0 0.0 0.0 0.0 nan\n",
       "    trigHDR1_prog   (time) float64 nan nan nan nan 0.0 ... 0.0 0.0 0.0 0.0 nan\n",
       "    trigLLT1        (time) float64 nan nan nan nan 0.0 ... 0.0 0.0 0.0 0.0 nan\n",
       "    trigScan1_fire  (time) float64 nan nan nan nan 0.0 ... 0.0 0.0 0.0 0.0 nan\n",
       "    trigScan1_prog  (time) float64 nan nan nan nan 0.0 ... 0.0 0.0 0.0 0.0 nan\n",
       "    trigProgramm    (time) float64 nan nan nan nan 0.0 ... 0.0 0.0 0.0 0.0 nan\n",
       "    trigSchweissen  (time) float64 nan nan nan nan 0.0 ... 0.0 0.0 0.0 0.0 nan\n",
       "    JobBetrieb      (time) float64 nan nan nan nan 0.0 ... 1.0 1.0 1.0 1.0 nan\n",
       "    LiBoSteht       (time) float64 nan nan nan nan 0.0 ... 0.0 0.0 0.0 0.0 nan\n",
       "    S1_ax1          (time) float64 nan nan nan nan 68.0 ... 68.0 68.0 68.0 nan\n",
       "    S1_ax2          (time) float64 nan nan nan nan 60.0 ... 60.0 60.0 60.0 nan\n",
       "    schw_NR         (time) float64 nan nan nan nan 1.0 ... 1.0 1.0 1.0 1.0 nan\n",
       "    UPDATE_TRIGGER  (time) float64 nan nan nan nan 1.0 ... 0.0 0.0 0.0 0.0 nan\n",
       "    FB_Ry           (time) float64 nan 0.1615 nan nan nan ... nan nan nan nan\n",
       "    VTCP_V3         (time) float64 nan 14.06 nan nan nan ... nan nan nan nan nan\n",
       "    speed_override  (time) float64 nan 0.0 nan nan nan ... nan nan nan nan nan\n",
       "    V               (time) float64 nan 13.59 nan nan nan ... nan nan nan nan nan\n",
       "    FB_Rz           (time) float64 nan -0.4152 nan nan nan ... nan nan nan nan\n",
       "    FB_Rx           (time) float64 nan -179.9 nan nan nan ... nan nan nan nan\n",
       "    X               (time) float64 nan 47.23 nan nan nan ... nan nan nan nan nan\n",
       "    FB_Y            (time) float64 nan 1.045e+03 nan nan nan ... nan nan nan nan\n",
       "    FB_X            (time) float64 nan 47.18 nan nan nan ... nan nan nan nan nan\n",
       "    Rz              (time) float64 nan -0.4144 nan nan nan ... nan nan nan nan\n",
       "    Ry              (time) float64 nan 0.1624 nan nan nan ... nan nan nan nan\n",
       "    Rx              (time) float64 nan -179.9 nan nan nan ... nan nan nan nan\n",
       "    Z               (time) float64 nan -137.7 nan nan nan ... nan nan nan nan\n",
       "    Y               (time) float64 nan 1.045e+03 nan nan nan ... nan nan nan nan\n",
       "    FB_Z            (time) float64 nan -137.3 nan nan nan ... nan nan nan nan\n",
       "    volumeFlow      (time) float64 nan nan 0.26 nan nan ... nan nan nan 0.27 nan\n",
       "    werkstueck_ID   (time) float64 364.0 nan nan nan nan ... nan nan nan nan nan\n",
       "    naht_NR         (time) float64 nan nan nan 1.0 nan ... nan nan nan nan 1.0\n",
       "    lage_NR         (time) float64 nan nan nan 1.0 nan ... nan nan nan nan 1.0\n",
       "    raupe_NR        (time) float64 nan nan nan 1.0 nan ... nan nan nan nan 1.0\n",
       "Attributes:\n",
       "    scopeName:         TC3 Export Tool\n",
       "    svdFile:           D:\\Messdaten\\2020_02_19_16_36_57_MH24_MAIN_AutoSave.txt\n",
       "    StartTimeTC3:      132266001152460000\n",
       "    EndTimeTC3:        132266002175010000\n",
       "    RunTime:           102.255\n",
       "    StartTime:         2020-02-19 16:35:15.246000 +0100\n",
       "    EndTime:           2020-02-19 16:36:57.501000 +0100\n",
       "    hostname:          WS7096\n",
       "    version:           0.2.2\n",
       "    TC3Import:         Python3\n",
       "    filename:          \n",
       "    filepath:          \n",
       "    RunTime_TimeUnit:  s\n",
       "    file_id:           17519</pre>"
      ],
      "text/plain": [
       "<xarray.Dataset>\n",
       "Dimensions:         (time: 102261)\n",
       "Coordinates:\n",
       "  * time            (time) datetime64[ns] 2020-02-19T15:35:15.151000 ... 2020-02-19T15:36:57.543000\n",
       "Data variables:\n",
       "    trigScan2_fire  (time) float64 nan nan nan nan 0.0 ... 0.0 0.0 0.0 0.0 nan\n",
       "    trigLLT2        (time) float64 nan nan nan nan 0.0 ... 0.0 0.0 0.0 0.0 nan\n",
       "    trigScan2_prog  (time) float64 nan nan nan nan 0.0 ... 0.0 0.0 0.0 0.0 nan\n",
       "    trigXiris1      (time) float64 nan nan nan nan 0.0 ... 0.0 0.0 0.0 0.0 nan\n",
       "    trigHDR1_prog   (time) float64 nan nan nan nan 0.0 ... 0.0 0.0 0.0 0.0 nan\n",
       "    trigLLT1        (time) float64 nan nan nan nan 0.0 ... 0.0 0.0 0.0 0.0 nan\n",
       "    trigScan1_fire  (time) float64 nan nan nan nan 0.0 ... 0.0 0.0 0.0 0.0 nan\n",
       "    trigScan1_prog  (time) float64 nan nan nan nan 0.0 ... 0.0 0.0 0.0 0.0 nan\n",
       "    trigProgramm    (time) float64 nan nan nan nan 0.0 ... 0.0 0.0 0.0 0.0 nan\n",
       "    trigSchweissen  (time) float64 nan nan nan nan 0.0 ... 0.0 0.0 0.0 0.0 nan\n",
       "    JobBetrieb      (time) float64 nan nan nan nan 0.0 ... 1.0 1.0 1.0 1.0 nan\n",
       "    LiBoSteht       (time) float64 nan nan nan nan 0.0 ... 0.0 0.0 0.0 0.0 nan\n",
       "    S1_ax1          (time) float64 nan nan nan nan 68.0 ... 68.0 68.0 68.0 nan\n",
       "    S1_ax2          (time) float64 nan nan nan nan 60.0 ... 60.0 60.0 60.0 nan\n",
       "    schw_NR         (time) float64 nan nan nan nan 1.0 ... 1.0 1.0 1.0 1.0 nan\n",
       "    UPDATE_TRIGGER  (time) float64 nan nan nan nan 1.0 ... 0.0 0.0 0.0 0.0 nan\n",
       "    FB_Ry           (time) float64 nan 0.1615 nan nan nan ... nan nan nan nan\n",
       "    VTCP_V3         (time) float64 nan 14.06 nan nan nan ... nan nan nan nan nan\n",
       "    speed_override  (time) float64 nan 0.0 nan nan nan ... nan nan nan nan nan\n",
       "    V               (time) float64 nan 13.59 nan nan nan ... nan nan nan nan nan\n",
       "    FB_Rz           (time) float64 nan -0.4152 nan nan nan ... nan nan nan nan\n",
       "    FB_Rx           (time) float64 nan -179.9 nan nan nan ... nan nan nan nan\n",
       "    X               (time) float64 nan 47.23 nan nan nan ... nan nan nan nan nan\n",
       "    FB_Y            (time) float64 nan 1.045e+03 nan nan nan ... nan nan nan nan\n",
       "    FB_X            (time) float64 nan 47.18 nan nan nan ... nan nan nan nan nan\n",
       "    Rz              (time) float64 nan -0.4144 nan nan nan ... nan nan nan nan\n",
       "    Ry              (time) float64 nan 0.1624 nan nan nan ... nan nan nan nan\n",
       "    Rx              (time) float64 nan -179.9 nan nan nan ... nan nan nan nan\n",
       "    Z               (time) float64 nan -137.7 nan nan nan ... nan nan nan nan\n",
       "    Y               (time) float64 nan 1.045e+03 nan nan nan ... nan nan nan nan\n",
       "    FB_Z            (time) float64 nan -137.3 nan nan nan ... nan nan nan nan\n",
       "    volumeFlow      (time) float64 nan nan 0.26 nan nan ... nan nan nan 0.27 nan\n",
       "    werkstueck_ID   (time) float64 364.0 nan nan nan nan ... nan nan nan nan nan\n",
       "    naht_NR         (time) float64 nan nan nan 1.0 nan ... nan nan nan nan 1.0\n",
       "    lage_NR         (time) float64 nan nan nan 1.0 nan ... nan nan nan nan 1.0\n",
       "    raupe_NR        (time) float64 nan nan nan 1.0 nan ... nan nan nan nan 1.0\n",
       "Attributes:\n",
       "    scopeName:         TC3 Export Tool\n",
       "    svdFile:           D:\\Messdaten\\2020_02_19_16_36_57_MH24_MAIN_AutoSave.txt\n",
       "    StartTimeTC3:      132266001152460000\n",
       "    EndTimeTC3:        132266002175010000\n",
       "    RunTime:           102.255\n",
       "    StartTime:         2020-02-19 16:35:15.246000 +0100\n",
       "    EndTime:           2020-02-19 16:36:57.501000 +0100\n",
       "    hostname:          WS7096\n",
       "    version:           0.2.2\n",
       "    TC3Import:         Python3\n",
       "    filename:          \n",
       "    filepath:          \n",
       "    RunTime_TimeUnit:  s\n",
       "    file_id:           17519"
      ]
     },
     "execution_count": 3,
     "metadata": {},
     "output_type": "execute_result"
    }
   ],
   "source": [
    "data = tc3.read_db(17519)\n",
    "ds = tc3.to_xarray(data)\n",
    "ds"
   ]
  },
  {
   "cell_type": "markdown",
   "metadata": {},
   "source": [
    "\n"
   ]
  },
  {
   "cell_type": "code",
   "execution_count": 33,
   "metadata": {},
   "outputs": [
    {
     "data": {
      "application/vnd.jupyter.widget-view+json": {
       "model_id": "ac389928c8fa4c519c08acbc823b1a1a",
       "version_major": 2,
       "version_minor": 0
      },
      "text/plain": [
       "Canvas(toolbar=Toolbar(toolitems=[('Home', 'Reset original view', 'home', 'home'), ('Back', 'Back to previous …"
      ]
     },
     "metadata": {},
     "output_type": "display_data"
    },
    {
     "data": {
      "text/plain": [
       "[<matplotlib.lines.Line2D at 0x7f3b26e080d0>]"
      ]
     },
     "execution_count": 33,
     "metadata": {},
     "output_type": "execute_result"
    }
   ],
   "source": [
    "ds[[\"FB_X\",\"FB_Y\",\"FB_Z\"]]\n",
    "\n",
    "# schweißen\n",
    "plt.figure()\n",
    "ds.trigScan2_fire.dropna(\"time\").plot()\n",
    "ds.trigProgramm.dropna(\"time\").plot()\n",
    "ds.trigSchweissen.dropna(\"time\").plot()\n",
    "#ds.trigScan2_prog.dropna(\"time\").plot()\n",
    "ds.JobBetrieb.dropna(\"time\").plot()\n"
   ]
  },
  {
   "cell_type": "code",
   "execution_count": null,
   "metadata": {},
   "outputs": [],
   "source": [
    "plt.figure()\n",
    "ds.FB_Rz.dropna(\"time\").diff(\"time\").plot()"
   ]
  },
  {
   "cell_type": "code",
   "execution_count": 44,
   "metadata": {},
   "outputs": [
    {
     "data": {
      "text/html": [
       "<pre>&lt;xarray.DataArray &#x27;trigSchweissen&#x27; (time: 102261)&gt;\n",
       "array([nan, nan, nan, ...,  0.,  0., nan])\n",
       "Coordinates:\n",
       "  * time     (time) datetime64[ns] 2020-02-19T15:35:15.151000 ... 2020-02-19T15:36:57.543000\n",
       "Attributes:\n",
       "    SymbolComment:     \n",
       "    DataType:          UINT8\n",
       "    SampleTime:        1.0\n",
       "    VariableSize:      1\n",
       "    SymbolBased:       1\n",
       "    IndexGroup:        16448\n",
       "    IndexOffset:       513978\n",
       "    SymbolName:        MAIN.fbVersuchsstand.fbDX200.trigSchweissen\n",
       "    NetID:             169.254.180.209.1.1\n",
       "    Port:              851\n",
       "    Offset:            0.0\n",
       "    ScaleFactor:       1.0\n",
       "    BitMask:           0xffffffffffffffff\n",
       "    Unit:              (None)\n",
       "    Unit_ScaleFactor:  1\n",
       "    Unit_Offset:       0\n",
       "    TimeUnit:          ms\n",
       "    StartTimeUTC:      2020-02-19 15:35:15.246000\n",
       "    StartTimeUTC_fmt:  %Y-%m-%d %H:%M:%S.%f\n",
       "    count:             102256.0\n",
       "    mean:              0.5771495071193866\n",
       "    std:               0.49401451417129616\n",
       "    min:               0.0\n",
       "    max:               1.0\n",
       "    p25:               0.0\n",
       "    p50:               1.0\n",
       "    p75:               1.0</pre>"
      ],
      "text/plain": [
       "<xarray.DataArray 'trigSchweissen' (time: 102261)>\n",
       "array([nan, nan, nan, ...,  0.,  0., nan])\n",
       "Coordinates:\n",
       "  * time     (time) datetime64[ns] 2020-02-19T15:35:15.151000 ... 2020-02-19T15:36:57.543000\n",
       "Attributes:\n",
       "    SymbolComment:     \n",
       "    DataType:          UINT8\n",
       "    SampleTime:        1.0\n",
       "    VariableSize:      1\n",
       "    SymbolBased:       1\n",
       "    IndexGroup:        16448\n",
       "    IndexOffset:       513978\n",
       "    SymbolName:        MAIN.fbVersuchsstand.fbDX200.trigSchweissen\n",
       "    NetID:             169.254.180.209.1.1\n",
       "    Port:              851\n",
       "    Offset:            0.0\n",
       "    ScaleFactor:       1.0\n",
       "    BitMask:           0xffffffffffffffff\n",
       "    Unit:              (None)\n",
       "    Unit_ScaleFactor:  1\n",
       "    Unit_Offset:       0\n",
       "    TimeUnit:          ms\n",
       "    StartTimeUTC:      2020-02-19 15:35:15.246000\n",
       "    StartTimeUTC_fmt:  %Y-%m-%d %H:%M:%S.%f\n",
       "    count:             102256.0\n",
       "    mean:              0.5771495071193866\n",
       "    std:               0.49401451417129616\n",
       "    min:               0.0\n",
       "    max:               1.0\n",
       "    p25:               0.0\n",
       "    p50:               1.0\n",
       "    p75:               1.0"
      ]
     },
     "execution_count": 44,
     "metadata": {},
     "output_type": "execute_result"
    }
   ],
   "source": [
    "np.argmax(ds.FB_Rz.dropna(\"time\").diff(\"time\").data)\n",
    "ds.trigSchweissen"
   ]
  },
  {
   "cell_type": "code",
   "execution_count": 30,
   "metadata": {},
   "outputs": [
    {
     "data": {
      "text/plain": [
       "array([[  47.188,   47.195,   47.206, ...,   49.738,   49.738,   49.738],\n",
       "       [1045.312, 1045.315, 1045.31 , ..., 1375.272, 1375.272, 1375.272],\n",
       "       [-137.386, -137.452, -137.512, ..., -136.894, -136.894, -136.894]])"
      ]
     },
     "execution_count": 30,
     "metadata": {},
     "output_type": "execute_result"
    }
   ],
   "source": [
    "locations = ds[[\"FB_X\",\"FB_Y\",\"FB_Z\"]].where(ds.trigSchweissen==1).dropna(\"time\").to_array().data\n",
    "#locations = np.array([ds.FB_X.dropna(\"time\").data, ds.FB_Y.dropna(\"time\").data, ds.FB_Z.dropna(\"time\").data], float)\n",
    "locations"
   ]
  },
  {
   "cell_type": "code",
   "execution_count": 6,
   "metadata": {},
   "outputs": [
    {
     "data": {
      "text/plain": [
       "array([[-1.798628e+02, -1.798628e+02, -1.798633e+02, ..., -1.798663e+02,\n",
       "        -1.798663e+02, -1.798663e+02],\n",
       "       [ 1.615000e-01,  1.623000e-01,  1.623000e-01, ...,  1.463000e-01,\n",
       "         1.463000e-01,  1.463000e-01],\n",
       "       [-4.146000e-01, -4.154000e-01, -4.155000e-01, ..., -4.037000e-01,\n",
       "        -4.037000e-01, -4.037000e-01]])"
      ]
     },
     "execution_count": 6,
     "metadata": {},
     "output_type": "execute_result"
    }
   ],
   "source": [
    "rotations = ds[[\"FB_Rx\",\"FB_Ry\",\"FB_Rz\"]].where(ds.trigSchweissen==1).dropna(\"time\").to_array().data\n",
    "rotations"
   ]
  },
  {
   "cell_type": "code",
   "execution_count": 7,
   "metadata": {},
   "outputs": [
    {
     "data": {
      "application/vnd.jupyter.widget-view+json": {
       "model_id": "63ea5b74094c49fa8dcd930ae7bd7e29",
       "version_major": 2,
       "version_minor": 0
      },
      "text/plain": [
       "Canvas(toolbar=Toolbar(toolitems=[('Home', 'Reset original view', 'home', 'home'), ('Back', 'Back to previous …"
      ]
     },
     "metadata": {},
     "output_type": "display_data"
    },
    {
     "data": {
      "text/plain": [
       "[<mpl_toolkits.mplot3d.art3d.Line3D at 0x7f3b48e32350>]"
      ]
     },
     "execution_count": 7,
     "metadata": {},
     "output_type": "execute_result"
    }
   ],
   "source": [
    "#plt.plot(locations[0],locations[1])\n",
    "fig = plt.figure()\n",
    "ax = fig.gca(projection='3d')\n",
    "fig.canvas.layout.height=\"500px\"\n",
    "fig.canvas.layout.width=\"500px\"\n",
    "ax.plot(locations[0], locations[1], locations[2])\n",
    "#vs.set_axes_equal(ax)"
   ]
  },
  {
   "cell_type": "markdown",
   "metadata": {},
   "source": [
    "Define coordinate systems:\n",
    "- `cs_base` is the root coordinate system\n",
    "- `cs_ref` is defined in `cs_base` -> coordinate system created from 3 robot positions\n",
    "- `cs_sp` is defined in `cs_ref` -> specimen coordinate system with x pointing into the direction of the trace\n",
    "\n",
    "Important note: Measured data is not perfectly orthogonal. We use the cross product to get a z axis which is perfectly orthogonal (in floating point precision) and recalculate a perfectly orthogonal y-axis. There are certainly better ways to adress this problem."
   ]
  },
  {
   "cell_type": "code",
   "execution_count": 8,
   "metadata": {},
   "outputs": [],
   "source": [
    "origin = ut.to_float_array([67.311, 1055.137, -132.694])\n",
    "offset_ox = ut.to_float_array([157.345, 1054.486,-132.949 ])\n",
    "offset_oy = ut.to_float_array([69.149, 1366.014, -131.962]) \n",
    "\n",
    "vec_x = offset_ox - origin\n",
    "vec_y = offset_oy - origin\n",
    "vec_z = np.cross(vec_x, vec_y)\n",
    "\n",
    "cs_ref = tf.LocalCoordinateSystem.construct_from_xz_and_orientation(vec_x=vec_x, vec_z=vec_z, origin=origin)\n",
    "cs_sp = tf.LocalCoordinateSystem(basis=tf.rotation_matrix_z(np.pi/2),origin=[-20, -10 ,-8])\n",
    "\n",
    "cs_sp_in_base = cs_sp + cs_ref"
   ]
  },
  {
   "cell_type": "markdown",
   "metadata": {},
   "source": [
    "Transform movement data to specimen coordinate system:"
   ]
  },
  {
   "cell_type": "code",
   "execution_count": 9,
   "metadata": {},
   "outputs": [
    {
     "data": {
      "application/vnd.jupyter.widget-view+json": {
       "model_id": "15eb40f0e2cd41cf9f91bbc5f04080f0",
       "version_major": 2,
       "version_minor": 0
      },
      "text/plain": [
       "Canvas(toolbar=Toolbar(toolitems=[('Home', 'Reset original view', 'home', 'home'), ('Back', 'Back to previous …"
      ]
     },
     "metadata": {},
     "output_type": "display_data"
    }
   ],
   "source": [
    "locations_sp = np.matmul(cs_sp_in_base.orientation.transpose(),locations- cs_sp_in_base.location[:,np.newaxis]) \n",
    "\n",
    "fig2 = plt.figure()\n",
    "ax2 = fig2.gca(projection='3d')\n",
    "fig2.canvas.layout.height=\"500px\"\n",
    "fig2.canvas.layout.width=\"500px\"\n",
    "ax2.plot(locations_sp[0], locations_sp[1], locations_sp[2])\n",
    "ax2.set_xlabel(\"x\")\n",
    "ax2.set_ylabel(\"y\")\n",
    "ax2.set_zlabel(\"z\")\n",
    "vs.set_axes_equal(ax2)"
   ]
  },
  {
   "cell_type": "raw",
   "metadata": {},
   "source": [
    "Create profiles "
   ]
  },
  {
   "cell_type": "code",
   "execution_count": 10,
   "metadata": {},
   "outputs": [
    {
     "data": {
      "application/vnd.jupyter.widget-view+json": {
       "model_id": "eba1b6dfc4634fca9a55506f87bd8739",
       "version_major": 2,
       "version_minor": 0
      },
      "text/plain": [
       "Canvas(toolbar=Toolbar(toolitems=[('Home', 'Reset original view', 'home', 'home'), ('Back', 'Back to previous …"
      ]
     },
     "metadata": {},
     "output_type": "display_data"
    },
    {
     "data": {
      "text/plain": [
       "<matplotlib.legend.Legend at 0x7f3b4502e410>"
      ]
     },
     "execution_count": 10,
     "metadata": {},
     "output_type": "execute_result"
    }
   ],
   "source": [
    "# create points\n",
    "p_0 = [40, 8]\n",
    "p_1_1 = [np.tan(3/18 *np.pi)*8, 8]\n",
    "p_1_2 = [np.tan(2/18 *np.pi)*8, 8]\n",
    "p_2 = [0, 0]\n",
    "p_3 = [40, 0]\n",
    "\n",
    "# create shapes\n",
    "s_p1_r = geo.Shape().add_line_segments([p_0, p_1_1, p_2])\n",
    "s_p2_r = geo.Shape().add_line_segments([p_0, p_1_2, p_2])\n",
    "s_p1_l = s_p1_r.reflect([1, 0])\n",
    "s_p2_l = s_p2_r.reflect([1, 0])\n",
    "\n",
    "# create profiles\n",
    "p_1 = geo.Profile([s_p1_l, s_p1_r])\n",
    "p_2 = geo.Profile([s_p2_l, s_p2_r])\n",
    "\n",
    "# rasterize and plot profiles\n",
    "data_p_1 = p_1.rasterize(1)\n",
    "data_p_2 = p_2.rasterize(1)\n",
    "\n",
    "fig3 = plt.figure()\n",
    "plt.plot(data_p_1[0], data_p_1[1], \"ro\", label=\"profile 1\")\n",
    "plt.plot(data_p_2[0], data_p_2[1], \"bo\", label=\"profile 2\")\n",
    "plt.legend()\n"
   ]
  },
  {
   "cell_type": "markdown",
   "metadata": {},
   "source": [
    "Create variable profile, trace and geometry"
   ]
  },
  {
   "cell_type": "code",
   "execution_count": 11,
   "metadata": {},
   "outputs": [],
   "source": [
    "vp = geo.VariableProfile([p_1, p_2], [0, 1],[geo.linear_profile_interpolation_sbs])\n",
    "trace = geo.Trace(geo.LinearHorizontalTraceSegment(350))\n",
    "\n",
    "g_0 = geo.Geometry(vp,trace)"
   ]
  },
  {
   "cell_type": "code",
   "execution_count": 12,
   "metadata": {},
   "outputs": [],
   "source": [
    "data_g_0 = g_0.rasterize(profile_raster_width=4, trace_raster_width=4)"
   ]
  },
  {
   "cell_type": "markdown",
   "metadata": {},
   "source": [
    "Plot everything together"
   ]
  },
  {
   "cell_type": "code",
   "execution_count": 13,
   "metadata": {},
   "outputs": [
    {
     "data": {
      "application/vnd.jupyter.widget-view+json": {
       "model_id": "13da70847bbe4bdeab5655a014b4a311",
       "version_major": 2,
       "version_minor": 0
      },
      "text/plain": [
       "Canvas(toolbar=Toolbar(toolitems=[('Home', 'Reset original view', 'home', 'home'), ('Back', 'Back to previous …"
      ]
     },
     "metadata": {},
     "output_type": "display_data"
    },
    {
     "data": {
      "text/plain": [
       "Text(0.5, 0, 'z')"
      ]
     },
     "execution_count": 13,
     "metadata": {},
     "output_type": "execute_result"
    }
   ],
   "source": [
    "fig4 = plt.figure()\n",
    "ax4 = fig4.gca(projection='3d')\n",
    "fig4.canvas.layout.height=\"1500px\"\n",
    "fig4.canvas.layout.width=\"1500px\"\n",
    "ax4.plot(locations_sp[0], locations_sp[1], locations_sp[2], \"b\")\n",
    "ax4.plot(data_g_0[0], data_g_0[1], data_g_0[2], \"xr\")\n",
    "ax4.set_xlabel(\"x\")\n",
    "ax4.set_ylabel(\"y\")\n",
    "ax4.set_zlabel(\"z\")\n",
    "#vs.set_axes_equal(ax4)"
   ]
  },
  {
   "cell_type": "code",
   "execution_count": 14,
   "metadata": {},
   "outputs": [],
   "source": [
    "scan_L0 = libo.io.tools.merge_scan_tcp(scan=17507,tcp=17518)"
   ]
  },
  {
   "cell_type": "code",
   "execution_count": null,
   "metadata": {},
   "outputs": [],
   "source": []
  },
  {
   "cell_type": "code",
   "execution_count": 15,
   "metadata": {},
   "outputs": [
    {
     "data": {
      "text/html": [
       "<pre>&lt;xarray.DataArray &#x27;scan_tcp&#x27; (profile: 1598, tcp_variable: 6)&gt;\n",
       "array([[ 4.70801250e+01,  1.02531125e+03, -1.17707875e+02,\n",
       "        -1.79865300e+02,  1.62400000e-01,  8.95856000e+01],\n",
       "       [ 4.70817500e+01,  1.02550100e+03, -1.17707000e+02,\n",
       "        -1.79865300e+02,  1.62400000e-01,  8.95856000e+01],\n",
       "       [ 4.70836250e+01,  1.02573100e+03, -1.17707000e+02,\n",
       "        -1.79865300e+02,  1.62400000e-01,  8.95856000e+01],\n",
       "       ...,\n",
       "       [ 4.97393750e+01,  1.39257000e+03, -1.16844000e+02,\n",
       "        -1.79865300e+02,  1.62400000e-01,  8.95856000e+01],\n",
       "       [ 4.97406250e+01,  1.39280000e+03, -1.16844000e+02,\n",
       "        -1.79865300e+02,  1.62400000e-01,  8.95856000e+01],\n",
       "       [ 4.97427500e+01,  1.39303000e+03, -1.16843125e+02,\n",
       "        -1.79865300e+02,  1.62400000e-01,  8.95856000e+01]])\n",
       "Coordinates:\n",
       "  * profile       (profile) uint64 1 2 3 4 5 6 ... 1595 1596 1597 1598 1599 1600\n",
       "    time          (profile) datetime64[ns] 2020-02-19T15:31:20.263000 ... 2020-02-19T15:31:36.253000\n",
       "  * tcp_variable  (tcp_variable) &lt;U2 &#x27;X&#x27; &#x27;Y&#x27; &#x27;Z&#x27; &#x27;Rx&#x27; &#x27;Ry&#x27; &#x27;Rz&#x27;\n",
       "Attributes:\n",
       "    scopeName:         TC3 Export Tool\n",
       "    svdFile:           D:\\Messdaten\\2020_02_19_16_31_38_MH24_MAIN_AutoSave.txt\n",
       "    StartTimeTC3:      132265997981750000\n",
       "    EndTimeTC3:        132265998980700000\n",
       "    RunTime:           99.895\n",
       "    StartTime:         2020-02-19 16:29:58.175000 +0100\n",
       "    EndTime:           2020-02-19 16:31:38.070000 +0100\n",
       "    hostname:          WS7096\n",
       "    version:           0.2.2\n",
       "    TC3Import:         Python3\n",
       "    filename:          \n",
       "    filepath:          \n",
       "    RunTime_TimeUnit:  s\n",
       "    file_id:           17518</pre>"
      ],
      "text/plain": [
       "<xarray.DataArray 'scan_tcp' (profile: 1598, tcp_variable: 6)>\n",
       "array([[ 4.70801250e+01,  1.02531125e+03, -1.17707875e+02,\n",
       "        -1.79865300e+02,  1.62400000e-01,  8.95856000e+01],\n",
       "       [ 4.70817500e+01,  1.02550100e+03, -1.17707000e+02,\n",
       "        -1.79865300e+02,  1.62400000e-01,  8.95856000e+01],\n",
       "       [ 4.70836250e+01,  1.02573100e+03, -1.17707000e+02,\n",
       "        -1.79865300e+02,  1.62400000e-01,  8.95856000e+01],\n",
       "       ...,\n",
       "       [ 4.97393750e+01,  1.39257000e+03, -1.16844000e+02,\n",
       "        -1.79865300e+02,  1.62400000e-01,  8.95856000e+01],\n",
       "       [ 4.97406250e+01,  1.39280000e+03, -1.16844000e+02,\n",
       "        -1.79865300e+02,  1.62400000e-01,  8.95856000e+01],\n",
       "       [ 4.97427500e+01,  1.39303000e+03, -1.16843125e+02,\n",
       "        -1.79865300e+02,  1.62400000e-01,  8.95856000e+01]])\n",
       "Coordinates:\n",
       "  * profile       (profile) uint64 1 2 3 4 5 6 ... 1595 1596 1597 1598 1599 1600\n",
       "    time          (profile) datetime64[ns] 2020-02-19T15:31:20.263000 ... 2020-02-19T15:31:36.253000\n",
       "  * tcp_variable  (tcp_variable) <U2 'X' 'Y' 'Z' 'Rx' 'Ry' 'Rz'\n",
       "Attributes:\n",
       "    scopeName:         TC3 Export Tool\n",
       "    svdFile:           D:\\Messdaten\\2020_02_19_16_31_38_MH24_MAIN_AutoSave.txt\n",
       "    StartTimeTC3:      132265997981750000\n",
       "    EndTimeTC3:        132265998980700000\n",
       "    RunTime:           99.895\n",
       "    StartTime:         2020-02-19 16:29:58.175000 +0100\n",
       "    EndTime:           2020-02-19 16:31:38.070000 +0100\n",
       "    hostname:          WS7096\n",
       "    version:           0.2.2\n",
       "    TC3Import:         Python3\n",
       "    filename:          \n",
       "    filepath:          \n",
       "    RunTime_TimeUnit:  s\n",
       "    file_id:           17518"
      ]
     },
     "execution_count": 15,
     "metadata": {},
     "output_type": "execute_result"
    }
   ],
   "source": [
    "scan_L0.scan_tcp"
   ]
  },
  {
   "cell_type": "code",
   "execution_count": 16,
   "metadata": {},
   "outputs": [],
   "source": [
    "angles = scan_L0.scan_tcp.sel(tcp_variable=[\"Rx\",\"Ry\",\"Rz\"]).data"
   ]
  },
  {
   "cell_type": "code",
   "execution_count": 17,
   "metadata": {},
   "outputs": [],
   "source": [
    "rotation_matrices = rot.from_euler(angles=angles,seq=\"xyz\",degrees=True).as_dcm()"
   ]
  },
  {
   "cell_type": "code",
   "execution_count": 18,
   "metadata": {},
   "outputs": [],
   "source": [
    "locations = scan_L0.scan_tcp.sel(tcp_variable=[\"X\",\"Y\",\"Z\"]).data"
   ]
  },
  {
   "cell_type": "code",
   "execution_count": 19,
   "metadata": {},
   "outputs": [
    {
     "data": {
      "text/plain": [
       "array([2.79483357e+02, 5.58452886e-02, 2.29997900e+01])"
      ]
     },
     "execution_count": 19,
     "metadata": {},
     "output_type": "execute_result"
    }
   ],
   "source": [
    "idx = 1300\n",
    "\n",
    "cs_scan_0 = tf.LocalCoordinateSystem(basis=rotation_matrices[idx], origin = locations[idx])\n",
    "cs_scan_0_in_sp = cs_scan_0 - cs_ref - cs_sp\n",
    "cs_scan_0_in_sp.origin"
   ]
  },
  {
   "cell_type": "code",
   "execution_count": 20,
   "metadata": {},
   "outputs": [
    {
     "data": {
      "text/html": [
       "<pre>&lt;xarray.DataArray &#x27;scan_tcp&#x27; (tcp_variable: 6)&gt;\n",
       "array([ 4.807775e+01,  1.163037e+03, -1.173840e+02, -1.798653e+02,\n",
       "        1.624000e-01,  8.958560e+01])\n",
       "Coordinates:\n",
       "    profile       uint64 600\n",
       "    time          datetime64[ns] 2020-02-19T15:31:26.253000\n",
       "  * tcp_variable  (tcp_variable) &lt;U2 &#x27;X&#x27; &#x27;Y&#x27; &#x27;Z&#x27; &#x27;Rx&#x27; &#x27;Ry&#x27; &#x27;Rz&#x27;\n",
       "Attributes:\n",
       "    scopeName:         TC3 Export Tool\n",
       "    svdFile:           D:\\Messdaten\\2020_02_19_16_31_38_MH24_MAIN_AutoSave.txt\n",
       "    StartTimeTC3:      132265997981750000\n",
       "    EndTimeTC3:        132265998980700000\n",
       "    RunTime:           99.895\n",
       "    StartTime:         2020-02-19 16:29:58.175000 +0100\n",
       "    EndTime:           2020-02-19 16:31:38.070000 +0100\n",
       "    hostname:          WS7096\n",
       "    version:           0.2.2\n",
       "    TC3Import:         Python3\n",
       "    filename:          \n",
       "    filepath:          \n",
       "    RunTime_TimeUnit:  s\n",
       "    file_id:           17518</pre>"
      ],
      "text/plain": [
       "<xarray.DataArray 'scan_tcp' (tcp_variable: 6)>\n",
       "array([ 4.807775e+01,  1.163037e+03, -1.173840e+02, -1.798653e+02,\n",
       "        1.624000e-01,  8.958560e+01])\n",
       "Coordinates:\n",
       "    profile       uint64 600\n",
       "    time          datetime64[ns] 2020-02-19T15:31:26.253000\n",
       "  * tcp_variable  (tcp_variable) <U2 'X' 'Y' 'Z' 'Rx' 'Ry' 'Rz'\n",
       "Attributes:\n",
       "    scopeName:         TC3 Export Tool\n",
       "    svdFile:           D:\\Messdaten\\2020_02_19_16_31_38_MH24_MAIN_AutoSave.txt\n",
       "    StartTimeTC3:      132265997981750000\n",
       "    EndTimeTC3:        132265998980700000\n",
       "    RunTime:           99.895\n",
       "    StartTime:         2020-02-19 16:29:58.175000 +0100\n",
       "    EndTime:           2020-02-19 16:31:38.070000 +0100\n",
       "    hostname:          WS7096\n",
       "    version:           0.2.2\n",
       "    TC3Import:         Python3\n",
       "    filename:          \n",
       "    filepath:          \n",
       "    RunTime_TimeUnit:  s\n",
       "    file_id:           17518"
      ]
     },
     "execution_count": 20,
     "metadata": {},
     "output_type": "execute_result"
    }
   ],
   "source": [
    "scan_L0.sel(profile=600).scan_tcp"
   ]
  },
  {
   "cell_type": "code",
   "execution_count": 21,
   "metadata": {},
   "outputs": [
    {
     "data": {
      "application/vnd.jupyter.widget-view+json": {
       "model_id": "41c970f5be7e4eb99f22b30f3bbf9a18",
       "version_major": 2,
       "version_minor": 0
      },
      "text/plain": [
       "Canvas(toolbar=Toolbar(toolitems=[('Home', 'Reset original view', 'home', 'home'), ('Back', 'Back to previous …"
      ]
     },
     "metadata": {},
     "output_type": "display_data"
    },
    {
     "data": {
      "text/plain": [
       "(-10, 10)"
      ]
     },
     "execution_count": 21,
     "metadata": {},
     "output_type": "execute_result"
    }
   ],
   "source": [
    "scan_data = scan_L0.scan_line.sel(profile = idx + 1).data.transpose()\n",
    "\n",
    "fig = plt.figure()\n",
    "plt.plot(scan_data[1],scan_data[2])\n",
    "plt.xlim([-10,10])"
   ]
  },
  {
   "cell_type": "code",
   "execution_count": 22,
   "metadata": {},
   "outputs": [
    {
     "data": {
      "text/plain": [
       "array([[ 9.99986557e-01, -7.70089743e-06,  5.18522090e-03],\n",
       "       [-1.01961915e-05, -9.99999884e-01,  4.81205715e-04],\n",
       "       [-5.18521659e-03,  4.81252116e-04,  9.99986441e-01]])"
      ]
     },
     "execution_count": 22,
     "metadata": {},
     "output_type": "execute_result"
    }
   ],
   "source": [
    "cs_profile = tf.LocalCoordinateSystem(basis = [[1,0,0],[0,1,0],[0,0,-1]],origin=[0,0,260])\n",
    "cs_profile_in_sp = cs_profile + cs_scan_0_in_sp\n",
    "cs_profile_in_sp.orientation"
   ]
  },
  {
   "cell_type": "code",
   "execution_count": 23,
   "metadata": {},
   "outputs": [],
   "source": [
    "#scan_data_sp = np.matmul(cs_profile_in_sp.orientation.transpose(),scan_data - cs_profile_in_sp.location[:,np.newaxis])\n",
    "scan_data_sp = np.matmul(cs_profile_in_sp.orientation,scan_data) + cs_profile_in_sp.location[:,np.newaxis]"
   ]
  },
  {
   "cell_type": "code",
   "execution_count": 24,
   "metadata": {},
   "outputs": [
    {
     "data": {
      "application/vnd.jupyter.widget-view+json": {
       "model_id": "4392653fc3984a69b23d8c5f9e17c4da",
       "version_major": 2,
       "version_minor": 0
      },
      "text/plain": [
       "Canvas(toolbar=Toolbar(toolitems=[('Home', 'Reset original view', 'home', 'home'), ('Back', 'Back to previous …"
      ]
     },
     "metadata": {},
     "output_type": "display_data"
    },
    {
     "name": "stderr",
     "output_type": "stream",
     "text": [
      "/opt/tljh/user/envs/libo/lib/python3.7/site-packages/ipykernel_launcher.py:7: MatplotlibDeprecationWarning: Passing True to mean 'average' for set_zsort is deprecated and support will be removed in Matplotlib 3.3; pass 'average' instead.\n",
      "  import sys\n"
     ]
    },
    {
     "data": {
      "text/plain": [
       "[<mpl_toolkits.mplot3d.art3d.Line3D at 0x7f3b44f37e90>]"
      ]
     },
     "execution_count": 24,
     "metadata": {},
     "output_type": "execute_result"
    }
   ],
   "source": [
    "fig6 = plt.figure()\n",
    "ax6 = fig6.gca(projection='3d')\n",
    "fig6.canvas.layout.height=\"1000px\"\n",
    "fig6.canvas.layout.width=\"1000px\"\n",
    "ax6.plot(locations_sp[0], locations_sp[1], locations_sp[2], \"oy\")\n",
    "#ax6.plot(data_g_0[0], data_g_0[1], data_g_0[2], \",k\")\n",
    "ax6.plot_trisurf(data_g_0[0], data_g_0[1], data_g_0[2], color=\"y\", zsort=True)\n",
    "#vs.plot_coordinate_system(cs_profile_in_sp,ax6)\n",
    "ax6.set_xlabel(\"x\")\n",
    "ax6.set_ylabel(\"y\")\n",
    "ax6.set_zlabel(\"z\")\n",
    "ax6.plot(scan_data_sp[0], scan_data_sp[1], scan_data_sp[2], \"r\")\n",
    "#vs.set_axes_equal(ax6)\n"
   ]
  },
  {
   "cell_type": "code",
   "execution_count": 25,
   "metadata": {},
   "outputs": [],
   "source": [
    "tri = Delaunay(data_g_0.transpose()[:,:2])\n",
    "triangles = tri.simplices"
   ]
  },
  {
   "cell_type": "code",
   "execution_count": 26,
   "metadata": {},
   "outputs": [
    {
     "data": {
      "text/plain": [
       "array([[[  0.        ,  36.06875579,   8.        ],\n",
       "        [  3.97727273,  40.        ,   8.        ],\n",
       "        [  0.        ,  40.        ,   8.        ]],\n",
       "\n",
       "       [[  3.97727273,  24.26640176,   8.        ],\n",
       "        [  0.        ,  20.34377897,   8.        ],\n",
       "        [  3.97727273,  20.3330022 ,   8.        ]],\n",
       "\n",
       "       [[290.34090909, -11.37990473,   8.        ],\n",
       "        [286.36363636,  -7.30856252,   8.        ],\n",
       "        [286.36363636, -11.3949922 ,   8.        ]],\n",
       "\n",
       "       ...,\n",
       "\n",
       "       [[214.77272727,  15.71420011,   8.        ],\n",
       "        [218.75      ,  15.70126799,   8.        ],\n",
       "        [218.75      ,  19.75105665,   8.        ]],\n",
       "\n",
       "       [[222.72727273,  19.74027989,   8.        ],\n",
       "        [218.75      ,  15.70126799,   8.        ],\n",
       "        [222.72727273,  15.68833586,   8.        ]],\n",
       "\n",
       "       [[218.75      ,  15.70126799,   8.        ],\n",
       "        [222.72727273,  19.74027989,   8.        ],\n",
       "        [218.75      ,  19.75105665,   8.        ]]])"
      ]
     },
     "execution_count": 26,
     "metadata": {},
     "output_type": "execute_result"
    }
   ],
   "source": [
    "triangle_points = data_g_0.transpose()[triangles]\n",
    "x = data_g_0[0]\n",
    "y = data_g_0[1]\n",
    "z = data_g_0[2]\n",
    "triangle_points"
   ]
  },
  {
   "cell_type": "code",
   "execution_count": 27,
   "metadata": {},
   "outputs": [
    {
     "data": {
      "application/vnd.jupyter.widget-view+json": {
       "model_id": "ceeb596defcb43659f5572d006713bc9",
       "version_major": 2,
       "version_minor": 0
      },
      "text/plain": [
       "VBox(children=(Figure(camera=PerspectiveCamera(fov=46.0, position=(0.0, 0.0, 2.0), quaternion=(0.0, 0.0, 0.0, …"
      ]
     },
     "metadata": {},
     "output_type": "display_data"
    }
   ],
   "source": [
    "ipv.figure()\n",
    "# we draw the tetrahedron\n",
    "mesh = ipv.plot_trisurf(x, y, z, triangles=triangles, color= [0.6,0.6,0.6])\n",
    "ipv.scatter(locations_sp[0], locations_sp[1], locations_sp[2], size=1, marker=\"sphere\", color=[0.3,0.9,0.7])\n",
    "ipv.scatter(scan_data_sp[0], scan_data_sp[1], scan_data_sp[2], size=1, marker=\"sphere\", color='red')\n",
    "ipv.xlim(0,350)\n",
    "ipv.ylim(-30,30)\n",
    "ipv.zlim(-10,30)\n",
    "ipv.show()"
   ]
  },
  {
   "cell_type": "code",
   "execution_count": 28,
   "metadata": {},
   "outputs": [
    {
     "data": {
      "application/vnd.jupyter.widget-view+json": {
       "model_id": "3705c8d2ca064224a60fd730b69b923d",
       "version_major": 2,
       "version_minor": 0
      },
      "text/plain": [
       "VBox(children=(Figure(camera=PerspectiveCamera(fov=46.0, position=(0.0, 0.0, 2.0), quaternion=(0.0, 0.0, 0.0, …"
      ]
     },
     "metadata": {},
     "output_type": "display_data"
    }
   ],
   "source": [
    "import ipyvolume as ipv\n",
    "x, y, z, u, v = ipv.examples.klein_bottle(draw=False)\n",
    "ipv.figure()\n",
    "m = ipv.plot_mesh(x, y, z, wireframe=False)\n",
    "ipv.squarelim()\n",
    "ipv.show()"
   ]
  },
  {
   "cell_type": "code",
   "execution_count": null,
   "metadata": {},
   "outputs": [],
   "source": []
  }
 ],
 "metadata": {
  "kernelspec": {
   "display_name": "libo",
   "language": "python",
   "name": "libo"
  },
  "language_info": {
   "codemirror_mode": {
    "name": "ipython",
    "version": 3
   },
   "file_extension": ".py",
   "mimetype": "text/x-python",
   "name": "python",
   "nbconvert_exporter": "python",
   "pygments_lexer": "ipython3",
   "version": "3.7.6"
  }
 },
 "nbformat": 4,
 "nbformat_minor": 4
}
