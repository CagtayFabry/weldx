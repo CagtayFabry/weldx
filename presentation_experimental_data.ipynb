{
 "cells": [
  {
   "cell_type": "code",
   "execution_count": 1,
   "metadata": {},
   "outputs": [],
   "source": [
    "%matplotlib widget"
   ]
  },
  {
   "cell_type": "code",
   "execution_count": 2,
   "metadata": {},
   "outputs": [],
   "source": [
    "import numpy as np\n",
    "import ipyvolume as ipv\n",
    "from scipy.spatial import Delaunay\n",
    "from scipy.spatial.transform import Rotation as rot\n",
    "\n",
    "# plotting\n",
    "from mpl_toolkits.mplot3d import Axes3D  # noqa: F401 unused import\n",
    "import matplotlib.pyplot as plt\n",
    "\n",
    "# interactive plots\n",
    "import ipywidgets as widgets\n",
    "\n",
    "from ipywidgets import VBox, HBox, IntSlider, Checkbox, interactive_output, FloatSlider\n",
    "from IPython.display import display\n",
    "\n",
    "import libo\n",
    "from libo.io import tc3\n",
    "\n",
    "import weldx.geometry as geo\n",
    "import weldx.transformations as tf\n",
    "import weldx.utility as ut\n",
    "import weldx.visualization as vs"
   ]
  },
  {
   "cell_type": "markdown",
   "metadata": {},
   "source": [
    "# Setup"
   ]
  },
  {
   "cell_type": "code",
   "execution_count": 3,
   "metadata": {},
   "outputs": [],
   "source": [
    "system_data_index = 17519\n",
    "scan_data_scan_idx = 17507\n",
    "scan_data_tcp_idx = 17518\n",
    "\n",
    "profile_raster_width = 4\n",
    "trace_raster_width = 4"
   ]
  },
  {
   "cell_type": "markdown",
   "metadata": {},
   "source": [
    "# Import and process experimental data"
   ]
  },
  {
   "cell_type": "code",
   "execution_count": 4,
   "metadata": {},
   "outputs": [],
   "source": [
    "# import machine data\n",
    "ds_system_data_base = tc3.to_xarray(tc3.read_db(system_data_index))\n",
    "\n",
    "# import scan data\n",
    "scan_data_layer_0 = libo.io.tools.merge_scan_tcp(scan=scan_data_scan_idx, tcp=17518)\n",
    "\n",
    "# extract system movement data\n",
    "ds_movement_data = ds_system_data_base[[\"FB_X\", \"FB_Y\", \"FB_Z\", \"FB_Rx\", \"FB_Ry\", \"FB_Rz\"]]\n",
    "\n",
    "# extract welding movement data\n",
    "ds_welding_movement_data = ds_movement_data.where(ds_system_data_base.trigSchweissen == 1).dropna(\"time\")\n",
    "welding_coordinates_base = ds_welding_movement_data.to_array().data[:3, :]\n",
    "welding_angles_degree_base = ds_welding_movement_data.to_array().data[3:, :]\n",
    "\n",
    "# extract scanner movement data\n",
    "scanner_tcp_layer_0_coordinates_base = scan_data_layer_0.scan_tcp.sel(tcp_variable=[\"X\", \"Y\", \"Z\"]).data\n",
    "scanner_tcp_layer_0_angles_degree_base = scan_data_layer_0.scan_tcp.sel(tcp_variable=[\"Rx\", \"Ry\", \"Rz\"]).data"
   ]
  },
  {
   "cell_type": "markdown",
   "metadata": {},
   "source": [
    "# Define coordinate systems\n",
    "\n",
    "- `cs_base` is the root coordinate system\n",
    "- `cs_ref` is defined in `cs_base` -> coordinate system created from 3 robot positions\n",
    "- `cs_sp` is defined in `cs_ref` -> specimen coordinate system with x pointing into the direction of the trace\n",
    "\n",
    "All data will be transformed to the specimens coordinate system. Data which is not defined in the specimen coordinate system gets the corresponing coordinate system's suffix attached to the variable name\n",
    "\n",
    "Important note: Measured data is not perfectly orthogonal. We use the cross product to get a z axis which is perfectly orthogonal (in floating point precision) and recalculate a perfectly orthogonal y-axis. There are certainly better ways to address this problem."
   ]
  },
  {
   "cell_type": "code",
   "execution_count": 5,
   "metadata": {},
   "outputs": [],
   "source": [
    "# measured reference coordinate system data\n",
    "origin = ut.to_float_array([67.311, 1055.137, -132.694])\n",
    "offset_ox = ut.to_float_array([157.345, 1054.486, -132.949])\n",
    "offset_oy = ut.to_float_array([69.149, 1366.014, -131.962])\n",
    "\n",
    "# Calculate orthogonal z axis and construct reference coordinate system from x and z axis\n",
    "vec_x = offset_ox - origin\n",
    "vec_y = offset_oy - origin\n",
    "vec_z = np.cross(vec_x, vec_y)\n",
    "cs_ref_in_base = tf.LocalCoordinateSystem.construct_from_xz_and_orientation(vec_x=vec_x, vec_z=vec_z, origin=origin)\n",
    "\n",
    "\n",
    "orientation_scanner_tcp_in_flange = rot.from_euler(angles=[21.9714, -0.7410, -89.7500], seq=\"xyz\", degrees=True).as_dcm()\n",
    "orientation_torch_tcp_in_flange = rot.from_euler(angles=[-22.0474,0.5659,90.7092], seq=\"xyz\", degrees=True).as_dcm()\n",
    "\n",
    "# create constant coordinate systems\n",
    "cs_sp_in_ref = tf.LocalCoordinateSystem(basis=tf.rotation_matrix_z(np.pi / 2), origin=[-20, -10, -8])\n",
    "cs_sp_in_base = cs_sp_in_ref + cs_ref_in_base\n",
    "cs_torch_tcp_in_flange = tf.LocalCoordinateSystem(basis=orientation_torch_tcp_in_flange, origin = [-49.325,-0.410,477.208])\n",
    "cs_scanner_tcp_in_flange = tf.LocalCoordinateSystem(basis=orientation_scanner_tcp_in_flange, origin = [-47.949,-105.258,479.690])\n",
    "cs_scan_in_scanner_tcp = tf.LocalCoordinateSystem(basis=[[1, 0, 0], [0, 1, 0], [0, 0, -1]], origin=[0, 0, 260])\n",
    "cs_scanner_tcp_in_torch_tcp = cs_scanner_tcp_in_flange - cs_torch_tcp_in_flange\n",
    "cs_torch_tcp_in_scanner_tcp =  cs_torch_tcp_in_flange - cs_scanner_tcp_in_flange\n",
    "\n",
    "\n",
    "# create time dependent scanner coordinate systems\n",
    "num_scans_layer_0 = scanner_tcp_layer_0_coordinates_base.shape[0]\n",
    "scanner_tcp_layer_0_rotation_matrices_base = rot.from_euler(\n",
    "    angles=scanner_tcp_layer_0_angles_degree_base, seq=\"xyz\", degrees=True\n",
    ").as_dcm()\n",
    "cs_array_scan_layer_0_in_sp = []\n",
    "cs_array_scanner_tcp_layer_0_in_base = []\n",
    "cs_array_scanner_tcp_layer_0_in_sp = []\n",
    "for i in range(num_scans_layer_0):\n",
    "    orientation = scanner_tcp_layer_0_rotation_matrices_base[i]\n",
    "    coordinates = scanner_tcp_layer_0_coordinates_base[i]\n",
    "    cs_array_scanner_tcp_layer_0_in_base += [tf.LocalCoordinateSystem(basis=orientation, origin=coordinates)]\n",
    "    cs_array_scanner_tcp_layer_0_in_sp += [cs_array_scanner_tcp_layer_0_in_base[i] - cs_ref_in_base - cs_sp_in_ref]\n",
    "    cs_array_scan_layer_0_in_sp += [cs_scan_in_scanner_tcp + cs_array_scanner_tcp_layer_0_in_sp[i]]"
   ]
  },
  {
   "cell_type": "markdown",
   "metadata": {},
   "source": [
    "# Define data transformations"
   ]
  },
  {
   "cell_type": "code",
   "execution_count": 6,
   "metadata": {},
   "outputs": [],
   "source": [
    "def coordinates_to_specimen_from_base(coordinates):\n",
    "    rotation = cs_sp_in_base.orientation.transpose()\n",
    "    translation = cs_sp_in_base.location[:, np.newaxis]\n",
    "    return np.matmul(rotation, coordinates - translation)\n",
    "\n",
    "\n",
    "def coordinates_to_child_from_parent(coordinates, cs_child):\n",
    "    rotation = cs_child.orientation.transpose()\n",
    "    translation = cs_child.location[:, np.newaxis]\n",
    "    return np.matmul(rotation, coordinates - translation)\n",
    "\n",
    "\n",
    "def coordinates_to_parent_from_child(coordinates, cs_child):\n",
    "    rotation = cs_child.orientation\n",
    "    translation = cs_child.location[:, np.newaxis]\n",
    "    return np.matmul(rotation, coordinates) + translation"
   ]
  },
  {
   "cell_type": "markdown",
   "metadata": {},
   "source": [
    "# Transform data to specimen coordinate system"
   ]
  },
  {
   "cell_type": "code",
   "execution_count": 7,
   "metadata": {},
   "outputs": [],
   "source": [
    "welding_coordinates_sp = coordinates_to_child_from_parent(welding_coordinates_base, cs_sp_in_base)\n",
    "\n",
    "scanned_profiles_layer_0_sp = []\n",
    "for i in range(num_scans_layer_0):\n",
    "    scanned_profile_scan = scan_data_layer_0.scan_line.data[i].transpose()\n",
    "    scanned_profiles_layer_0_sp += [\n",
    "        coordinates_to_parent_from_child(scanned_profile_scan, cs_array_scan_layer_0_in_sp[i])\n",
    "    ]"
   ]
  },
  {
   "cell_type": "markdown",
   "metadata": {},
   "source": [
    "# Create theoretical geometry"
   ]
  },
  {
   "cell_type": "code",
   "execution_count": 8,
   "metadata": {},
   "outputs": [],
   "source": [
    "# create points\n",
    "pt_0 = [40, 8]\n",
    "pt_1_1 = [np.tan(2 / 18 * np.pi) * 8, 8]\n",
    "pt_1_2 = [np.tan(3 / 18 * np.pi) * 8, 8]\n",
    "pt_2 = [0, 0]\n",
    "pt_3 = [40, 0]\n",
    "\n",
    "# create shapes\n",
    "shape_p1_r = geo.Shape().add_line_segments([pt_0, pt_1_1, pt_2])\n",
    "shape_p2_r = geo.Shape().add_line_segments([pt_0, pt_1_2, pt_2])\n",
    "shape_p1_l = shape_p1_r.reflect([1, 0])\n",
    "shape_p2_l = shape_p2_r.reflect([1, 0])\n",
    "\n",
    "# create profiles\n",
    "profile_1 = geo.Profile([shape_p1_l, shape_p1_r])\n",
    "profile_2 = geo.Profile([shape_p2_l, shape_p2_r])\n",
    "\n",
    "# create variable profile\n",
    "variable_profile = geo.VariableProfile([profile_1, profile_2], [0, 1], [geo.linear_profile_interpolation_sbs])\n",
    "\n",
    "# create trace\n",
    "trace = geo.Trace(geo.LinearHorizontalTraceSegment(350))\n",
    "\n",
    "# create geometry\n",
    "geometry = geo.Geometry(variable_profile, trace)\n",
    "\n",
    "# rasterize geometry\n",
    "geometry_data_sp = geometry.rasterize(profile_raster_width=profile_raster_width, trace_raster_width=trace_raster_width)\n",
    "\n",
    "# calculate triangles\n",
    "triangles = Delaunay(geometry_data_sp.transpose()[:, :2]).simplices"
   ]
  },
  {
   "cell_type": "markdown",
   "metadata": {},
   "source": [
    "# Plot"
   ]
  },
  {
   "cell_type": "code",
   "execution_count": 9,
   "metadata": {},
   "outputs": [
    {
     "data": {
      "application/vnd.jupyter.widget-view+json": {
       "model_id": "edcd328f3f0a4818ad1753cb79ae78fa",
       "version_major": 2,
       "version_minor": 0
      },
      "text/plain": [
       "VBox(children=(Figure(animation=200.0, camera=PerspectiveCamera(fov=46.0, position=(0.0, 0.0, 2.0), quaternion…"
      ]
     },
     "metadata": {},
     "output_type": "display_data"
    }
   ],
   "source": [
    "ipv.figure()\n",
    "# we draw the tetrahedron\n",
    "\n",
    "profile_idx = 1570\n",
    "\n",
    "scanned_profiles_layer_0_sp = np.array(scanned_profiles_layer_0_sp, float)\n",
    "\n",
    "mesh = ipv.plot_trisurf(\n",
    "    geometry_data_sp[0], geometry_data_sp[1], geometry_data_sp[2], triangles=triangles, color=[0.6, 0.6, 0.6]\n",
    ")\n",
    "ipv.scatter(\n",
    "    welding_coordinates_sp[0],\n",
    "    welding_coordinates_sp[1],\n",
    "    welding_coordinates_sp[2],\n",
    "    size=1,\n",
    "    marker=\"sphere\",\n",
    "    color=[0.3, 0.9, 0.7],\n",
    ")\n",
    "s = ipv.scatter(\n",
    "    scanned_profiles_layer_0_sp[0::10, 0, :],\n",
    "    scanned_profiles_layer_0_sp[0::10, 1, :],\n",
    "    scanned_profiles_layer_0_sp[0::10, 2, :],\n",
    "    size=1,\n",
    "    marker=\"sphere\",\n",
    "    color=\"red\",\n",
    ")\n",
    "ipv.animation_control(s)\n",
    "ipv.xlim(0, 350)\n",
    "ipv.ylim(-30, 30)\n",
    "ipv.zlim(-10, 30)\n",
    "ipv.show()"
   ]
  },
  {
   "cell_type": "code",
   "execution_count": 10,
   "metadata": {},
   "outputs": [
    {
     "data": {
      "text/plain": [
       "[array([[ 0.0000000e+00,  0.0000000e+00,  1.0000000e+00,  1.2246468e-16,\n",
       "         -1.0000000e+00],\n",
       "        [ 0.0000000e+00,  1.0000000e+00,  6.1232340e-17, -1.0000000e+00,\n",
       "         -1.8369702e-16],\n",
       "        [ 1.0000000e+00,  0.0000000e+00,  0.0000000e+00,  0.0000000e+00,\n",
       "          0.0000000e+00]]),\n",
       " array([[1, 0, 2],\n",
       "        [2, 0, 3],\n",
       "        [3, 0, 4],\n",
       "        [4, 0, 1]])]"
      ]
     },
     "execution_count": 10,
     "metadata": {},
     "output_type": "execute_result"
    }
   ],
   "source": [
    "def create_unit_cylinder_mesh(num_segments_radial, num_segments_axial):\n",
    "    num_segments_radial = np.clip(num_segments_radial, 3, None)\n",
    "    num_segments_axial = np.clip(num_segments_axial, 1, None)\n",
    "    delta_angle = 2 * np.pi / num_segments_radial\n",
    "    delta_axial = 1 / num_segments_axial\n",
    "\n",
    "    num_points = num_segments_radial * (num_segments_axial + 1)\n",
    "\n",
    "    points = np.ndarray((3, num_points), float)\n",
    "    for i in range(num_segments_axial + 1):\n",
    "        z = i * delta_axial\n",
    "        for j in range(num_segments_radial):\n",
    "            angle = j * delta_angle\n",
    "            x = np.sin(angle)\n",
    "            y = np.cos(angle)\n",
    "            points[:, i * num_segments_radial + j] = [x, y, z]\n",
    "\n",
    "    num_triangles = num_segments_radial * num_segments_axial * 2\n",
    "    triangles = np.ndarray((num_triangles, 3), int)\n",
    "    for i in range(num_segments_axial):\n",
    "        for j in range(num_segments_radial):\n",
    "            idx_triangle = (i * num_segments_radial + j) * 2\n",
    "\n",
    "            idx_first_point_axial_0 = i * num_segments_radial\n",
    "            idx_first_point_axial_1 = idx_first_point_axial_0 + num_segments_radial\n",
    "            rad_idx_0 = j\n",
    "            rad_idx_1 = (j + 1) % num_segments_radial\n",
    "\n",
    "            idx_0_0 = idx_first_point_axial_0 + rad_idx_0\n",
    "            idx_0_1 = idx_first_point_axial_0 + rad_idx_1\n",
    "            idx_1_0 = idx_first_point_axial_1 + rad_idx_0\n",
    "            idx_1_1 = idx_first_point_axial_1 + rad_idx_1\n",
    "\n",
    "            triangles[idx_triangle] = [idx_0_0, idx_1_0, idx_1_1]\n",
    "            triangles[idx_triangle + 1] = [idx_0_0, idx_1_1, idx_0_1]\n",
    "\n",
    "    return [points, triangles]\n",
    "\n",
    "def create_cone_mesh(num_segments_radial):\n",
    "    num_segments_radial = np.clip(num_segments_radial, 3, None)\n",
    "    num_points = num_segments_radial + 1\n",
    "    num_triangles = num_segments_radial\n",
    "    delta_angle = 2 * np.pi / num_segments_radial\n",
    "    \n",
    "    points = np.ndarray((3, num_points), float)\n",
    "    triangles = np.ndarray((num_triangles, 3), int)\n",
    "    z = 0\n",
    "    \n",
    "    points[:,0] = [0, 0, 1]\n",
    "    for i in range(num_segments_radial):        \n",
    "        angle = i * delta_angle\n",
    "        x = np.sin(angle)\n",
    "        y = np.cos(angle)\n",
    "        points[:, i+1] = [x, y, z]\n",
    "        triangles[i] = [i+1,0,(i+1) % (num_triangles)+1]\n",
    "    return [points,triangles]\n",
    "\n",
    "create_cone_mesh(4)\n",
    "\n",
    "\n",
    "    "
   ]
  },
  {
   "cell_type": "code",
   "execution_count": 11,
   "metadata": {},
   "outputs": [],
   "source": [
    "scale_scanner = 15\n",
    "\n",
    "\n",
    "\n",
    "#[vert_scanner, tri_scanner] = create_unit_cylinder_mesh(40, 1)\n",
    "[vert_scanner, tri_scanner] = create_cone_mesh(40)\n",
    "# vert_scanner = np.matmul(tf.rotation_matrix_y(np.pi / 2), vert_scanner)\n",
    "vert_scanner = vert_scanner + np.array([0, 0, -1])[:, np.newaxis]\n",
    "vert_scanner = np.matmul([[scale_scanner, 0, 0], [0, scale_scanner, 0], [0, 0, scale_scanner]], vert_scanner)\n",
    "\n",
    "\n",
    "scale_torch = 15\n",
    "\n",
    "#[vert_torch, tri_torch] = create_unit_cylinder_mesh(40, 1)\n",
    "[vert_torch, tri_torch] = create_cone_mesh(40)\n",
    "# vert_scanner = np.matmul(tf.rotation_matrix_y(np.pi / 2), vert_scanner)\n",
    "vert_torch = vert_torch + np.array([0, 0, -1])[:, np.newaxis]\n",
    "vert_torch = np.matmul([[scale_torch, 0, 0], [0, scale_torch, 0], [0, 0, scale_torch]], vert_torch)\n",
    "\n",
    "\n"
   ]
  },
  {
   "cell_type": "code",
   "execution_count": 12,
   "metadata": {},
   "outputs": [
    {
     "name": "stdout",
     "output_type": "stream",
     "text": [
      "{'time': IntSlider(value=0, description='time', max=10)}\n",
      "1\n",
      "7\n"
     ]
    },
    {
     "data": {
      "application/vnd.jupyter.widget-view+json": {
       "model_id": "28b7b6709d844a9e85e4032d636cddab",
       "version_major": 2,
       "version_minor": 0
      },
      "text/plain": [
       "VBox(children=(HBox(children=(Figure(camera=PerspectiveCamera(fov=46.0, position=(0.0, 0.0, 2.0), quaternion=(…"
      ]
     },
     "metadata": {},
     "output_type": "display_data"
    }
   ],
   "source": [
    "out = widgets.Output(layout={\"border\": \"2px solid black\"})\n",
    "# create figure inside output widget\n",
    "# with out:\n",
    "\n",
    "\n",
    "out2 = widgets.Output(layout={\"border\": \"2px solid black\"})\n",
    "# create figure inside output widget\n",
    "with out2:\n",
    "    fig = plt.figure()\n",
    "    gs = fig.add_gridspec(1, 1)\n",
    "    ax_0 = fig.add_subplot(gs[0, 0], projection=\"3d\")\n",
    "\n",
    "\n",
    "ipvfig = ipv.figure()\n",
    "layout = widgets.Layout(width=\"200px\", height=\"40px\")\n",
    "style = {\"description_width\": \"initial\"}\n",
    "\n",
    "\n",
    "# ipv.show()\n",
    "\n",
    "play = widgets.Play(value=0, min=0, max=10, step=1, interval=500, description=\"Press play\", disabled=False)\n",
    "time_slider = IntSlider(min=0, max=10, step=1, description=\"time\", continuous_update=True)\n",
    "w1 = dict(time=time_slider)\n",
    "\n",
    "widgets.jslink((play, \"value\"), (time_slider, \"value\"))\n",
    "w = {**w1}\n",
    "print(w)\n",
    "# plt.show()\n",
    "\n",
    "upper_box = HBox()\n",
    "lower_box = HBox()\n",
    "box = VBox([upper_box, lower_box])\n",
    "\n",
    "ipv.plot_trisurf(\n",
    "    geometry_data_sp[0], geometry_data_sp[1], geometry_data_sp[2], triangles=triangles, color=[0.6, 0.6, 0.6]\n",
    ")\n",
    "ipv.plot_trisurf(vert_scanner[0], vert_scanner[1], vert_scanner[2], triangles=tri_scanner, color=[1, 0, 0])\n",
    "ipv.plot_trisurf(vert_torch[0], vert_torch[1], vert_torch[2], triangles=tri_torch, color=[0, 1, 0])\n",
    "ipv.scatter(\n",
    "    scanned_profiles_layer_0_sp[0, 0, :],\n",
    "    scanned_profiles_layer_0_sp[0, 1, :],\n",
    "    scanned_profiles_layer_0_sp[0, 2, :],\n",
    "    size=1,\n",
    "    marker=\"sphere\",\n",
    "    color=\"red\",\n",
    ")\n",
    "\n",
    "x_min = 0\n",
    "x_max = 350\n",
    "y_min = -175\n",
    "y_max = 175\n",
    "z_min = -75\n",
    "z_max = 275\n",
    "ipv.xlim(x_min, x_max)\n",
    "ipv.ylim(y_min, y_max)\n",
    "ipv.zlim(z_min, z_max)\n",
    "\n",
    "d_x = x_max - x_min\n",
    "d_y = y_max - y_min\n",
    "d_z = z_max - z_min\n",
    "\n",
    "s_x = d_x / d_y\n",
    "s_y = d_y / d_y\n",
    "s_z = d_z / d_y\n",
    "\n",
    "scale_mat = [[s_x, 0, 0], [0, s_y, 0], [0, 0, s_z]]\n",
    "\n",
    "\n",
    "print(len(ipvfig.scatters))\n",
    "\n",
    "cs_scanner_schematic = tf.LocalCoordinateSystem(origin=[0, 0, -260])\n",
    "\n",
    "\n",
    "def test_func(time):\n",
    "    print(time)\n",
    "\n",
    "    time *= 100\n",
    "\n",
    "    cs_scanner_in_sp = cs_scanner_schematic + cs_array_scanner_tcp_layer_0_in_sp[time]\n",
    "    vert_scanner_upate = np.matmul(cs_scanner_in_sp.orientation, vert_scanner)\n",
    "    vert_scanner_upate = np.matmul(scale_mat, vert_scanner_upate)\n",
    "    vert_scanner_upate = vert_scanner_upate + cs_scanner_in_sp.location[:, np.newaxis]\n",
    "    ipvfig.meshes[1].x = vert_scanner_upate[0]\n",
    "    ipvfig.meshes[1].y = vert_scanner_upate[1]\n",
    "    ipvfig.meshes[1].z = vert_scanner_upate[2]\n",
    "    \n",
    "    \n",
    "    cs_torch_in_sp = cs_torch_tcp_in_scanner_tcp + cs_array_scanner_tcp_layer_0_in_sp[time]\n",
    "    vert_torch_upate = np.matmul(cs_torch_in_sp.orientation, vert_torch)\n",
    "    vert_torch_upate = np.matmul(scale_mat, vert_torch_upate)\n",
    "    vert_torch_upate = vert_torch_upate + cs_torch_in_sp.location[:, np.newaxis]\n",
    "    ipvfig.meshes[2].x = vert_torch_upate[0]\n",
    "    ipvfig.meshes[2].y = vert_torch_upate[1]\n",
    "    ipvfig.meshes[2].z = vert_torch_upate[2]\n",
    "\n",
    "    if time > 800:\n",
    "        ipvfig.scatters[0].visible = False\n",
    "    else:\n",
    "        ipvfig.scatters.clear()\n",
    "        ipv.scatter(\n",
    "            scanned_profiles_layer_0_sp[time, 0, :],\n",
    "            scanned_profiles_layer_0_sp[time, 1, :],\n",
    "            scanned_profiles_layer_0_sp[time, 2, :],\n",
    "            size=1,\n",
    "            marker=\"sphere\",\n",
    "            color=\"red\",\n",
    "        )\n",
    "        ipvfig.scatters[0].visible = True\n",
    "\n",
    "\n",
    "test_func(7)\n",
    "output = interactive_output(test_func, w)\n",
    "\n",
    "# mesh = ipv.plot_trisurf(geometry_data_sp[0], geometry_data_sp[1], geometry_data_sp[2], triangles=triangles, color= [0.6,0.6,0.6])\n",
    "\n",
    "upper_box.children = [ipvfig]\n",
    "lower_box.children = [play, time_slider]\n",
    "display(box)\n",
    "\n",
    "\n",
    "# ipv.show()"
   ]
  },
  {
   "cell_type": "code",
   "execution_count": 13,
   "metadata": {},
   "outputs": [
    {
     "data": {
      "text/plain": [
       "array([[-0.99996322,  0.00628049,  0.00584105],\n",
       "       [-0.00628877, -0.99997925, -0.00139949],\n",
       "       [ 0.00583214, -0.00143617,  0.99998196]])"
      ]
     },
     "execution_count": 13,
     "metadata": {},
     "output_type": "execute_result"
    }
   ],
   "source": [
    "cs_torch_tcp_in_scanner_tcp.orientation"
   ]
  },
  {
   "cell_type": "code",
   "execution_count": null,
   "metadata": {},
   "outputs": [],
   "source": []
  },
  {
   "cell_type": "code",
   "execution_count": null,
   "metadata": {},
   "outputs": [],
   "source": []
  },
  {
   "cell_type": "code",
   "execution_count": null,
   "metadata": {},
   "outputs": [],
   "source": []
  }
 ],
 "metadata": {
  "kernelspec": {
   "display_name": "libo",
   "language": "python",
   "name": "libo"
  },
  "language_info": {
   "codemirror_mode": {
    "name": "ipython",
    "version": 3
   },
   "file_extension": ".py",
   "mimetype": "text/x-python",
   "name": "python",
   "nbconvert_exporter": "python",
   "pygments_lexer": "ipython3",
   "version": "3.7.6"
  }
 },
 "nbformat": 4,
 "nbformat_minor": 4
}
