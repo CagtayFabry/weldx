{
 "cells": [
  {
   "cell_type": "code",
   "execution_count": 1,
   "metadata": {},
   "outputs": [],
   "source": [
    "%matplotlib widget"
   ]
  },
  {
   "cell_type": "code",
   "execution_count": 2,
   "metadata": {},
   "outputs": [],
   "source": [
    "import numpy as np\n",
    "import ipyvolume as ipv\n",
    "from scipy.spatial import Delaunay\n",
    "from scipy.spatial.transform import Rotation as rot\n",
    "\n",
    "# plotting\n",
    "from mpl_toolkits.mplot3d import Axes3D  # noqa: F401 unused import\n",
    "import matplotlib.pyplot as plt\n",
    "\n",
    "# interactive plots\n",
    "import ipywidgets as widgets\n",
    "\n",
    "# from ipywidgets import VBox, HBox, IntSlider, Checkbox, interactive_output, FloatSlider\n",
    "from IPython.display import display\n",
    "\n",
    "import libo\n",
    "from libo.io import tc3\n",
    "\n",
    "import weldx.geometry as geo\n",
    "import weldx.transformations as tf\n",
    "import weldx.utility as ut\n",
    "import weldx.visualization as vs"
   ]
  },
  {
   "cell_type": "markdown",
   "metadata": {},
   "source": [
    "# Setup"
   ]
  },
  {
   "cell_type": "code",
   "execution_count": 3,
   "metadata": {},
   "outputs": [],
   "source": [
    "system_data_index = 17519\n",
    "scan_data_scan_idx = 17507\n",
    "scan_data_tcp_idx = 17518\n",
    "\n",
    "profile_raster_width = 4\n",
    "trace_raster_width = 4"
   ]
  },
  {
   "cell_type": "markdown",
   "metadata": {},
   "source": [
    "# Import and process experimental data"
   ]
  },
  {
   "cell_type": "code",
   "execution_count": 7,
   "metadata": {},
   "outputs": [],
   "source": [
    "# import machine data\n",
    "ds_system_data_base = tc3.to_xarray(tc3.read_db(system_data_index))\n",
    "\n",
    "# import scan data\n",
    "scan_data_layer_0 = libo.io.tools.merge_scan_tcp(scan=scan_data_scan_idx, tcp=17518)\n",
    "\n",
    "# extract system movement data\n",
    "ds_movement_data = ds_system_data_base[[\"FB_X\", \"FB_Y\", \"FB_Z\", \"FB_Rx\", \"FB_Ry\", \"FB_Rz\"]]\n",
    "\n",
    "# extract welding movement data\n",
    "ds_welding_movement_data = ds_movement_data.where(ds_system_data_base.trigSchweissen == 1).dropna(\"time\")\n",
    "welding_coordinates_base = ds_welding_movement_data.to_array().data[:3, :]\n",
    "welding_angles_degree_base = ds_welding_movement_data.to_array().data[3:, :]\n",
    "\n",
    "# extract scanner movement data\n",
    "scanner_tcp_layer_0_coordinates_base = scan_data_layer_0.scan_tcp.sel(tcp_variable=[\"X\", \"Y\", \"Z\"]).data\n",
    "scanner_tcp_layer_0_angles_degree_base = scan_data_layer_0.scan_tcp.sel(tcp_variable=[\"Rx\", \"Ry\", \"Rz\"]).data"
   ]
  },
  {
   "cell_type": "markdown",
   "metadata": {},
   "source": [
    "# Define coordinate systems\n",
    "\n",
    "- `cs_base` is the root coordinate system\n",
    "- `cs_ref` is defined in `cs_base` -> coordinate system created from 3 robot positions\n",
    "- `cs_sp` is defined in `cs_ref` -> specimen coordinate system with x pointing into the direction of the trace\n",
    "\n",
    "All data will be transformed to the specimens coordinate system. Data which is not defined in the specimen coordinate system gets the corresponing coordinate system's suffix attached to the variable name\n",
    "\n",
    "Important note: Measured data is not perfectly orthogonal. We use the cross product to get a z axis which is perfectly orthogonal (in floating point precision) and recalculate a perfectly orthogonal y-axis. There are certainly better ways to address this problem."
   ]
  },
  {
   "cell_type": "code",
   "execution_count": 12,
   "metadata": {},
   "outputs": [],
   "source": [
    "# measured reference coordinate system data\n",
    "origin = ut.to_float_array([67.311, 1055.137, -132.694])\n",
    "offset_ox = ut.to_float_array([157.345, 1054.486, -132.949])\n",
    "offset_oy = ut.to_float_array([69.149, 1366.014, -131.962])\n",
    "\n",
    "# Calculate orthogonal z axis and construct reference coordinate system from x and z axis\n",
    "vec_x = offset_ox - origin\n",
    "vec_y = offset_oy - origin\n",
    "vec_z = np.cross(vec_x, vec_y)\n",
    "cs_ref_in_base = tf.LocalCoordinateSystem.construct_from_xz_and_orientation(vec_x=vec_x, vec_z=vec_z, origin=origin)\n",
    "\n",
    "# create constant coordinate systems\n",
    "cs_sp_in_ref = tf.LocalCoordinateSystem(basis=tf.rotation_matrix_z(np.pi / 2), origin=[-20, -10, -8])\n",
    "cs_sp_in_base = cs_sp_in_ref + cs_ref_in_base\n",
    "cs_scan_in_scanner_tcp = tf.LocalCoordinateSystem(basis=[[1, 0, 0], [0, 1, 0], [0, 0, -1]], origin=[0, 0, 260])\n",
    "\n",
    "# create time dependent scanner coordinate systems\n",
    "num_scans_layer_0 = scanner_tcp_layer_0_coordinates_base.shape[0]\n",
    "scanner_tcp_layer_0_rotation_matrices_base = rot.from_euler(\n",
    "    angles=scanner_tcp_layer_0_angles_degree_base, seq=\"xyz\", degrees=True\n",
    ").as_dcm()\n",
    "cs_array_scan_layer_0_in_sp = []\n",
    "cs_array_scanner_tcp_layer_0_in_base = []\n",
    "cs_array_scanner_tcp_layer_0_in_sp = []\n",
    "for i in range(num_scans_layer_0):\n",
    "    orientation = scanner_tcp_layer_0_rotation_matrices_base[i]\n",
    "    coordinates = scanner_tcp_layer_0_coordinates_base[i]\n",
    "    cs_array_scanner_tcp_layer_0_in_base += [tf.LocalCoordinateSystem(basis=orientation, origin=coordinates)]\n",
    "    cs_array_scanner_tcp_layer_0_in_sp += [cs_array_scanner_tcp_layer_0_in_base[i] - cs_ref_in_base - cs_sp_in_ref]\n",
    "    cs_array_scan_layer_0_in_sp += [cs_scan_in_scanner_tcp + cs_array_scanner_tcp_layer_0_in_sp[i]]"
   ]
  },
  {
   "cell_type": "markdown",
   "metadata": {},
   "source": [
    "# Define data transformations"
   ]
  },
  {
   "cell_type": "code",
   "execution_count": 19,
   "metadata": {},
   "outputs": [],
   "source": [
    "def coordinates_to_specimen_from_base(coordinates):\n",
    "    rotation = cs_sp_in_base.orientation.transpose()\n",
    "    translation = cs_sp_in_base.location[:, np.newaxis]\n",
    "    return np.matmul(rotation, coordinates - translation)\n",
    "\n",
    "\n",
    "def coordinates_to_parent_from_child(coordinates, cs_child):\n",
    "    rotation = cs_child.orientation\n",
    "    translation = cs_child.location[:, np.newaxis]\n",
    "    return np.matmul(rotation, coordinates) + translation"
   ]
  },
  {
   "cell_type": "markdown",
   "metadata": {},
   "source": [
    "# Transform data to specimen coordinate system"
   ]
  },
  {
   "cell_type": "code",
   "execution_count": 48,
   "metadata": {},
   "outputs": [
    {
     "data": {
      "text/plain": [
       "array([[-20.08206837, -20.08297233, -20.08288492, ...,          nan,\n",
       "                 nan,          nan],\n",
       "       [-55.2814472 , -55.03653236, -54.95652248, ...,          nan,\n",
       "                 nan,          nan],\n",
       "       [ -5.04773716,  -5.22255057,  -5.20585041, ...,          nan,\n",
       "                 nan,          nan]])"
      ]
     },
     "execution_count": 48,
     "metadata": {},
     "output_type": "execute_result"
    }
   ],
   "source": [
    "welding_coordinates_sp = coordinates_to_specimen_from_base(welding_coordinates_base)\n",
    "\n",
    "scanned_profiles_layer_0_sp = []\n",
    "for i in range(num_scans_layer_0):\n",
    "    scanned_profile_scan = scan_data_layer_0.scan_line.data[i].transpose()\n",
    "    scanned_profiles_layer_0_sp += [coordinates_to_parent_from_child(scanned_profile_scan, cs_array_scan_layer_0_in_sp[i])]\n"
   ]
  },
  {
   "cell_type": "markdown",
   "metadata": {},
   "source": [
    "# Create theoretical geometry"
   ]
  },
  {
   "cell_type": "code",
   "execution_count": 58,
   "metadata": {},
   "outputs": [],
   "source": [
    "# create points\n",
    "pt_0 = [40, 8]\n",
    "pt_1_1 = [np.tan(2 / 18 * np.pi) * 8, 8]\n",
    "pt_1_2 = [np.tan(3 / 18 * np.pi) * 8, 8]\n",
    "pt_2 = [0, 0]\n",
    "pt_3 = [40, 0]\n",
    "\n",
    "# create shapes\n",
    "shape_p1_r = geo.Shape().add_line_segments([pt_0, pt_1_1, pt_2])\n",
    "shape_p2_r = geo.Shape().add_line_segments([pt_0, pt_1_2, pt_2])\n",
    "shape_p1_l = shape_p1_r.reflect([1, 0])\n",
    "shape_p2_l = shape_p2_r.reflect([1, 0])\n",
    "\n",
    "# create profiles\n",
    "profile_1 = geo.Profile([shape_p1_l, shape_p1_r])\n",
    "profile_2 = geo.Profile([shape_p2_l, shape_p2_r])\n",
    "\n",
    "# create variable profile\n",
    "variable_profile = geo.VariableProfile([profile_1, profile_2], [0, 1], [geo.linear_profile_interpolation_sbs])\n",
    "\n",
    "# create trace\n",
    "trace = geo.Trace(geo.LinearHorizontalTraceSegment(350))\n",
    "\n",
    "# create geometry\n",
    "geometry = geo.Geometry(variable_profile, trace)\n",
    "\n",
    "# rasterize geometry\n",
    "geometry_data_sp = geometry.rasterize(profile_raster_width=profile_raster_width, trace_raster_width=trace_raster_width)\n",
    "\n",
    "# calculate triangles\n",
    "triangles = Delaunay(geometry_data_sp.transpose()[:,:2]).simplices"
   ]
  },
  {
   "cell_type": "markdown",
   "metadata": {},
   "source": [
    "# Plot"
   ]
  },
  {
   "cell_type": "code",
   "execution_count": 85,
   "metadata": {},
   "outputs": [
    {
     "data": {
      "application/vnd.jupyter.widget-view+json": {
       "model_id": "89b336b8fab145c68ba65360dd957159",
       "version_major": 2,
       "version_minor": 0
      },
      "text/plain": [
       "VBox(children=(Figure(animation=200.0, camera=PerspectiveCamera(fov=46.0, position=(0.0, 0.0, 2.0), quaternion…"
      ]
     },
     "metadata": {},
     "output_type": "display_data"
    }
   ],
   "source": [
    "ipv.figure()\n",
    "# we draw the tetrahedron\n",
    "\n",
    "profile_idx = 1570\n",
    "\n",
    "scanned_profiles_layer_0_sp = np.array(scanned_profiles_layer_0_sp,float)\n",
    "\n",
    "mesh = ipv.plot_trisurf(geometry_data_sp[0], geometry_data_sp[1], geometry_data_sp[2], triangles=triangles, color= [0.6,0.6,0.6])\n",
    "ipv.scatter(welding_coordinates_sp[0], welding_coordinates_sp[1], welding_coordinates_sp[2], size=1, marker=\"sphere\", color=[0.3,0.9,0.7])\n",
    "s = ipv.scatter(scanned_profiles_layer_0_sp[0::10,0,:], scanned_profiles_layer_0_sp[0::10,1,:], scanned_profiles_layer_0_sp[0::10,2,:], size=1, marker=\"sphere\", color='red')\n",
    "ipv.animation_control(s)\n",
    "ipv.xlim(0,350)\n",
    "ipv.ylim(-30,30)\n",
    "ipv.zlim(-10,30)\n",
    "ipv.show()\n"
   ]
  },
  {
   "cell_type": "code",
   "execution_count": null,
   "metadata": {},
   "outputs": [],
   "source": []
  }
 ],
 "metadata": {
  "kernelspec": {
   "display_name": "libo",
   "language": "python",
   "name": "libo"
  },
  "language_info": {
   "codemirror_mode": {
    "name": "ipython",
    "version": 3
   },
   "file_extension": ".py",
   "mimetype": "text/x-python",
   "name": "python",
   "nbconvert_exporter": "python",
   "pygments_lexer": "ipython3",
   "version": "3.7.6"
  }
 },
 "nbformat": 4,
 "nbformat_minor": 4
}
