{
 "cells": [
  {
   "cell_type": "code",
   "execution_count": 1,
   "metadata": {},
   "outputs": [],
   "source": [
    "%matplotlib widget"
   ]
  },
  {
   "cell_type": "code",
   "execution_count": 2,
   "metadata": {},
   "outputs": [],
   "source": [
    "import numpy as np\n",
    "import xarray as xr\n",
    "import copy\n",
    "\n",
    "from scipy.spatial import Delaunay\n",
    "from scipy.spatial.transform import Rotation as rot\n",
    "\n",
    "# plotting\n",
    "import matplotlib.pyplot as plt\n",
    "import pims\n",
    "import ipyvolume as ipv\n",
    "\n",
    "# interactive plots\n",
    "import ipywidgets as widgets\n",
    "from ipywidgets import VBox, HBox, IntSlider, interactive_output, Label, Layout\n",
    "from IPython.display import display\n",
    "\n",
    "\n",
    "import libo\n",
    "from libo.io import tc3\n",
    "\n",
    "import basic_meshes as bm\n",
    "from experimental_setup import get_setup\n",
    "\n",
    "import weldx.geometry as geo\n",
    "import weldx.transformations as tf\n",
    "import weldx.utility as ut\n",
    "import weldx.visualization as vs"
   ]
  },
  {
   "cell_type": "markdown",
   "metadata": {},
   "source": [
    "# Setup"
   ]
  },
  {
   "cell_type": "code",
   "execution_count": 3,
   "metadata": {},
   "outputs": [],
   "source": [
    "setup = get_setup(5)\n",
    "target_frame_rate = 4"
   ]
  },
  {
   "cell_type": "markdown",
   "metadata": {},
   "source": [
    "# Import and process experimental data\n",
    "\n",
    "### Temperature data"
   ]
  },
  {
   "cell_type": "code",
   "execution_count": 4,
   "metadata": {},
   "outputs": [],
   "source": [
    "dsx_sensor_data = tc3.to_xarray(tc3.read_db(setup.measurement_data_id))\n",
    "dsx_temperature_data = dsx_sensor_data[[\"MH24_T01\", \"MH24_T02\", \"MH24_T03\"]].dropna(\"time\")"
   ]
  },
  {
   "cell_type": "markdown",
   "metadata": {},
   "source": [
    "### Machine data"
   ]
  },
  {
   "cell_type": "code",
   "execution_count": 5,
   "metadata": {},
   "outputs": [],
   "source": [
    "# import machine data\n",
    "dsx_machine_data = tc3.to_xarray(tc3.read_db(setup.system_data_index))\n",
    "\n",
    "\n",
    "# collect relevant data\n",
    "relevant_data_names = [\"FB_X\", \"FB_Y\", \"FB_Z\", \"FB_Rx\", \"FB_Ry\", \"FB_Rz\", \"trigSchweissen\", \"trigScan2_prog\"]\n",
    "dsx_relevant_machine_data = dsx_machine_data[relevant_data_names].dropna(\"time\")\n",
    "interpolated_temperature_data = dsx_temperature_data.interp_like(dsx_relevant_machine_data)\n",
    "dsx_relevant_machine_data = xr.merge([interpolated_temperature_data, dsx_relevant_machine_data])\n",
    "\n",
    "\n",
    "# extract system movement data\n",
    "dsx_machine_position_data = dsx_relevant_machine_data[[\"FB_X\", \"FB_Y\", \"FB_Z\", \"FB_Rx\", \"FB_Ry\", \"FB_Rz\"]]\n",
    "machine_coordinates_base = dsx_machine_position_data.to_array().data[:3, :]\n",
    "machine_angles_degree_base = dsx_machine_position_data.to_array().data[3:6, :]"
   ]
  },
  {
   "cell_type": "markdown",
   "metadata": {},
   "source": [
    "### Scanner data"
   ]
  },
  {
   "cell_type": "code",
   "execution_count": 6,
   "metadata": {},
   "outputs": [],
   "source": [
    "num_scans = len(setup.scan_data_scan_idx)\n",
    "list_dsx_scan_data = []\n",
    "for i in range(num_scans):\n",
    "    data = libo.io.tools.merge_scan_tcp(scan=setup.scan_data_scan_idx[i], tcp=setup.scan_data_tcp_idx[i])\n",
    "    interpolated_temperature_data = dsx_temperature_data.interp(time=data.time)\n",
    "    list_dsx_scan_data += [xr.merge([interpolated_temperature_data, data])]"
   ]
  },
  {
   "cell_type": "markdown",
   "metadata": {},
   "source": [
    "# Define coordinate systems\n",
    "\n",
    "\n",
    "### Fixed systems\n",
    "Important note: Measured data is not perfectly orthogonal. We use the cross product to get a z axis which is perfectly orthogonal (in floating point precision) and recalculate a perfectly orthogonal y-axis. There are certainly better ways to address this problem."
   ]
  },
  {
   "cell_type": "code",
   "execution_count": 7,
   "metadata": {},
   "outputs": [],
   "source": [
    "# Calculate orthogonal z axis and construct reference coordinate system from x and z axis\n",
    "vec_x = setup.offset_ox_ref - setup.origin_ref\n",
    "vec_y = setup.offset_oy_ref - setup.origin_ref\n",
    "vec_z = np.cross(vec_x, vec_y)\n",
    "\n",
    "cs_ref_in_base = tf.LocalCoordinateSystem.construct_from_xz_and_orientation(vec_x, vec_z, origin=setup.origin_ref)\n",
    "\n",
    "cs_sp_in_ref = setup.cs_sp_in_ref\n",
    "cs_torch_tcp_in_flange = setup.cs_torch_tcp_in_flange\n",
    "cs_scanner_tcp_in_flange = setup.cs_scanner_tcp_in_flange\n",
    "cs_cam_in_flange = setup.cs_cam_in_flange\n",
    "cs_scan_in_scanner_tcp = setup.cs_scan_in_scanner_tcp\n",
    "cs_scanner_schematic = tf.LocalCoordinateSystem(origin=[0, 0, -260])\n",
    "list_cs_temp_in_ref = setup.list_cs_temp_in_ref"
   ]
  },
  {
   "cell_type": "markdown",
   "metadata": {},
   "source": [
    "### Transformed systems"
   ]
  },
  {
   "cell_type": "code",
   "execution_count": 8,
   "metadata": {},
   "outputs": [],
   "source": [
    "cs_sp_in_base = cs_sp_in_ref + cs_ref_in_base\n",
    "cs_scanner_tcp_in_torch_tcp = cs_scanner_tcp_in_flange - cs_torch_tcp_in_flange\n",
    "cs_cam_in_torch_tcp = cs_cam_in_flange - cs_torch_tcp_in_flange\n",
    "cs_torch_tcp_in_scanner_tcp = cs_torch_tcp_in_flange - cs_scanner_tcp_in_flange\n",
    "cs_cam_in_scanner_tcp = cs_cam_in_flange - cs_scanner_tcp_in_flange\n",
    "list_cs_temp_in_sp = []\n",
    "for i in range(len(list_cs_temp_in_ref)):\n",
    "    list_cs_temp_in_sp += [list_cs_temp_in_ref[i] - cs_sp_in_ref]"
   ]
  },
  {
   "cell_type": "markdown",
   "metadata": {},
   "source": [
    "### Functions for variable systems"
   ]
  },
  {
   "cell_type": "code",
   "execution_count": 9,
   "metadata": {},
   "outputs": [],
   "source": [
    "def get_cs_scanner_tcp_in_sp(scan_data, index):\n",
    "    angles = scan_data.scan_tcp.sel(tcp_variable=[\"Rx\", \"Ry\", \"Rz\"]).data[index]\n",
    "    orientation = rot.from_euler(angles=angles, seq=\"xyz\", degrees=True).as_matrix()\n",
    "    coordinates = scan_data.scan_tcp.sel(tcp_variable=[\"X\", \"Y\", \"Z\"]).data[index]\n",
    "    cs_scanner_tcp_in_base = tf.LocalCoordinateSystem(basis=orientation, origin=coordinates)\n",
    "    return cs_scanner_tcp_in_base - cs_ref_in_base - cs_sp_in_ref\n",
    "\n",
    "\n",
    "def get_cs_scan_in_sp(scan_data, index):\n",
    "    return cs_scan_in_scanner_tcp + get_cs_scanner_tcp_in_sp(scan_data, index)"
   ]
  },
  {
   "cell_type": "markdown",
   "metadata": {},
   "source": [
    "# Define data transformations"
   ]
  },
  {
   "cell_type": "code",
   "execution_count": 10,
   "metadata": {},
   "outputs": [],
   "source": [
    "def coordinates_to_child_from_parent(coordinates, cs_child):\n",
    "    rotation = cs_child.orientation.transpose()\n",
    "    translation = cs_child.location[:, np.newaxis]\n",
    "    return np.matmul(rotation, coordinates - translation)\n",
    "\n",
    "\n",
    "def coordinates_to_parent_from_child(coordinates, cs_child):\n",
    "    rotation = cs_child.orientation\n",
    "    translation = cs_child.location[:, np.newaxis]\n",
    "    return np.matmul(rotation, coordinates) + translation"
   ]
  },
  {
   "cell_type": "markdown",
   "metadata": {},
   "source": [
    "# Transform data to specimen coordinate system"
   ]
  },
  {
   "cell_type": "code",
   "execution_count": 11,
   "metadata": {},
   "outputs": [],
   "source": [
    "def transform_scan_data_to_sp(scan_data_in_scan):\n",
    "    scanned_profiles_in_sp = []\n",
    "    num_profiles_per_scan = scan_data_in_scan.profile.size\n",
    "    for i in range(num_profiles_per_scan):\n",
    "        scanned_profile_in_scan = scan_data_in_scan.scan_line.data[i].transpose()\n",
    "        cs_scan_in_sp = get_cs_scan_in_sp(scan_data_in_scan, i)\n",
    "        scanned_profiles_in_sp += [coordinates_to_parent_from_child(scanned_profile_in_scan, cs_scan_in_sp)]\n",
    "    return np.array(scanned_profiles_in_sp, float)\n",
    "\n",
    "\n",
    "list_scanned_profiles_in_sp = [transform_scan_data_to_sp(list_dsx_scan_data[0])]\n",
    "list_scanned_profiles_in_sp += [transform_scan_data_to_sp(list_dsx_scan_data[1])]"
   ]
  },
  {
   "cell_type": "markdown",
   "metadata": {},
   "source": [
    "# Create theoretical geometry"
   ]
  },
  {
   "cell_type": "code",
   "execution_count": 12,
   "metadata": {},
   "outputs": [],
   "source": [
    "# create points\n",
    "pt_0 = [150, 8]\n",
    "pt_1_1 = [np.tan(setup.groove_angle_start / 360 * np.pi) * 8, 8]\n",
    "pt_1_2 = [np.tan(setup.groove_angle_end / 360 * np.pi) * 8, 8]\n",
    "pt_2 = [0, 0]\n",
    "pt_3 = [150, 0]\n",
    "\n",
    "# create shapes\n",
    "shape_p1_r = geo.Shape().add_line_segments([pt_0, pt_1_1, pt_2])\n",
    "shape_p2_r = geo.Shape().add_line_segments([pt_0, pt_1_2, pt_2])\n",
    "shape_p1_l = shape_p1_r.reflect([1, 0])\n",
    "shape_p2_l = shape_p2_r.reflect([1, 0])\n",
    "\n",
    "# create profiles\n",
    "profile_1 = geo.Profile([shape_p1_l, shape_p1_r])\n",
    "profile_2 = geo.Profile([shape_p2_l, shape_p2_r])\n",
    "\n",
    "# create variable profile\n",
    "variable_profile = geo.VariableProfile([profile_1, profile_2], [0, 1], [geo.linear_profile_interpolation_sbs])\n",
    "\n",
    "# create trace\n",
    "trace = geo.Trace(geo.LinearHorizontalTraceSegment(350))\n",
    "\n",
    "# create geometry\n",
    "geometry = geo.Geometry(variable_profile, trace)\n",
    "\n",
    "# rasterize profiles\n",
    "profile_1_data = profile_1.rasterize(4)\n",
    "profile_2_data = profile_2.rasterize(4)\n",
    "\n",
    "# rasterize geometry\n",
    "geometry_data_in_sp = geometry.rasterize(profile_raster_width=4, trace_raster_width=4)\n",
    "\n",
    "# calculate triangles\n",
    "triangles_geometry = Delaunay(geometry_data_in_sp.transpose()[:, :2]).simplices\n",
    "\n",
    "# transform data to specimen coordinate system\n",
    "vertices_geometry = np.matmul(tf.rotation_matrix_x(-np.pi / 2), geometry_data_in_sp)"
   ]
  },
  {
   "cell_type": "markdown",
   "metadata": {},
   "source": [
    "# Create sequence"
   ]
  },
  {
   "cell_type": "code",
   "execution_count": 13,
   "metadata": {},
   "outputs": [],
   "source": [
    "# first scan\n",
    "num_timesteps_scan_0 = 100\n",
    "num_scans_layer_0 = list_dsx_scan_data[0].profile.size\n",
    "indices = np.arange(0, num_scans_layer_0 + 0.5, num_scans_layer_0 / num_timesteps_scan_0)\n",
    "indices = np.array(np.round(indices), int)\n",
    "list_idx_scan = [np.array(np.round(indices), int)]\n",
    "\n",
    "# welding phase\n",
    "num_timesteps_welding = 200\n",
    "idx_start_scan_layer_1 = np.argmax(dsx_relevant_machine_data.trigScan2_prog.data > 0.1)\n",
    "num_welding_data = idx_start_scan_layer_1\n",
    "indices = np.arange(0, num_welding_data + 0.5, num_welding_data / num_timesteps_welding)\n",
    "list_idx_welding = np.array(np.round(indices), int)\n",
    "num_shown_video_frames = (dsx_relevant_machine_data.trigSchweissen.data[list_idx_welding] > 0).sum()\n",
    "\n",
    "num_timesteps_scan_1 = 100\n",
    "num_scans_layer_1 = list_dsx_scan_data[1].profile.size\n",
    "indices = np.arange(0, num_scans_layer_1 + 0.5, num_scans_layer_1 / num_timesteps_scan_1)\n",
    "indices = np.array(np.round(indices), int)\n",
    "list_idx_scan += [np.array(np.round(indices), int)]\n",
    "\n",
    "\n",
    "num_timesteps_total = num_timesteps_scan_0 + num_timesteps_welding + num_timesteps_scan_1"
   ]
  },
  {
   "cell_type": "markdown",
   "metadata": {},
   "source": [
    "# Extract video frames"
   ]
  },
  {
   "cell_type": "code",
   "execution_count": 14,
   "metadata": {},
   "outputs": [],
   "source": [
    "video_frames = np.array(np.load(\"./hd_05.frames.npy\"))\n",
    "num_video_frames = video_frames.shape[0]\n",
    "delta_frame = num_video_frames / num_shown_video_frames\n",
    "list_indices_frames = np.arange(0, num_video_frames - 0.5, delta_frame)\n",
    "list_indices_frames = np.array(np.round(list_indices_frames), int)\n",
    "\n",
    "video_frames = video_frames[list_indices_frames]"
   ]
  },
  {
   "cell_type": "markdown",
   "metadata": {},
   "source": [
    "# Visualization\n",
    "\n",
    "## Create meshes\n",
    "\n",
    "### Cones"
   ]
  },
  {
   "cell_type": "code",
   "execution_count": 15,
   "metadata": {},
   "outputs": [],
   "source": [
    "# create vertices and triangles\n",
    "[vertices_cone, triangles_cone] = bm.create_cone_mesh(40)\n",
    "\n",
    "# move tip to coordinate origin\n",
    "vertices_cone = vertices_cone + np.array([0, 0, -1])[:, np.newaxis]\n",
    "\n",
    "# scale\n",
    "scale_cone = [15, 15, 30]\n",
    "scale_mat_cone = [[scale_cone[0], 0, 0], [0, scale_cone[1], 0], [0, 0, scale_cone[2]]]\n",
    "vertices_cone = np.matmul(scale_mat_cone, vertices_cone)\n",
    "vertices_camera = vertices_cone + np.array([0, 0, 200])[:, np.newaxis]"
   ]
  },
  {
   "cell_type": "markdown",
   "metadata": {},
   "source": [
    "### Cylinder"
   ]
  },
  {
   "cell_type": "code",
   "execution_count": 16,
   "metadata": {},
   "outputs": [],
   "source": [
    "# create vertices and triangles\n",
    "[vertices_cylinder, triangles_cylinder] = bm.create_unit_cylinder_mesh(40, 1)\n",
    "\n",
    "# scale\n",
    "scale_cylinder = [5, 5, 1]\n",
    "scale_mat_cylinder = [[scale_cylinder[0], 0, 0], [0, scale_cylinder[1], 0], [0, 0, scale_cylinder[2]]]\n",
    "vertices_cylinder = np.matmul(scale_mat_cylinder, vertices_cylinder)"
   ]
  },
  {
   "cell_type": "markdown",
   "metadata": {},
   "source": [
    "### Weld"
   ]
  },
  {
   "cell_type": "code",
   "execution_count": 17,
   "metadata": {},
   "outputs": [],
   "source": [
    "# Get reduced data of second scan\n",
    "list_scp_weld = list_scanned_profiles_in_sp[1][::5, :, ::5]\n",
    "\n",
    "# join all profiles\n",
    "list_scp_weld = np.swapaxes(list_scp_weld, 1, 2)\n",
    "num_total_points = list_scp_weld.shape[0] * list_scp_weld.shape[1]\n",
    "list_scp_weld = np.reshape(list_scp_weld, (num_total_points, 3))\n",
    "\n",
    "# Select data that is roughly part of the weld and not the scanned geometry\n",
    "boolean_array = (list_scp_weld[:, 2] < 5) & (list_scp_weld[:, 2] > -5) & (list_scp_weld[:, 1] > -1)\n",
    "vertices_weld = list_scp_weld[boolean_array]\n",
    "\n",
    "\n",
    "# triangulate\n",
    "triangles_weld = Delaunay(vertices_weld[:, [0, 2]]).simplices\n",
    "\n",
    "vertices_weld = np.swapaxes(vertices_weld, 0, 1)"
   ]
  },
  {
   "cell_type": "markdown",
   "metadata": {},
   "source": [
    "### Bundle data"
   ]
  },
  {
   "cell_type": "code",
   "execution_count": 18,
   "metadata": {},
   "outputs": [],
   "source": [
    "class MeshData:\n",
    "    def __init__(self, name, vertices, triangles, color, lcs=tf.LocalCoordinateSystem(), scale=None):\n",
    "        self.name = name\n",
    "        self.vertices = copy.deepcopy(vertices)\n",
    "        self.triangles = triangles\n",
    "        self.color = color\n",
    "        self.lcs = lcs\n",
    "        if scale is None:\n",
    "            scale = [1, 1, 1]\n",
    "        self.scale = scale\n",
    "        self.visible = []\n",
    "        self.sequence_data = []\n",
    "\n",
    "\n",
    "meshes = [\n",
    "    MeshData(\"geometry\", vertices_geometry, triangles_geometry, [0.9, 0.9, 0.9]),\n",
    "    MeshData(\"scanner\", vertices_cone, triangles_cone, [1, 0, 0]),\n",
    "    MeshData(\"torch\", vertices_cone, triangles_cone, [0, 1, 0]),\n",
    "    MeshData(\"thermoelement 0\", vertices_cylinder, triangles_cylinder, [0, 0, 1], list_cs_temp_in_sp[0]),\n",
    "    MeshData(\"thermoelement 1\", vertices_cylinder, triangles_cylinder, [0, 0, 1], list_cs_temp_in_sp[1]),\n",
    "    MeshData(\"thermoelement 2\", vertices_cylinder, triangles_cylinder, [0, 0, 1], list_cs_temp_in_sp[2]),\n",
    "    MeshData(\"camera\", vertices_camera, triangles_cone, [1, 1, 0]),\n",
    "    MeshData(\"weld\", vertices_weld, triangles_weld, [1, 1, 0]),\n",
    "]"
   ]
  },
  {
   "cell_type": "markdown",
   "metadata": {},
   "source": [
    "### Create mesh sequence data"
   ]
  },
  {
   "cell_type": "code",
   "execution_count": 19,
   "metadata": {},
   "outputs": [],
   "source": [
    "def temperature_to_color(temperature):\n",
    "    temperature = np.clip(temperature, 0, 600)\n",
    "    if temperature < 300:\n",
    "        weight = temperature / 300\n",
    "        return [0 + weight, 1, 0]\n",
    "    else:\n",
    "        weight = (temperature - 300) / 300\n",
    "        return [1, 1 - weight, 0]\n",
    "\n",
    "\n",
    "def get_transformed_vertices(vertex_data_mesh, cs_transformation,  scale):\n",
    "    scale_mat = [[scale[0], 0, 0], [0, scale[1], 0], [0, 0, scale[2]]]\n",
    "    vertex_data_trans = np.matmul(scale_mat, vertex_data_mesh)\n",
    "    vertex_data_trans = coordinates_to_parent_from_child(vertex_data_trans, cs_transformation)\n",
    "    return vertex_data_trans\n",
    "\n",
    "def add_sequence_data(meshes):\n",
    "    for i in range(len(meshes)):\n",
    "        meshes[i].sequence_data += [get_transformed_vertices(meshes[i].vertices, meshes[i].lcs,  meshes[i].scale)]\n",
    "    \n",
    "\n",
    "\n",
    "def update_meshes(\n",
    "    meshes, cs_scanner_in_sp, cs_torch_in_sp, cs_camera_in_sp, list_cs_temp_in_sp, torch_color, temperatures, weld_size\n",
    "):\n",
    "    for i in range(len(meshes)):\n",
    "        if meshes[i].name == \"scanner\":\n",
    "            meshes[i].lcs = cs_scanner_in_sp\n",
    "        elif meshes[i].name == \"torch\":\n",
    "            meshes[i].lcs = cs_torch_in_sp\n",
    "            color_array = []\n",
    "            for j in range(meshes[i].vertices.shape[1]):\n",
    "                color_array += [torch_color]\n",
    "            meshes[i].color += [color_array]\n",
    "        elif meshes[i].name == \"camera\":\n",
    "            meshes[i].lcs = cs_camera_in_sp\n",
    "        elif meshes[i].name == \"thermoelement 0\":\n",
    "            meshes[i].scale[2] = temperatures[0] / 2\n",
    "            color_array = []\n",
    "            for j in range(meshes[i].vertices.shape[1]):\n",
    "                color_array += [temperature_to_color(temperatures[0])]\n",
    "            meshes[i].color += [color_array]\n",
    "        elif meshes[i].name == \"thermoelement 1\":\n",
    "            meshes[i].scale[2] = temperatures[1] / 2\n",
    "            color_array = []\n",
    "            for j in range(meshes[i].vertices.shape[1]):\n",
    "                color_array += [temperature_to_color(temperatures[1])]\n",
    "            meshes[i].color += [color_array]\n",
    "        elif meshes[i].name == \"thermoelement 2\":\n",
    "            meshes[i].scale[2] = temperatures[2] / 2\n",
    "            color_array = []\n",
    "            for j in range(meshes[i].vertices.shape[1]):\n",
    "                color_array += [temperature_to_color(temperatures[2])]\n",
    "            meshes[i].color += [color_array]\n",
    "        \n",
    "        if meshes[i].name == \"weld\":\n",
    "            if weld_size <= 0:\n",
    "                meshes[i].visible += [False]\n",
    "            else:\n",
    "                meshes[i].visible += [True]\n",
    "            meshes[i].vertices[0] = np.clip(vertices_weld[0], 0, weld_size)\n",
    "        else:\n",
    "            meshes[i].visible += [True]\n",
    "            \n",
    "\n",
    "def welding_phase_get_coordinate_systems(wd_idx, idx_switch_cs):\n",
    "    x_angles_base = machine_angles_degree_base[:, wd_idx]\n",
    "    x_coordinates_base = machine_coordinates_base[:, wd_idx]\n",
    "    x_orientation_base = rot.from_euler(angles=x_angles_base, seq=\"xyz\", degrees=True).as_matrix()\n",
    "    cs_x_in_base = tf.LocalCoordinateSystem(basis=x_orientation_base, origin=x_coordinates_base)\n",
    "    cs_x_in_sp = cs_x_in_base - cs_ref_in_base - cs_sp_in_ref\n",
    "\n",
    "    if wd_idx > idx_switch_cs:\n",
    "        cs_torch_in_sp = cs_torch_tcp_in_scanner_tcp + cs_x_in_sp\n",
    "        cs_scanner_in_sp = cs_scanner_schematic + cs_x_in_sp\n",
    "        cs_camera_in_sp = cs_cam_in_torch_tcp + cs_torch_in_sp\n",
    "    else:\n",
    "        cs_torch_in_sp = cs_x_in_sp\n",
    "        cs_scanner_in_sp = cs_scanner_schematic + cs_scanner_tcp_in_torch_tcp + cs_torch_in_sp\n",
    "        cs_camera_in_sp = cs_cam_in_torch_tcp + cs_torch_in_sp\n",
    "    return [cs_torch_in_sp, cs_scanner_in_sp, cs_camera_in_sp]\n",
    "\n",
    "\n",
    "def add_sequence_data_welding_phase(local_idx, idx_switch_cs, dsx_relevant_machine_data):\n",
    "    wd_idx = list_idx_welding[local_idx]\n",
    "\n",
    "    [cs_torch_in_sp, cs_scanner_in_sp, cs_camera_in_sp] = welding_phase_get_coordinate_systems(wd_idx, idx_switch_cs)\n",
    "\n",
    "    torch_color = [0, 1, 0]\n",
    "    if dsx_relevant_machine_data.trigSchweissen.data[wd_idx] > 0:\n",
    "        brightness = local_idx % 2 \n",
    "        torch_color = [brightness, brightness, 1]\n",
    "    temperatures = [\n",
    "        dsx_relevant_machine_data.MH24_T01.data[wd_idx],\n",
    "        dsx_relevant_machine_data.MH24_T02.data[wd_idx],\n",
    "        dsx_relevant_machine_data.MH24_T03.data[wd_idx],\n",
    "    ]\n",
    "\n",
    "    num_video_frames = video_frames.shape[0]\n",
    "\n",
    "    if local_idx < video_frames.shape[0]:\n",
    "        weld_size = cs_torch_in_sp.location[0] + 10\n",
    "    else:\n",
    "        weld_size = 350\n",
    "\n",
    "    update_meshes(\n",
    "        meshes,\n",
    "        cs_scanner_in_sp,\n",
    "        cs_torch_in_sp,\n",
    "        cs_camera_in_sp,\n",
    "        list_cs_temp_in_sp,\n",
    "        torch_color,\n",
    "        temperatures,\n",
    "        weld_size,\n",
    "    )\n",
    "    add_sequence_data(meshes)\n",
    "         \n",
    "\n",
    "\n",
    "def add_sequence_data_scan_phase(scan_data, scanned_profiles_in_sp, idx, num_timesteps_scan, show_weld):\n",
    "    cs_scanner_tcp_in_sp = get_cs_scanner_tcp_in_sp(scan_data, idx)\n",
    "    cs_scanner_in_sp = cs_scanner_schematic + cs_scanner_tcp_in_sp\n",
    "    cs_torch_in_sp = cs_torch_tcp_in_scanner_tcp + cs_scanner_tcp_in_sp\n",
    "    cs_camera_in_sp = cs_cam_in_scanner_tcp + cs_scanner_tcp_in_sp\n",
    "\n",
    "    temperatures = [scan_data.MH24_T01.data[idx], scan_data.MH24_T02.data[idx], scan_data.MH24_T03.data[idx]]\n",
    "\n",
    "    torch_color = [0, 1, 0]\n",
    "\n",
    "    if show_weld == True:\n",
    "        weld_size = 350\n",
    "    else:\n",
    "        weld_size = 0\n",
    "\n",
    "    update_meshes(\n",
    "        meshes,\n",
    "        cs_scanner_in_sp,\n",
    "        cs_torch_in_sp,\n",
    "        cs_camera_in_sp,\n",
    "        list_cs_temp_in_sp,\n",
    "        torch_color,\n",
    "        temperatures,\n",
    "        weld_size,\n",
    "    )\n",
    "    add_sequence_data(meshes)\n",
    "    \n",
    "\n",
    "def create_mesh_sequence_data(\n",
    "    meshes, num_timesteps_scan_0, num_timesteps_welding, num_timesteps_scan_1, list_dsx_scan_data, list_scanned_profiles_in_sp\n",
    "):\n",
    "    for i in range(len(meshes)):\n",
    "        meshes[i].sequence_data = []\n",
    "        if meshes[i].name in [\"torch\", \"thermoelement 0\", \"thermoelement 1\", \"thermoelement 2\"]:\n",
    "            meshes[i].color = []\n",
    "    idx_switch_cs = np.argmax(dsx_machine_position_data.FB_Rz.dropna(\"time\").diff(\"time\").data)\n",
    "    num_timesteps_total = num_timesteps_scan_0 + num_timesteps_welding + num_timesteps_scan_1\n",
    "    for i in range(num_timesteps_total):\n",
    "        if i < num_timesteps_scan_0:\n",
    "            scn_idx = list_idx_scan[0][i]\n",
    "            add_sequence_data_scan_phase(list_dsx_scan_data[0], list_scanned_profiles_in_sp[0], scn_idx, num_timesteps_scan_0, False)\n",
    "        elif i < num_timesteps_scan_0 + num_timesteps_welding:\n",
    "            local_idx = i - num_timesteps_scan_0\n",
    "            add_sequence_data_welding_phase(local_idx, idx_switch_cs, dsx_relevant_machine_data)\n",
    "        else:\n",
    "            local_idx = i - num_timesteps_scan_0 - num_timesteps_welding\n",
    "            scn_idx = list_idx_scan[1][local_idx]\n",
    "            add_sequence_data_scan_phase(list_dsx_scan_data[1], list_scanned_profiles_in_sp[1], scn_idx, num_timesteps_scan_1, True)\n",
    "    for i in range(len(meshes)):\n",
    "        meshes[i].sequence_data = np.array(meshes[i].sequence_data)\n",
    "        meshes[i].sequence_data = np.swapaxes(meshes[i].sequence_data,0,1)\n",
    "        \n",
    "\n",
    "create_mesh_sequence_data(meshes, num_timesteps_scan_0, num_timesteps_welding, num_timesteps_scan_1, list_dsx_scan_data, list_scanned_profiles_in_sp)"
   ]
  },
  {
   "cell_type": "code",
   "execution_count": 20,
   "metadata": {},
   "outputs": [],
   "source": [
    "#meshes[1].sequence_data.shape\n",
    "#meshes[5].color"
   ]
  },
  {
   "cell_type": "markdown",
   "metadata": {},
   "source": [
    "## Functions\n",
    "\n",
    "### Thermoelement color"
   ]
  },
  {
   "cell_type": "code",
   "execution_count": null,
   "metadata": {},
   "outputs": [],
   "source": []
  },
  {
   "cell_type": "markdown",
   "metadata": {},
   "source": [
    "### Mesh and scatter plot data "
   ]
  },
  {
   "cell_type": "code",
   "execution_count": 21,
   "metadata": {},
   "outputs": [],
   "source": [
    "def add_mesh(mesh):\n",
    "    ipv.plot_trisurf(mesh.sequence_data[0], mesh.sequence_data[1], mesh.sequence_data[2], triangles=mesh.triangles, color=mesh.color)\n",
    "\n",
    "\n",
    "def add_scatter(data, color):\n",
    "    ipv.scatter(data[0], data[1], data[2], size=1, marker=\"sphere\", color=color)\n",
    "\n",
    "\n",
    "def transform_and_update_mesh(vertex_data_mesh, cs_transformation, ipvfig, ipv_idx, scale, visible):\n",
    "    scale_mat = [[scale[0], 0, 0], [0, scale[1], 0], [0, 0, scale[2]]]\n",
    "    vertex_data_trans = np.matmul(scale_mat, vertex_data_mesh)\n",
    "    vertex_data_trans = coordinates_to_parent_from_child(vertex_data_trans, cs_transformation)\n",
    "    ipvfig.meshes[ipv_idx].x = vertex_data_trans[0]\n",
    "    ipvfig.meshes[ipv_idx].y = vertex_data_trans[1]\n",
    "    ipvfig.meshes[ipv_idx].z = vertex_data_trans[2]\n",
    "    ipvfig.meshes[ipv_idx].visible = visible\n",
    "\n",
    "\n",
    "def update_meshes(\n",
    "    meshes, cs_scanner_in_sp, cs_torch_in_sp, cs_camera_in_sp, list_cs_temp_in_sp, torch_color, temperatures, weld_size\n",
    "):\n",
    "    for i in range(len(meshes)):\n",
    "        if meshes[i].name == \"scanner\":\n",
    "            meshes[i].lcs = cs_scanner_in_sp\n",
    "        elif meshes[i].name == \"torch\":\n",
    "            meshes[i].lcs = cs_torch_in_sp\n",
    "            meshes[i].color = torch_color\n",
    "        elif meshes[i].name == \"camera\":\n",
    "            meshes[i].lcs = cs_camera_in_sp\n",
    "        elif meshes[i].name == \"thermoelement 0\":\n",
    "            meshes[i].scale[2] = temperatures[0] / 2\n",
    "            meshes[i].color = temperature_to_color(temperatures[0])\n",
    "        elif meshes[i].name == \"thermoelement 1\":\n",
    "            meshes[i].scale[2] = temperatures[1] / 2\n",
    "            meshes[i].color = temperature_to_color(temperatures[1])\n",
    "        elif meshes[i].name == \"thermoelement 2\":\n",
    "            meshes[i].scale[2] = temperatures[2] / 2\n",
    "            meshes[i].color = temperature_to_color(temperatures[2])\n",
    "        elif meshes[i].name == \"weld\":\n",
    "            if weld_size <= 0:\n",
    "                meshes[i].visible = False\n",
    "            else:\n",
    "                meshes[i].visible = True\n",
    "            meshes[i].vertices[0] = np.clip(vertices_weld[0], 0, weld_size)\n",
    "\n",
    "\n",
    "def update_figures(\n",
    "    ipvfig,\n",
    "    meshes,\n",
    "    cs_scanner_in_sp,\n",
    "    cs_torch_in_sp,\n",
    "    cs_cam_in_sp,\n",
    "    list_cs_temp_in_sp,\n",
    "    torch_color,\n",
    "    temperatures,\n",
    "    labels,\n",
    "):\n",
    "    for i in range(len(meshes)):\n",
    "        transform_and_update_mesh(meshes[i].vertices, meshes[i].lcs, ipvfig, i, meshes[i].scale, meshes[i].visible)\n",
    "        ipvfig.meshes[i].color = meshes[i].color\n",
    "    for i in range(len(temperatures)):\n",
    "        labels[i].value = \"Thermoelement \" + str(i) + \": \" + str(np.round(temperatures[i], decimals=1)) + \" °C\""
   ]
  },
  {
   "cell_type": "markdown",
   "metadata": {},
   "source": [
    "# Create controls and widgets"
   ]
  },
  {
   "cell_type": "code",
   "execution_count": 22,
   "metadata": {},
   "outputs": [],
   "source": [
    "def create_widgets():\n",
    "    # plotting\n",
    "    ipvfig = ipv.figure(width=800, height=600)\n",
    "    ipv.xlim(0, 350)\n",
    "    ipv.ylim(-20, 330)\n",
    "    ipv.zlim(-175, 175)\n",
    "\n",
    "    out = widgets.Output(layout={\"border\": \"0px solid black\"})\n",
    "    with out:\n",
    "        fig = plt.figure()\n",
    "        fig.canvas.layout.width = \"800px\"\n",
    "        fig.canvas.layout.height = \"600px\"\n",
    "        gs = fig.add_gridspec(1, 1)\n",
    "        ax_0 = fig.add_subplot(gs[0, 0])\n",
    "\n",
    "    # time controls\n",
    "    play = widgets.Play(\n",
    "        value=0, min=0, max=num_timesteps_total, step=1, interval=1000/target_frame_rate, description=\"Press play\", disabled=False\n",
    "    )\n",
    "    time_slider = IntSlider(min=0, max=num_timesteps_total, step=1, description=\"time\", continuous_update=True)\n",
    "    widgets.jslink((play, \"value\"), (time_slider, \"value\"))\n",
    "\n",
    "    # thermoelement labels\n",
    "    labels = [Label(\"Thermoelement 1: \"), Label(\"Thermoelement 2: \"), Label(\"Thermoelement 3: \")]\n",
    "\n",
    "    # boxes\n",
    "    upper_box = HBox()\n",
    "    lower_box = HBox()\n",
    "    info_box = VBox(labels, layout=Layout(top=\"200px\", width=\"200px\"))\n",
    "    box = VBox([upper_box, lower_box])\n",
    "\n",
    "    # add children to boxes\n",
    "    upper_box.children = [info_box, ipvfig, out]\n",
    "    lower_box.children = [play, time_slider]\n",
    "    return [box, ipvfig, labels, ax_0, time_slider]"
   ]
  },
  {
   "cell_type": "markdown",
   "metadata": {},
   "source": [
    "### Add meshes and scatters"
   ]
  },
  {
   "cell_type": "code",
   "execution_count": 23,
   "metadata": {},
   "outputs": [],
   "source": [
    "def create_plots(meshes):\n",
    "    scanned_profiles = np.concatenate((list_scanned_profiles_in_sp[0], list_scanned_profiles_in_sp[1]), axis=0)\n",
    "    scanned_profiles = np.swapaxes(scanned_profiles, 0, 1)\n",
    "    add_scatter(scanned_profiles, [1, 0, 0])\n",
    "\n",
    "    for i in range(len(meshes)):\n",
    "        add_mesh(meshes[i])"
   ]
  },
  {
   "cell_type": "markdown",
   "metadata": {},
   "source": [
    "### Update meshes"
   ]
  },
  {
   "cell_type": "code",
   "execution_count": 24,
   "metadata": {},
   "outputs": [
    {
     "data": {
      "text/plain": [
       "400"
      ]
     },
     "execution_count": 24,
     "metadata": {},
     "output_type": "execute_result"
    }
   ],
   "source": [
    "num_timesteps_total"
   ]
  },
  {
   "cell_type": "markdown",
   "metadata": {},
   "source": [
    "### Update scan sequence data"
   ]
  },
  {
   "cell_type": "code",
   "execution_count": 25,
   "metadata": {},
   "outputs": [],
   "source": [
    "def scan_phase_plot_profile(scanner_position, scanned_profile):\n",
    "    # create interpolated profile\n",
    "    weight = scanner_position / 350\n",
    "    profile_local = geo.linear_profile_interpolation_sbs(profile_1, profile_2, weight)\n",
    "    profile_local_data = profile_local.rasterize(20)\n",
    "\n",
    "    # plot everything - rasterized data must be plotted in two halves because of the order of points\n",
    "    ax_0.clear()\n",
    "    num_raster_points = profile_local_data.shape[1]\n",
    "    nhalf = int(num_raster_points / 2)\n",
    "    ax_0.plot(profile_local_data[0, 1:nhalf], profile_local_data[1, 1:nhalf], \"b\", label=\"ideal\")\n",
    "    ax_0.plot(profile_local_data[0, nhalf:], profile_local_data[1, nhalf:], \"b\")\n",
    "    ax_0.plot(scanned_profile[2, :], scanned_profile[1, :], \"r\", label=\"scan\")\n",
    "\n",
    "    # format plot\n",
    "    ax_0.axis(\"auto\")  # Without this, the shown video will cause a rescaling of the plot\n",
    "    ax_0.set_title(\"profile at x = \" + str(np.round(scanner_position, decimals=1)) + \"mm\")\n",
    "    ax_0.set_xlim([-20, 20])\n",
    "    ax_0.set_ylim([0, 12])\n",
    "    ax_0.set_xlabel(\"z in mm\")\n",
    "    ax_0.set_ylabel(\"y in mm\")\n",
    "    ax_0.legend()\n",
    "\n",
    "\n",
    "def visualize_scan_phase(scan_data, scanned_profiles_in_sp, idx,time, num_timesteps_scan, show_weld, idx_offset):\n",
    "    cs_scanner_tcp_in_sp = get_cs_scanner_tcp_in_sp(scan_data, idx)\n",
    "    cs_scanner_in_sp = cs_scanner_schematic + cs_scanner_tcp_in_sp\n",
    "    cs_torch_in_sp = cs_torch_tcp_in_scanner_tcp + cs_scanner_tcp_in_sp\n",
    "    cs_camera_in_sp = cs_cam_in_scanner_tcp + cs_scanner_tcp_in_sp\n",
    "\n",
    "    scan_phase_plot_profile(cs_scanner_in_sp.location[0], scanned_profiles_in_sp[idx])\n",
    "\n",
    "    ipvfig.scatters[0].sequence_index = idx.item() + idx_offset\n",
    "    ipvfig.scatters[0].visible = True\n",
    "    temperatures = [scan_data.MH24_T01.data[idx], scan_data.MH24_T02.data[idx], scan_data.MH24_T03.data[idx]]\n",
    "    for i in range(len(ipvfig.meshes)):\n",
    "        ipvfig.meshes[i].sequence_index = time\n",
    "        ipvfig.meshes[i].visible = meshes[i].visible[time]\n",
    "\n",
    "    torch_color = [0, 1, 0]\n",
    "    if show_weld == True:\n",
    "        weld_size = 350\n",
    "    else:\n",
    "        weld_size = 0\n",
    " "
   ]
  },
  {
   "cell_type": "markdown",
   "metadata": {},
   "source": [
    "### Update welding sequence data"
   ]
  },
  {
   "cell_type": "code",
   "execution_count": 26,
   "metadata": {},
   "outputs": [],
   "source": [
    "def visualize_welding_phase(local_idx,time, idx_switch_cs, dsx_relevant_machine_data, vertices_weld):\n",
    "    wd_idx = list_idx_welding[local_idx]\n",
    "\n",
    "    torch_color = [0, 1, 0]\n",
    "    if dsx_relevant_machine_data.trigSchweissen.data[wd_idx] > 0:\n",
    "        brightness = (local_idx % 5) / 4\n",
    "        torch_color = [brightness, brightness, 1]\n",
    "    temperatures = [\n",
    "        dsx_relevant_machine_data.MH24_T01.data[wd_idx],\n",
    "        dsx_relevant_machine_data.MH24_T02.data[wd_idx],\n",
    "        dsx_relevant_machine_data.MH24_T03.data[wd_idx],\n",
    "    ]\n",
    "\n",
    "    num_video_frames = video_frames.shape[0]\n",
    "\n",
    "    for i in range(len(ipvfig.meshes)):\n",
    "        ipvfig.meshes[i].sequence_index = time\n",
    "        ipvfig.meshes[i].visible = meshes[i].visible[time]\n",
    "    if local_idx < video_frames.shape[0]:\n",
    "        ax_0.clear()\n",
    "        ax_0.imshow(video_frames[local_idx], cmap=\"gray\", vmin=0, vmax=255)"
   ]
  },
  {
   "cell_type": "code",
   "execution_count": null,
   "metadata": {},
   "outputs": [],
   "source": []
  },
  {
   "cell_type": "code",
   "execution_count": 27,
   "metadata": {},
   "outputs": [
    {
     "data": {
      "application/vnd.jupyter.widget-view+json": {
       "model_id": "53187e5b93e743aca49edd718d7c2d33",
       "version_major": 2,
       "version_minor": 0
      },
      "text/plain": [
       "VBox(children=(HBox(children=(VBox(children=(Label(value='Thermoelement 1: '), Label(value='Thermoelement 2: '…"
      ]
     },
     "metadata": {},
     "output_type": "display_data"
    }
   ],
   "source": [
    "[box, ipvfig, labels, ax_0, time_slider] = create_widgets()\n",
    "create_plots(meshes)\n",
    "\n",
    "\n",
    "idx_switch_cs = np.argmax(dsx_machine_position_data.FB_Rz.dropna(\"time\").diff(\"time\").data)\n",
    "\n",
    "\n",
    "def update_output(time):\n",
    "    if time < num_timesteps_scan_0:\n",
    "        scn_idx = list_idx_scan[0][time]        \n",
    "        visualize_scan_phase(\n",
    "            list_dsx_scan_data[0], list_scanned_profiles_in_sp[0], scn_idx,time, num_timesteps_scan_0, False, 0\n",
    "        )\n",
    "    elif time < num_timesteps_scan_0 + num_timesteps_welding:\n",
    "        ipvfig.scatters[0].visible = False\n",
    "        local_idx = time - num_timesteps_scan_0\n",
    "        visualize_welding_phase(local_idx,time, idx_switch_cs, dsx_relevant_machine_data, vertices_weld)\n",
    "    else:\n",
    "        scn_idx = list_idx_scan[1][time - num_timesteps_scan_0 - num_timesteps_welding]\n",
    "        visualize_scan_phase(\n",
    "            list_dsx_scan_data[1],\n",
    "            list_scanned_profiles_in_sp[1],\n",
    "            scn_idx,time,\n",
    "            num_timesteps_scan_1,\n",
    "            True,\n",
    "            num_scans_layer_0,\n",
    "        )\n",
    "\n",
    "ipv.xlim(0, 350)\n",
    "ipv.ylim(-20, 330)\n",
    "ipv.zlim(-175, 175)\n",
    "ipvfig.animation = 1000/target_frame_rate\n",
    "update_output(110)\n",
    "output = interactive_output(update_output, dict(time=time_slider))\n",
    "display(box)\n",
    "_ = ipv.view(elevation=30, azimuth=140, distance=1.7)"
   ]
  },
  {
   "cell_type": "code",
   "execution_count": 28,
   "metadata": {},
   "outputs": [
    {
     "data": {
      "text/plain": [
       "False"
      ]
     },
     "execution_count": 28,
     "metadata": {},
     "output_type": "execute_result"
    }
   ],
   "source": [
    "ipvfig.meshes[7].visible"
   ]
  },
  {
   "cell_type": "code",
   "execution_count": 29,
   "metadata": {},
   "outputs": [
    {
     "data": {
      "text/plain": [
       "(3, 7201)"
      ]
     },
     "execution_count": 29,
     "metadata": {},
     "output_type": "execute_result"
    }
   ],
   "source": [
    "vertices_weld.shape"
   ]
  },
  {
   "cell_type": "code",
   "execution_count": 30,
   "metadata": {},
   "outputs": [
    {
     "ename": "SyntaxError",
     "evalue": "invalid syntax (<ipython-input-30-1438bf8c9dc4>, line 1)",
     "output_type": "error",
     "traceback": [
      "\u001b[0;36m  File \u001b[0;32m\"<ipython-input-30-1438bf8c9dc4>\"\u001b[0;36m, line \u001b[0;32m1\u001b[0m\n\u001b[0;31m    ipvfig.meshes[0].\u001b[0m\n\u001b[0m                     ^\u001b[0m\n\u001b[0;31mSyntaxError\u001b[0m\u001b[0;31m:\u001b[0m invalid syntax\n"
     ]
    }
   ],
   "source": [
    "ipvfig.meshes[0]."
   ]
  }
 ],
 "metadata": {
  "kernelspec": {
   "display_name": "libo",
   "language": "python",
   "name": "libo"
  },
  "language_info": {
   "codemirror_mode": {
    "name": "ipython",
    "version": 3
   },
   "file_extension": ".py",
   "mimetype": "text/x-python",
   "name": "python",
   "nbconvert_exporter": "python",
   "pygments_lexer": "ipython3",
   "version": "3.7.6"
  }
 },
 "nbformat": 4,
 "nbformat_minor": 4
}
