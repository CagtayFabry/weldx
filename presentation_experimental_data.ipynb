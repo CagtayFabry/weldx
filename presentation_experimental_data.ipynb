{
 "cells": [
  {
   "cell_type": "code",
   "execution_count": 1,
   "metadata": {},
   "outputs": [],
   "source": [
    "%matplotlib widget"
   ]
  },
  {
   "cell_type": "code",
   "execution_count": 2,
   "metadata": {},
   "outputs": [],
   "source": [
    "import numpy as np\n",
    "import xarray as xr\n",
    "import ipyvolume as ipv\n",
    "import basic_meshes as bm\n",
    "from scipy.spatial import Delaunay\n",
    "from experimental_setup import get_setup\n",
    "from scipy.spatial.transform import Rotation as rot\n",
    "\n",
    "# plotting\n",
    "from mpl_toolkits.mplot3d import Axes3D  # noqa: F401 unused import\n",
    "import matplotlib.pyplot as plt\n",
    "\n",
    "# interactive plots\n",
    "import ipywidgets as widgets\n",
    "\n",
    "from ipywidgets import VBox, HBox, IntSlider, Checkbox, interactive_output, FloatSlider\n",
    "from IPython.display import display\n",
    "\n",
    "import libo\n",
    "from libo.io import tc3\n",
    "\n",
    "import weldx.geometry as geo\n",
    "import weldx.transformations as tf\n",
    "import weldx.utility as ut\n",
    "import weldx.visualization as vs"
   ]
  },
  {
   "cell_type": "markdown",
   "metadata": {},
   "source": [
    "# Setup"
   ]
  },
  {
   "cell_type": "code",
   "execution_count": 3,
   "metadata": {},
   "outputs": [],
   "source": [
    "setup = get_setup(5)\n",
    "\n",
    "profile_raster_width = 4\n",
    "trace_raster_width = 4"
   ]
  },
  {
   "cell_type": "markdown",
   "metadata": {},
   "source": [
    "# Import and process experimental data"
   ]
  },
  {
   "cell_type": "code",
   "execution_count": 4,
   "metadata": {},
   "outputs": [],
   "source": [
    "# import machine data\n",
    "ds_system_data_base = tc3.to_xarray(tc3.read_db(setup.system_data_index))\n",
    "\n",
    "# import scan data\n",
    "scan_data_layer_0 = libo.io.tools.merge_scan_tcp(\n",
    "    scan=setup.scan_data_layer_0_scan_idx, tcp=setup.scan_data_layer_0_tcp_idx\n",
    ")\n",
    "scan_data_layer_1 = libo.io.tools.merge_scan_tcp(\n",
    "    scan=setup.scan_data_layer_1_scan_idx, tcp=setup.scan_data_layer_1_tcp_idx\n",
    ")\n",
    "\n",
    "# collect relevant data\n",
    "ds_relevant_data = ds_system_data_base[\n",
    "    [\"FB_X\", \"FB_Y\", \"FB_Z\", \"FB_Rx\", \"FB_Ry\", \"FB_Rz\", \"trigSchweissen\", \"trigScan2_prog\"]\n",
    "].dropna(\"time\")\n",
    "if setup.measurement_data_id is not None:\n",
    "    dsx_measurement_data = tc3.to_xarray(tc3.read_db(setup.measurement_data_id))\n",
    "    dsx_temperature_data = dsx_measurement_data[[\"MH24_T01\", \"MH24_T02\", \"MH24_T03\"]].dropna(\"time\")\n",
    "    ds_relevant_data = xr.merge([dsx_temperature_data.interp_like(ds_relevant_data), ds_relevant_data])\n",
    "    scan_data_layer_0 = xr.merge([dsx_temperature_data.interp(time=scan_data_layer_0.time), scan_data_layer_0],)\n",
    "    scan_data_layer_1 = xr.merge([dsx_temperature_data.interp(time=scan_data_layer_1.time), scan_data_layer_1],)\n",
    "\n",
    "\n",
    "# extract system movement data\n",
    "ds_movement_data = ds_relevant_data[[\"FB_X\", \"FB_Y\", \"FB_Z\", \"FB_Rx\", \"FB_Ry\", \"FB_Rz\"]]\n",
    "movement_coordinates_base = ds_movement_data.to_array().data[:3, :]\n",
    "movement_angles_degree_base = ds_movement_data.to_array().data[3:6, :]\n",
    "\n",
    "# extract welding movement data\n",
    "ds_welding_movement_data = ds_movement_data.where(ds_system_data_base.trigSchweissen == 1)\n",
    "welding_coordinates_base = ds_welding_movement_data.to_array().data[:3, :]\n",
    "welding_angles_degree_base = ds_welding_movement_data.to_array().data[3:, :]\n",
    "\n",
    "# extract scanner movement data\n",
    "scanner_tcp_layer_0_coordinates_base = scan_data_layer_0.scan_tcp.sel(tcp_variable=[\"X\", \"Y\", \"Z\"]).data\n",
    "scanner_tcp_layer_0_angles_degree_base = scan_data_layer_0.scan_tcp.sel(tcp_variable=[\"Rx\", \"Ry\", \"Rz\"]).data\n",
    "scanner_tcp_layer_1_coordinates_base = scan_data_layer_1.scan_tcp.sel(tcp_variable=[\"X\", \"Y\", \"Z\"]).data\n",
    "scanner_tcp_layer_1_angles_degree_base = scan_data_layer_1.scan_tcp.sel(tcp_variable=[\"Rx\", \"Ry\", \"Rz\"]).data"
   ]
  },
  {
   "cell_type": "code",
   "execution_count": 5,
   "metadata": {},
   "outputs": [
    {
     "data": {
      "application/vnd.jupyter.widget-view+json": {
       "model_id": "23a0ed0e24be4c8a9cbdb9b16bc3fdb0",
       "version_major": 2,
       "version_minor": 0
      },
      "text/plain": [
       "Canvas(toolbar=Toolbar(toolitems=[('Home', 'Reset original view', 'home', 'home'), ('Back', 'Back to previous …"
      ]
     },
     "metadata": {},
     "output_type": "display_data"
    },
    {
     "data": {
      "text/html": [
       "<pre>&lt;xarray.Dataset&gt;\n",
       "Dimensions:   (time: 152051)\n",
       "Coordinates:\n",
       "  * time      (time) datetime64[ns] 2020-02-25T13:32:16.755000 ... 2020-02-25T13:57:37.355000\n",
       "Data variables:\n",
       "    MH24_T01  (time) float64 22.21 22.21 22.21 22.21 ... 28.83 28.83 28.83 28.83\n",
       "    MH24_T02  (time) float64 21.97 21.97 21.97 21.97 ... 51.81 51.81 51.81 51.81\n",
       "    MH24_T03  (time) float64 22.1 22.1 22.1 22.11 ... 54.48 54.48 54.48 54.48\n",
       "Attributes:\n",
       "    scopeName:         TC3 Export Tool\n",
       "    svdFile:           D:\\Messdaten\\Leistungsmessung\\2020_02_25_14_57_38_Leis...\n",
       "    StartTimeTC3:      132271111367550000\n",
       "    EndTimeTC3:        132271126573580000\n",
       "    RunTime:           1520.603\n",
       "    StartTime:         2020-02-25 14:32:16.755000 +0100\n",
       "    EndTime:           2020-02-25 14:57:37.358000 +0100\n",
       "    hostname:          WS7096\n",
       "    version:           0.2.2\n",
       "    TC3Import:         Python3\n",
       "    filename:          \n",
       "    filepath:          \n",
       "    RunTime_TimeUnit:  s\n",
       "    file_id:           18202</pre>"
      ],
      "text/plain": [
       "<xarray.Dataset>\n",
       "Dimensions:   (time: 152051)\n",
       "Coordinates:\n",
       "  * time      (time) datetime64[ns] 2020-02-25T13:32:16.755000 ... 2020-02-25T13:57:37.355000\n",
       "Data variables:\n",
       "    MH24_T01  (time) float64 22.21 22.21 22.21 22.21 ... 28.83 28.83 28.83 28.83\n",
       "    MH24_T02  (time) float64 21.97 21.97 21.97 21.97 ... 51.81 51.81 51.81 51.81\n",
       "    MH24_T03  (time) float64 22.1 22.1 22.1 22.11 ... 54.48 54.48 54.48 54.48\n",
       "Attributes:\n",
       "    scopeName:         TC3 Export Tool\n",
       "    svdFile:           D:\\Messdaten\\Leistungsmessung\\2020_02_25_14_57_38_Leis...\n",
       "    StartTimeTC3:      132271111367550000\n",
       "    EndTimeTC3:        132271126573580000\n",
       "    RunTime:           1520.603\n",
       "    StartTime:         2020-02-25 14:32:16.755000 +0100\n",
       "    EndTime:           2020-02-25 14:57:37.358000 +0100\n",
       "    hostname:          WS7096\n",
       "    version:           0.2.2\n",
       "    TC3Import:         Python3\n",
       "    filename:          \n",
       "    filepath:          \n",
       "    RunTime_TimeUnit:  s\n",
       "    file_id:           18202"
      ]
     },
     "execution_count": 5,
     "metadata": {},
     "output_type": "execute_result"
    }
   ],
   "source": [
    "plt.figure()\n",
    "plt.plot(scan_data_layer_1.MH24_T01.data)\n",
    "scan_data_layer_0\n",
    "dsx_temperature_data"
   ]
  },
  {
   "cell_type": "code",
   "execution_count": 6,
   "metadata": {},
   "outputs": [
    {
     "data": {
      "text/html": [
       "<pre>&lt;xarray.Dataset&gt;\n",
       "Dimensions:       (n: 1280, profile: 1597, scan_coord: 3, tcp_variable: 6)\n",
       "Coordinates:\n",
       "    time          (profile) datetime64[ns] 2020-02-25T13:50:50.063000 ... 2020-02-25T13:51:06.053000\n",
       "  * profile       (profile) uint64 1 2 3 4 5 6 ... 1595 1596 1597 1598 1599 1600\n",
       "  * tcp_variable  (tcp_variable) &lt;U2 &#x27;X&#x27; &#x27;Y&#x27; &#x27;Z&#x27; &#x27;Rx&#x27; &#x27;Ry&#x27; &#x27;Rz&#x27;\n",
       "  * scan_coord    (scan_coord) &lt;U1 &#x27;x&#x27; &#x27;y&#x27; &#x27;z&#x27;\n",
       "  * n             (n) uint64 0 1 2 3 4 5 6 ... 1274 1275 1276 1277 1278 1279\n",
       "Data variables:\n",
       "    MH24_T01      (profile) float64 352.7 352.7 352.7 ... 296.9 296.9 296.9\n",
       "    MH24_T02      (profile) float64 249.1 249.1 249.1 ... 226.5 226.5 226.5\n",
       "    MH24_T03      (profile) float64 410.0 410.0 410.0 ... 337.5 337.5 337.0\n",
       "    scan_tcp      (profile, tcp_variable) float64 48.01 1.026e+03 ... 89.54\n",
       "    scan_line     (profile, n, scan_coord) float64 0.0 54.88 ... -59.74 208.9</pre>"
      ],
      "text/plain": [
       "<xarray.Dataset>\n",
       "Dimensions:       (n: 1280, profile: 1597, scan_coord: 3, tcp_variable: 6)\n",
       "Coordinates:\n",
       "    time          (profile) datetime64[ns] 2020-02-25T13:50:50.063000 ... 2020-02-25T13:51:06.053000\n",
       "  * profile       (profile) uint64 1 2 3 4 5 6 ... 1595 1596 1597 1598 1599 1600\n",
       "  * tcp_variable  (tcp_variable) <U2 'X' 'Y' 'Z' 'Rx' 'Ry' 'Rz'\n",
       "  * scan_coord    (scan_coord) <U1 'x' 'y' 'z'\n",
       "  * n             (n) uint64 0 1 2 3 4 5 6 ... 1274 1275 1276 1277 1278 1279\n",
       "Data variables:\n",
       "    MH24_T01      (profile) float64 352.7 352.7 352.7 ... 296.9 296.9 296.9\n",
       "    MH24_T02      (profile) float64 249.1 249.1 249.1 ... 226.5 226.5 226.5\n",
       "    MH24_T03      (profile) float64 410.0 410.0 410.0 ... 337.5 337.5 337.0\n",
       "    scan_tcp      (profile, tcp_variable) float64 48.01 1.026e+03 ... 89.54\n",
       "    scan_line     (profile, n, scan_coord) float64 0.0 54.88 ... -59.74 208.9"
      ]
     },
     "execution_count": 6,
     "metadata": {},
     "output_type": "execute_result"
    }
   ],
   "source": [
    "scan_data_layer_1"
   ]
  },
  {
   "cell_type": "markdown",
   "metadata": {},
   "source": [
    "# Define coordinate systems\n",
    "\n",
    "- `cs_base` is the root coordinate system\n",
    "- `cs_ref` is defined in `cs_base` -> coordinate system created from 3 robot positions\n",
    "- `cs_sp` is defined in `cs_ref` -> specimen coordinate system with x pointing into the direction of the trace\n",
    "\n",
    "All data will be transformed to the specimens coordinate system. Data which is not defined in the specimen coordinate system gets the corresponing coordinate system's suffix attached to the variable name\n",
    "\n",
    "Important note: Measured data is not perfectly orthogonal. We use the cross product to get a z axis which is perfectly orthogonal (in floating point precision) and recalculate a perfectly orthogonal y-axis. There are certainly better ways to address this problem."
   ]
  },
  {
   "cell_type": "code",
   "execution_count": 7,
   "metadata": {},
   "outputs": [],
   "source": [
    "# Calculate orthogonal z axis and construct reference coordinate system from x and z axis\n",
    "vec_x = setup.offset_ox_ref - setup.origin_ref\n",
    "vec_y = setup.offset_oy_ref - setup.origin_ref\n",
    "vec_z = np.cross(vec_x, vec_y)\n",
    "cs_ref_in_base = tf.LocalCoordinateSystem.construct_from_xz_and_orientation(\n",
    "    vec_x=vec_x, vec_z=vec_z, origin=setup.origin_ref\n",
    ")\n",
    "\n",
    "\n",
    "orientation_scanner_tcp_in_flange = rot.from_euler(\n",
    "    angles=[21.9714, -0.7410, -89.7500], seq=\"xyz\", degrees=True\n",
    ").as_dcm()\n",
    "orientation_torch_tcp_in_flange = rot.from_euler(angles=[-22.0474, 0.5659, 90.7092], seq=\"xyz\", degrees=True).as_dcm()\n",
    "\n",
    "# create constant coordinate systems\n",
    "cs_sp_in_ref = tf.LocalCoordinateSystem(setup.orientation_sp_in_ref, setup.coordinates_sp_in_ref)\n",
    "cs_sp_in_base = cs_sp_in_ref + cs_ref_in_base\n",
    "cs_torch_tcp_in_flange = tf.LocalCoordinateSystem(orientation_torch_tcp_in_flange, [-49.325, -0.410, 477.208])\n",
    "cs_scanner_tcp_in_flange = tf.LocalCoordinateSystem(orientation_scanner_tcp_in_flange, [-47.949, -105.258, 479.690])\n",
    "cs_scan_in_scanner_tcp = tf.LocalCoordinateSystem(basis=[[1, 0, 0], [0, 1, 0], [0, 0, -1]], origin=[0, 0, 260])\n",
    "cs_scanner_tcp_in_torch_tcp = cs_scanner_tcp_in_flange - cs_torch_tcp_in_flange\n",
    "cs_torch_tcp_in_scanner_tcp = cs_torch_tcp_in_flange - cs_scanner_tcp_in_flange\n",
    "cs_temp_01_in_ref = tf.LocalCoordinateSystem(origin=setup.coordinates_temp_1_in_base)\n",
    "cs_temp_02_in_ref = tf.LocalCoordinateSystem(origin=setup.coordinates_temp_2_in_base)\n",
    "cs_temp_03_in_ref = tf.LocalCoordinateSystem(origin=setup.coordinates_temp_3_in_base)\n",
    "cs_temp_01_in_sp = cs_temp_01_in_ref - cs_sp_in_ref\n",
    "cs_temp_02_in_sp = cs_temp_02_in_ref - cs_sp_in_ref\n",
    "cs_temp_03_in_sp = cs_temp_03_in_ref - cs_sp_in_ref\n",
    "\n",
    "\n",
    "\n",
    "# create functions for variable coordinate systems\n",
    "def get_cs_scanner_tcp_in_sp(scan_data, index):\n",
    "    angles = scan_data.scan_tcp.sel(tcp_variable=[\"Rx\", \"Ry\", \"Rz\"]).data[index]\n",
    "    orientation = rot.from_euler(angles=angles, seq=\"xyz\", degrees=True).as_dcm()\n",
    "    coordinates = scan_data.scan_tcp.sel(tcp_variable=[\"X\", \"Y\", \"Z\"]).data[index]\n",
    "    cs_scanner_tcp_in_base = tf.LocalCoordinateSystem(basis=orientation, origin=coordinates)\n",
    "    return cs_scanner_tcp_in_base - cs_ref_in_base - cs_sp_in_ref\n",
    "\n",
    "\n",
    "def get_cs_scan_in_sp(scan_data, index):\n",
    "    return cs_scan_in_scanner_tcp + get_cs_scanner_tcp_in_sp(scan_data, index)"
   ]
  },
  {
   "cell_type": "markdown",
   "metadata": {},
   "source": [
    "# Define data transformations"
   ]
  },
  {
   "cell_type": "code",
   "execution_count": 8,
   "metadata": {},
   "outputs": [],
   "source": [
    "def coordinates_to_child_from_parent(coordinates, cs_child):\n",
    "    rotation = cs_child.orientation.transpose()\n",
    "    translation = cs_child.location[:, np.newaxis]\n",
    "    return np.matmul(rotation, coordinates - translation)\n",
    "\n",
    "\n",
    "def coordinates_to_parent_from_child(coordinates, cs_child):\n",
    "    rotation = cs_child.orientation\n",
    "    translation = cs_child.location[:, np.newaxis]\n",
    "    return np.matmul(rotation, coordinates) + translation"
   ]
  },
  {
   "cell_type": "markdown",
   "metadata": {},
   "source": [
    "# Transform data to specimen coordinate system"
   ]
  },
  {
   "cell_type": "code",
   "execution_count": 9,
   "metadata": {},
   "outputs": [],
   "source": [
    "welding_coordinates_sp = coordinates_to_child_from_parent(welding_coordinates_base, cs_sp_in_base)\n",
    "\n",
    "\n",
    "def transform_scan_data_to_sp(scan_data_in_scan):\n",
    "    scanned_profiles_in_sp = []\n",
    "    num_scans = scan_data_in_scan.profile.size\n",
    "    for i in range(num_scans):\n",
    "        scanned_profile_in_scan = scan_data_in_scan.scan_line.data[i].transpose()\n",
    "        scanned_profiles_in_sp += [\n",
    "            coordinates_to_parent_from_child(scanned_profile_in_scan, get_cs_scan_in_sp(scan_data_in_scan, i))\n",
    "        ]\n",
    "    return np.array(scanned_profiles_in_sp, float)\n",
    "\n",
    "\n",
    "scanned_profiles_layer_0_sp = transform_scan_data_to_sp(scan_data_layer_0)\n",
    "scanned_profiles_layer_1_sp = transform_scan_data_to_sp(scan_data_layer_1)"
   ]
  },
  {
   "cell_type": "markdown",
   "metadata": {},
   "source": [
    "# Create theoretical geometry"
   ]
  },
  {
   "cell_type": "code",
   "execution_count": 10,
   "metadata": {},
   "outputs": [],
   "source": [
    "# create points\n",
    "pt_0 = [150, 8]\n",
    "pt_1_1 = [np.tan(setup.groove_angle_start / 360 * np.pi) * 8, 8]\n",
    "pt_1_2 = [np.tan(setup.groove_angle_end / 360 * np.pi) * 8, 8]\n",
    "pt_2 = [0, 0]\n",
    "pt_3 = [150, 0]\n",
    "\n",
    "# create shapes\n",
    "shape_p1_r = geo.Shape().add_line_segments([pt_0, pt_1_1, pt_2])\n",
    "shape_p2_r = geo.Shape().add_line_segments([pt_0, pt_1_2, pt_2])\n",
    "shape_p1_l = shape_p1_r.reflect([1, 0])\n",
    "shape_p2_l = shape_p2_r.reflect([1, 0])\n",
    "\n",
    "# create profiles\n",
    "profile_1 = geo.Profile([shape_p1_l, shape_p1_r])\n",
    "profile_2 = geo.Profile([shape_p2_l, shape_p2_r])\n",
    "\n",
    "# create variable profile\n",
    "variable_profile = geo.VariableProfile([profile_1, profile_2], [0, 1], [geo.linear_profile_interpolation_sbs])\n",
    "\n",
    "# create trace\n",
    "trace = geo.Trace(geo.LinearHorizontalTraceSegment(350))\n",
    "\n",
    "# create geometry\n",
    "geometry = geo.Geometry(variable_profile, trace)\n",
    "\n",
    "# rasterize profiles\n",
    "profile_1_data = profile_1.rasterize(4)\n",
    "profile_2_data = profile_2.rasterize(4)\n",
    "\n",
    "# rasterize geometry\n",
    "geometry_data_sp = geometry.rasterize(profile_raster_width=profile_raster_width, trace_raster_width=trace_raster_width)\n",
    "\n",
    "# calculate triangles\n",
    "triangles = Delaunay(geometry_data_sp.transpose()[:, :2]).simplices"
   ]
  },
  {
   "cell_type": "markdown",
   "metadata": {},
   "source": [
    "# Create sequence"
   ]
  },
  {
   "cell_type": "code",
   "execution_count": 11,
   "metadata": {},
   "outputs": [],
   "source": [
    "# create time line\n",
    "\n",
    "num_timesteps_scan_0 = 400\n",
    "num_scans_layer_0 = scan_data_layer_0.profile.size\n",
    "indices_scan_0 = np.arange(0, num_scans_layer_0 + 0.5, num_scans_layer_0 / num_timesteps_scan_0)\n",
    "indices_scan_0 = np.array(np.round(indices_scan_0), int)\n",
    "\n",
    "\n",
    "num_timesteps_movement = 800\n",
    "idx_scan_1_start = np.argmax(ds_relevant_data.trigScan2_prog.data > 0.1)\n",
    "num_movement_data = idx_scan_1_start  # movement_coordinates_base.shape[1]\n",
    "indices_movement = np.arange(0, num_movement_data + 0.5, num_movement_data / num_timesteps_movement)\n",
    "indices_movement = np.array(np.round(indices_movement), int)\n",
    "\n",
    "\n",
    "num_timesteps_scan_1 = 400\n",
    "num_scans_layer_1 = scan_data_layer_1.profile.size\n",
    "indices_scan_1 = np.arange(0, num_scans_layer_1 + 0.5, num_scans_layer_1 / num_timesteps_scan_1)\n",
    "indices_scan_1 = np.array(np.round(indices_scan_1), int)\n",
    "\n",
    "\n",
    "num_timesteps_total = num_timesteps_scan_0 + num_timesteps_movement + num_timesteps_scan_1"
   ]
  },
  {
   "cell_type": "markdown",
   "metadata": {},
   "source": [
    "# Create meshes"
   ]
  },
  {
   "cell_type": "code",
   "execution_count": 12,
   "metadata": {},
   "outputs": [],
   "source": [
    "scale_scanner = 15\n",
    "\n",
    "\n",
    "[vert_scanner, tri_scanner] = bm.create_cone_mesh(40)\n",
    "vert_scanner = vert_scanner + np.array([0, 0, -1])[:, np.newaxis]\n",
    "vert_scanner = np.matmul([[scale_scanner, 0, 0], [0, scale_scanner, 0], [0, 0, scale_scanner]], vert_scanner)\n",
    "\n",
    "\n",
    "scale_torch = 15\n",
    "\n",
    "[vert_torch, tri_torch] = bm.create_cone_mesh(40)\n",
    "vert_torch = vert_torch + np.array([0, 0, -1])[:, np.newaxis]\n",
    "vert_torch = np.matmul([[scale_torch, 0, 0], [0, scale_torch, 0], [0, 0, scale_torch]], vert_torch)\n",
    "\n",
    "cylinder_radius = 5\n",
    "cylinder_height = 1\n",
    "[vertices_cylinder, triangle_indices_cylinder] = bm.create_unit_cylinder_mesh(40,1)\n",
    "vertices_cylinder = np.matmul([[cylinder_radius, 0, 0], [0, cylinder_radius, 0], [0, 0, cylinder_height]], vertices_cylinder)"
   ]
  },
  {
   "cell_type": "code",
   "execution_count": 13,
   "metadata": {},
   "outputs": [
    {
     "data": {
      "application/vnd.jupyter.widget-view+json": {
       "model_id": "4f5965bc59284139a15e7e8b661a3151",
       "version_major": 2,
       "version_minor": 0
      },
      "text/plain": [
       "VBox(children=(HBox(children=(Figure(camera=PerspectiveCamera(fov=46.0, position=(0.0, 0.0, 2.0), quaternion=(…"
      ]
     },
     "metadata": {},
     "output_type": "display_data"
    }
   ],
   "source": [
    "out2 = widgets.Output(layout={\"border\": \"0px solid black\"})\n",
    "# create figure inside output widget\n",
    "with out2:\n",
    "    fig = plt.figure()\n",
    "    fig.canvas.layout.height = \"400px\"\n",
    "    fig.canvas.layout.width = \"800px\"\n",
    "    gs = fig.add_gridspec(1, 1)\n",
    "    ax_0 = fig.add_subplot(gs[0, 0])\n",
    "\n",
    "\n",
    "ipvfig = ipv.figure()\n",
    "layout = widgets.Layout(width=\"200px\", height=\"40px\")\n",
    "style = {\"description_width\": \"initial\"}\n",
    "\n",
    "\n",
    "# ipv.show()\n",
    "\n",
    "play = widgets.Play(\n",
    "    value=0, min=0, max=num_timesteps_total, step=1, interval=10, description=\"Press play\", disabled=False\n",
    ")\n",
    "time_slider = IntSlider(min=0, max=num_timesteps_total, step=1, description=\"time\", continuous_update=True)\n",
    "w1 = dict(time=time_slider)\n",
    "\n",
    "widgets.jslink((play, \"value\"), (time_slider, \"value\"))\n",
    "w = {**w1}\n",
    "\n",
    "\n",
    "upper_box = HBox()\n",
    "lower_box = HBox()\n",
    "box = VBox([upper_box, lower_box])\n",
    "\n",
    "ipv.plot_trisurf(\n",
    "    geometry_data_sp[0], geometry_data_sp[1], geometry_data_sp[2], triangles=triangles, color=[0.6, 0.6, 0.6]\n",
    ")\n",
    "ipv.plot_trisurf(vert_scanner[0], vert_scanner[1], vert_scanner[2], triangles=tri_scanner, color=[1, 0, 0])\n",
    "ipv.plot_trisurf(vert_torch[0], vert_torch[1], vert_torch[2], triangles=tri_torch, color=[0, 1, 0])\n",
    "ipv.plot_trisurf(vertices_cylinder[0], vertices_cylinder[1], vertices_cylinder[2], triangles=triangle_indices_cylinder, color=[0, 0, 1])\n",
    "ipv.plot_trisurf(vertices_cylinder[0], vertices_cylinder[1], vertices_cylinder[2], triangles=triangle_indices_cylinder, color=[0, 0, 1])\n",
    "ipv.plot_trisurf(vertices_cylinder[0], vertices_cylinder[1], vertices_cylinder[2], triangles=triangle_indices_cylinder, color=[0, 0, 1])\n",
    "scanned_profiles = np.concatenate((scanned_profiles_layer_0_sp, scanned_profiles_layer_1_sp), axis=0)\n",
    "ipv.scatter(\n",
    "    scanned_profiles[:, 0, :],\n",
    "    scanned_profiles[:, 1, :],\n",
    "    scanned_profiles[:, 2, :],\n",
    "    size=1,\n",
    "    marker=\"sphere\",\n",
    "    color=\"red\",\n",
    ")\n",
    "\n",
    "x_min = 0\n",
    "x_max = 350\n",
    "y_min = -175\n",
    "y_max = 175\n",
    "z_min = -20\n",
    "z_max = 330\n",
    "ipv.xlim(x_min, x_max)\n",
    "ipv.ylim(y_min, y_max)\n",
    "ipv.zlim(z_min, z_max)\n",
    "\n",
    "d_x = x_max - x_min\n",
    "d_y = y_max - y_min\n",
    "d_z = z_max - z_min\n",
    "\n",
    "s_x = d_x / d_y\n",
    "s_y = d_y / d_y\n",
    "s_z = d_z / d_y\n",
    "\n",
    "axix_correction_scale_mat = [[s_x, 0, 0], [0, s_y, 0], [0, 0, s_z]]\n",
    "\n",
    "\n",
    "cs_scanner_schematic = tf.LocalCoordinateSystem(origin=[0, 0, -260])\n",
    "\n",
    "idx_switch_cs = np.argmax(ds_movement_data.FB_Rz.dropna(\"time\").diff(\"time\").data)\n",
    "idx_scan_1 = np.argmax(ds_relevant_data.trigScan2_prog.data > 0.1)\n",
    "\n",
    "\n",
    "def transform_and_update_mesh(vertex_data_mesh, cs_transformation, ipv_idx, scale_x=1, scale_y=1, scale_z=1):\n",
    "    scale_mat = [[scale_x, 0, 0], [0, scale_y, 0], [0, 0, scale_z]]\n",
    "    vertex_data_trans = np.matmul(scale_mat, vertex_data_mesh)\n",
    "    vertex_data_trans = np.matmul(cs_transformation.orientation, vertex_data_trans)\n",
    "    vertex_data_trans = np.matmul(axix_correction_scale_mat, vertex_data_trans)\n",
    "    vertex_data_trans = vertex_data_trans + cs_transformation.location[:, np.newaxis]\n",
    "    ipvfig.meshes[ipv_idx].x = vertex_data_trans[0]\n",
    "    ipvfig.meshes[ipv_idx].y = vertex_data_trans[1]\n",
    "    ipvfig.meshes[ipv_idx].z = vertex_data_trans[2]\n",
    "\n",
    "\n",
    "def update_meshes(cs_scanner_in_sp, cs_torch_in_sp, torch_color, t_0, t_1, t_2):\n",
    "    transform_and_update_mesh(vert_scanner, cs_scanner_in_sp, 1)\n",
    "    transform_and_update_mesh(vert_torch, cs_torch_in_sp, 2)\n",
    "    ipvfig.meshes[2].color = torch_color\n",
    "    \n",
    "    transform_and_update_mesh(vertices_cylinder, cs_temp_01_in_sp, 3, scale_z = t_0/2)\n",
    "    transform_and_update_mesh(vertices_cylinder, cs_temp_02_in_sp, 4, scale_z = t_1/2)\n",
    "    transform_and_update_mesh(vertices_cylinder, cs_temp_03_in_sp, 5, scale_z = t_2/2)\n",
    "    \n",
    "    color_morph_t_0 = np.clip(t_0/600, 0,1)\n",
    "    color_morph_t_1 = np.clip(t_1/600, 0,1) \n",
    "    color_morph_t_2 = np.clip(t_2/600, 0,1) \n",
    "    ipvfig.meshes[3].color = [color_morph_t_0,0,1 - color_morph_t_0]\n",
    "    ipvfig.meshes[4].color = [color_morph_t_1,0,1 - color_morph_t_1]\n",
    "    ipvfig.meshes[5].color = [color_morph_t_2,0,1 - color_morph_t_2]\n",
    "\n",
    "\n",
    "def visualize_scan_phase(scan_data, scanned_profiles_in_sp, idx, num_timesteps_scan, idx_offset=0):\n",
    "    cs_scanner_tcp_in_sp = get_cs_scanner_tcp_in_sp(scan_data, idx)\n",
    "    cs_scanner_in_sp = cs_scanner_schematic + cs_scanner_tcp_in_sp\n",
    "    cs_torch_in_sp = cs_torch_tcp_in_scanner_tcp + cs_scanner_tcp_in_sp\n",
    "\n",
    "    weight = cs_scanner_in_sp.location[0] / 350\n",
    "    profile_local = geo.linear_profile_interpolation_sbs(profile_1, profile_2, weight)\n",
    "    profile_local_data = profile_local.rasterize(20)\n",
    "    num_raster_points = profile_local_data.shape[1]\n",
    "    nhalf = int(num_raster_points / 2)\n",
    "    ax_0.clear()\n",
    "    ax_0.plot(profile_local_data[0, 1:nhalf], profile_local_data[1, 1:nhalf], \"b\", label=\"ideal profile\")\n",
    "    ax_0.plot(profile_local_data[0, nhalf:], profile_local_data[1, nhalf:], \"b\")\n",
    "    ax_0.plot(scanned_profiles_in_sp[idx, 1, :], scanned_profiles_in_sp[idx, 2, :], \"r\", label=\"scan\")\n",
    "    ax_0.set_xlim([-20, 20])\n",
    "    ax_0.set_ylim([0, 12])\n",
    "    ax_0.legend()\n",
    "    ipvfig.scatters[0].sequence_index = idx.item() + idx_offset\n",
    "    ipvfig.scatters[0].visible = True\n",
    "    t_0 = scan_data.MH24_T01.data[idx]\n",
    "    t_1 = scan_data.MH24_T02.data[idx]\n",
    "    t_2 = scan_data.MH24_T03.data[idx]\n",
    "    update_meshes(cs_scanner_in_sp, cs_torch_in_sp, [0, 1, 0],t_0,t_1,t_2)\n",
    "\n",
    "\n",
    "def update_output(time):\n",
    "\n",
    "    if time < num_timesteps_scan_0:\n",
    "        scn_idx = indices_scan_0[time]\n",
    "        visualize_scan_phase(scan_data_layer_0, scanned_profiles_layer_0_sp, scn_idx, num_timesteps_scan_0)\n",
    "    elif time < num_timesteps_scan_0 + num_timesteps_movement:\n",
    "        ipvfig.scatters[0].visible = False\n",
    "        mvm_idx = indices_movement[time - num_timesteps_scan_0]\n",
    "\n",
    "        x_angles_base = movement_angles_degree_base[:, mvm_idx]\n",
    "        x_coordinates_base = movement_coordinates_base[:, mvm_idx]\n",
    "        x_orientation_base = rot.from_euler(angles=x_angles_base, seq=\"xyz\", degrees=True).as_dcm()\n",
    "        cs_x_in_base = tf.LocalCoordinateSystem(basis=x_orientation_base, origin=x_coordinates_base)\n",
    "        cs_x_in_sp = cs_x_in_base - cs_ref_in_base - cs_sp_in_ref\n",
    "        if mvm_idx > idx_switch_cs:\n",
    "            cs_torch_in_sp = cs_torch_tcp_in_scanner_tcp + cs_x_in_sp\n",
    "            cs_scanner_in_sp = cs_scanner_schematic + cs_x_in_sp\n",
    "        else:\n",
    "            cs_torch_in_sp = cs_x_in_sp\n",
    "            cs_scanner_in_sp = cs_scanner_schematic + cs_scanner_tcp_in_torch_tcp + cs_torch_in_sp\n",
    "        torch_color = [0, 1, 0]\n",
    "        print(\"function called\")\n",
    "        if ds_relevant_data.trigSchweissen.data[mvm_idx] > 0:\n",
    "            brightness = (time % 5) / 4\n",
    "            torch_color = [brightness, brightness, 1]\n",
    "            print(\"triggered\")\n",
    "        t_0 = ds_relevant_data.MH24_T01.data[mvm_idx] \n",
    "        t_1 = ds_relevant_data.MH24_T02.data[mvm_idx] \n",
    "        t_2 = ds_relevant_data.MH24_T03.data[mvm_idx] \n",
    "        update_meshes(cs_scanner_in_sp, cs_torch_in_sp, torch_color,t_0,t_1,t_2)\n",
    "    else:\n",
    "        scn_idx = indices_scan_1[time - num_timesteps_scan_0 - num_timesteps_movement]\n",
    "        visualize_scan_phase(\n",
    "            scan_data_layer_1, scanned_profiles_layer_1_sp, scn_idx, num_timesteps_scan_1, num_scans_layer_0\n",
    "        )\n",
    "\n",
    "\n",
    "output = interactive_output(update_output, w)\n",
    "upper_box.children = [ipvfig, out2]\n",
    "lower_box.children = [play, time_slider]\n",
    "display(box)"
   ]
  },
  {
   "cell_type": "code",
   "execution_count": 14,
   "metadata": {},
   "outputs": [
    {
     "data": {
      "text/plain": [
       "22.2"
      ]
     },
     "execution_count": 14,
     "metadata": {},
     "output_type": "execute_result"
    }
   ],
   "source": [
    "update_output(385)\n",
    "scan_data_layer_0.MH24_T01.data[200]"
   ]
  },
  {
   "cell_type": "code",
   "execution_count": 15,
   "metadata": {},
   "outputs": [
    {
     "data": {
      "text/plain": [
       "8657"
      ]
     },
     "execution_count": 15,
     "metadata": {},
     "output_type": "execute_result"
    }
   ],
   "source": [
    "idx_switch_cs = np.argmax(ds_movement_data.FB_Rz.dropna(\"time\").diff(\"time\").data)\n",
    "idx_switch_cs\n",
    "indices_movement[293 - num_timesteps_scan_0]"
   ]
  },
  {
   "cell_type": "code",
   "execution_count": 16,
   "metadata": {},
   "outputs": [
    {
     "data": {
      "text/plain": [
       "1.0"
      ]
     },
     "execution_count": 16,
     "metadata": {},
     "output_type": "execute_result"
    }
   ],
   "source": [
    "ds_relevant_data.trigSchweissen.data[2320]"
   ]
  },
  {
   "cell_type": "code",
   "execution_count": 17,
   "metadata": {},
   "outputs": [
    {
     "data": {
      "application/vnd.jupyter.widget-view+json": {
       "model_id": "85dd68b2f55b45b3901fc7c4babedd87",
       "version_major": 2,
       "version_minor": 0
      },
      "text/plain": [
       "Canvas(toolbar=Toolbar(toolitems=[('Home', 'Reset original view', 'home', 'home'), ('Back', 'Back to previous …"
      ]
     },
     "metadata": {},
     "output_type": "display_data"
    },
    {
     "data": {
      "text/plain": [
       "[<matplotlib.lines.Line2D at 0x7f25112bdf10>]"
      ]
     },
     "execution_count": 17,
     "metadata": {},
     "output_type": "execute_result"
    }
   ],
   "source": [
    "plt.figure()\n",
    "plt.plot(ds_relevant_data.trigSchweissen.data)"
   ]
  },
  {
   "cell_type": "code",
   "execution_count": 18,
   "metadata": {},
   "outputs": [
    {
     "data": {
      "text/plain": [
       "9979"
      ]
     },
     "execution_count": 18,
     "metadata": {},
     "output_type": "execute_result"
    }
   ],
   "source": [
    "np.argmax(ds_relevant_data.trigScan2_prog.data > 0.1)"
   ]
  },
  {
   "cell_type": "code",
   "execution_count": null,
   "metadata": {},
   "outputs": [],
   "source": []
  }
 ],
 "metadata": {
  "kernelspec": {
   "display_name": "libo",
   "language": "python",
   "name": "libo"
  },
  "language_info": {
   "codemirror_mode": {
    "name": "ipython",
    "version": 3
   },
   "file_extension": ".py",
   "mimetype": "text/x-python",
   "name": "python",
   "nbconvert_exporter": "python",
   "pygments_lexer": "ipython3",
   "version": "3.7.6"
  }
 },
 "nbformat": 4,
 "nbformat_minor": 4
}
