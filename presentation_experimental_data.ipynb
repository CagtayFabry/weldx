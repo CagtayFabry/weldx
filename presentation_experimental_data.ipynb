{
 "cells": [
  {
   "cell_type": "code",
   "execution_count": 1,
   "metadata": {},
   "outputs": [],
   "source": [
    "%matplotlib widget"
   ]
  },
  {
   "cell_type": "code",
   "execution_count": 2,
   "metadata": {},
   "outputs": [],
   "source": [
    "import numpy as np\n",
    "import xarray as xr\n",
    "\n",
    "from scipy.spatial import Delaunay\n",
    "from scipy.spatial.transform import Rotation as rot\n",
    "\n",
    "# plotting\n",
    "import matplotlib.pyplot as plt\n",
    "import pims\n",
    "import ipyvolume as ipv\n",
    "\n",
    "# interactive plots\n",
    "import ipywidgets as widgets\n",
    "from ipywidgets import VBox, HBox, IntSlider, interactive_output, Label, Layout\n",
    "from IPython.display import display\n",
    "\n",
    "\n",
    "import libo\n",
    "from libo.io import tc3\n",
    "\n",
    "import basic_meshes as bm\n",
    "from experimental_setup import get_setup\n",
    "\n",
    "import weldx.geometry as geo\n",
    "import weldx.transformations as tf\n",
    "import weldx.utility as ut\n",
    "import weldx.visualization as vs"
   ]
  },
  {
   "cell_type": "markdown",
   "metadata": {},
   "source": [
    "# Setup"
   ]
  },
  {
   "cell_type": "code",
   "execution_count": 3,
   "metadata": {},
   "outputs": [],
   "source": [
    "setup = get_setup(5)\n",
    "\n",
    "profile_raster_width = 4\n",
    "trace_raster_width = 4"
   ]
  },
  {
   "cell_type": "markdown",
   "metadata": {},
   "source": [
    "# Import and process experimental data\n",
    "\n",
    "### Temperature data"
   ]
  },
  {
   "cell_type": "code",
   "execution_count": 4,
   "metadata": {},
   "outputs": [],
   "source": [
    "dsx_sensor_data = tc3.to_xarray(tc3.read_db(setup.measurement_data_id))\n",
    "dsx_temperature_data = dsx_sensor_data[[\"MH24_T01\", \"MH24_T02\", \"MH24_T03\"]].dropna(\"time\")"
   ]
  },
  {
   "cell_type": "markdown",
   "metadata": {},
   "source": [
    "### Machine data"
   ]
  },
  {
   "cell_type": "code",
   "execution_count": 5,
   "metadata": {},
   "outputs": [],
   "source": [
    "# import machine data\n",
    "dsx_machine_data = tc3.to_xarray(tc3.read_db(setup.system_data_index))\n",
    "\n",
    "\n",
    "# collect relevant data\n",
    "relevant_data_names = [\"FB_X\", \"FB_Y\", \"FB_Z\", \"FB_Rx\", \"FB_Ry\", \"FB_Rz\", \"trigSchweissen\", \"trigScan2_prog\"]\n",
    "dsx_relevant_machine_data = dsx_machine_data[relevant_data_names].dropna(\"time\")\n",
    "interpolated_temperature_data = dsx_temperature_data.interp_like(dsx_relevant_machine_data)\n",
    "dsx_relevant_machine_data = xr.merge([interpolated_temperature_data, dsx_relevant_machine_data])\n",
    "\n",
    "\n",
    "# extract system movement data\n",
    "dsx_machine_position_data = dsx_relevant_machine_data[[\"FB_X\", \"FB_Y\", \"FB_Z\", \"FB_Rx\", \"FB_Ry\", \"FB_Rz\"]]\n",
    "machine_coordinates_base = dsx_machine_position_data.to_array().data[:3, :]\n",
    "machine_angles_degree_base = dsx_machine_position_data.to_array().data[3:6, :]"
   ]
  },
  {
   "cell_type": "markdown",
   "metadata": {},
   "source": [
    "### Scanner data"
   ]
  },
  {
   "cell_type": "code",
   "execution_count": 6,
   "metadata": {},
   "outputs": [],
   "source": [
    "num_scans = len(setup.scan_data_scan_idx)\n",
    "list_dsx_scan_data = []\n",
    "for i in range(num_scans):\n",
    "    data = libo.io.tools.merge_scan_tcp(scan=setup.scan_data_scan_idx[i], tcp=setup.scan_data_tcp_idx[i])\n",
    "    interpolated_temperature_data = dsx_temperature_data.interp(time=data.time)\n",
    "    list_dsx_scan_data += [xr.merge([interpolated_temperature_data, data])]"
   ]
  },
  {
   "cell_type": "markdown",
   "metadata": {},
   "source": [
    "# Define coordinate systems\n",
    "\n",
    "\n",
    "### Fixed systems\n",
    "Important note: Measured data is not perfectly orthogonal. We use the cross product to get a z axis which is perfectly orthogonal (in floating point precision) and recalculate a perfectly orthogonal y-axis. There are certainly better ways to address this problem."
   ]
  },
  {
   "cell_type": "code",
   "execution_count": 7,
   "metadata": {},
   "outputs": [],
   "source": [
    "# Calculate orthogonal z axis and construct reference coordinate system from x and z axis\n",
    "vec_x = setup.offset_ox_ref - setup.origin_ref\n",
    "vec_y = setup.offset_oy_ref - setup.origin_ref\n",
    "vec_z = np.cross(vec_x, vec_y)\n",
    "\n",
    "cs_ref_in_base = tf.LocalCoordinateSystem.construct_from_xz_and_orientation(vec_x, vec_z, origin=setup.origin_ref)\n",
    "\n",
    "cs_sp_in_ref = setup.cs_sp_in_ref\n",
    "cs_torch_tcp_in_flange = setup.cs_torch_tcp_in_flange\n",
    "cs_scanner_tcp_in_flange = setup.cs_scanner_tcp_in_flange\n",
    "cs_cam_in_flange = setup.cs_cam_in_flange\n",
    "cs_scan_in_scanner_tcp = setup.cs_scan_in_scanner_tcp\n",
    "list_cs_temp_in_ref = setup.list_cs_temp_in_ref"
   ]
  },
  {
   "cell_type": "markdown",
   "metadata": {},
   "source": [
    "### Derived systems"
   ]
  },
  {
   "cell_type": "code",
   "execution_count": 8,
   "metadata": {},
   "outputs": [],
   "source": [
    "cs_sp_in_base = cs_sp_in_ref + cs_ref_in_base\n",
    "cs_scanner_tcp_in_torch_tcp = cs_scanner_tcp_in_flange - cs_torch_tcp_in_flange\n",
    "cs_cam_in_torch_tcp = cs_cam_in_flange - cs_torch_tcp_in_flange\n",
    "cs_torch_tcp_in_scanner_tcp = cs_torch_tcp_in_flange - cs_scanner_tcp_in_flange\n",
    "cs_cam_in_scanner_tcp = cs_cam_in_flange - cs_scanner_tcp_in_flange\n",
    "list_cs_temp_in_sp = []\n",
    "for i in range(len(list_cs_temp_in_ref)):\n",
    "    list_cs_temp_in_sp += [list_cs_temp_in_ref[i] - cs_sp_in_ref]"
   ]
  },
  {
   "cell_type": "markdown",
   "metadata": {},
   "source": [
    "### Functions for variable systems"
   ]
  },
  {
   "cell_type": "code",
   "execution_count": 9,
   "metadata": {},
   "outputs": [],
   "source": [
    "def get_cs_scanner_tcp_in_sp(scan_data, index):\n",
    "    angles = scan_data.scan_tcp.sel(tcp_variable=[\"Rx\", \"Ry\", \"Rz\"]).data[index]\n",
    "    orientation = rot.from_euler(angles=angles, seq=\"xyz\", degrees=True).as_matrix()\n",
    "    coordinates = scan_data.scan_tcp.sel(tcp_variable=[\"X\", \"Y\", \"Z\"]).data[index]\n",
    "    cs_scanner_tcp_in_base = tf.LocalCoordinateSystem(basis=orientation, origin=coordinates)\n",
    "    return cs_scanner_tcp_in_base - cs_ref_in_base - cs_sp_in_ref\n",
    "\n",
    "\n",
    "def get_cs_scan_in_sp(scan_data, index):\n",
    "    return cs_scan_in_scanner_tcp + get_cs_scanner_tcp_in_sp(scan_data, index)"
   ]
  },
  {
   "cell_type": "markdown",
   "metadata": {},
   "source": [
    "# Define data transformations"
   ]
  },
  {
   "cell_type": "code",
   "execution_count": 10,
   "metadata": {},
   "outputs": [],
   "source": [
    "def coordinates_to_child_from_parent(coordinates, cs_child):\n",
    "    rotation = cs_child.orientation.transpose()\n",
    "    translation = cs_child.location[:, np.newaxis]\n",
    "    return np.matmul(rotation, coordinates - translation)\n",
    "\n",
    "\n",
    "def coordinates_to_parent_from_child(coordinates, cs_child):\n",
    "    rotation = cs_child.orientation\n",
    "    translation = cs_child.location[:, np.newaxis]\n",
    "    return np.matmul(rotation, coordinates) + translation"
   ]
  },
  {
   "cell_type": "markdown",
   "metadata": {},
   "source": [
    "# Transform data to specimen coordinate system"
   ]
  },
  {
   "cell_type": "code",
   "execution_count": 11,
   "metadata": {},
   "outputs": [],
   "source": [
    "def transform_scan_data_to_sp(scan_data_in_scan):\n",
    "    scanned_profiles_in_sp = []\n",
    "    num_scans = scan_data_in_scan.profile.size\n",
    "    for i in range(num_scans):\n",
    "        scanned_profile_in_scan = scan_data_in_scan.scan_line.data[i].transpose()\n",
    "        scanned_profiles_in_sp += [\n",
    "            coordinates_to_parent_from_child(scanned_profile_in_scan, get_cs_scan_in_sp(scan_data_in_scan, i))\n",
    "        ]\n",
    "    return np.array(scanned_profiles_in_sp, float)\n",
    "\n",
    "\n",
    "scanned_profiles_layer_0_sp = transform_scan_data_to_sp(list_dsx_scan_data[0])\n",
    "scanned_profiles_layer_1_sp = transform_scan_data_to_sp(list_dsx_scan_data[1])"
   ]
  },
  {
   "cell_type": "markdown",
   "metadata": {},
   "source": [
    "# Create theoretical geometry"
   ]
  },
  {
   "cell_type": "code",
   "execution_count": 12,
   "metadata": {},
   "outputs": [],
   "source": [
    "# create points\n",
    "pt_0 = [150, 8]\n",
    "pt_1_1 = [np.tan(setup.groove_angle_start / 360 * np.pi) * 8, 8]\n",
    "pt_1_2 = [np.tan(setup.groove_angle_end / 360 * np.pi) * 8, 8]\n",
    "pt_2 = [0, 0]\n",
    "pt_3 = [150, 0]\n",
    "\n",
    "# create shapes\n",
    "shape_p1_r = geo.Shape().add_line_segments([pt_0, pt_1_1, pt_2])\n",
    "shape_p2_r = geo.Shape().add_line_segments([pt_0, pt_1_2, pt_2])\n",
    "shape_p1_l = shape_p1_r.reflect([1, 0])\n",
    "shape_p2_l = shape_p2_r.reflect([1, 0])\n",
    "\n",
    "# create profiles\n",
    "profile_1 = geo.Profile([shape_p1_l, shape_p1_r])\n",
    "profile_2 = geo.Profile([shape_p2_l, shape_p2_r])\n",
    "\n",
    "# create variable profile\n",
    "variable_profile = geo.VariableProfile([profile_1, profile_2], [0, 1], [geo.linear_profile_interpolation_sbs])\n",
    "\n",
    "# create trace\n",
    "trace = geo.Trace(geo.LinearHorizontalTraceSegment(350))\n",
    "\n",
    "# create geometry\n",
    "geometry = geo.Geometry(variable_profile, trace)\n",
    "\n",
    "# rasterize profiles\n",
    "profile_1_data = profile_1.rasterize(4)\n",
    "profile_2_data = profile_2.rasterize(4)\n",
    "\n",
    "# rasterize geometry\n",
    "geometry_data_sp = geometry.rasterize(profile_raster_width=profile_raster_width, trace_raster_width=trace_raster_width)\n",
    "\n",
    "# calculate triangles\n",
    "triangles = Delaunay(geometry_data_sp.transpose()[:, :2]).simplices\n",
    "\n",
    "# transform data to specimen coordinate system\n",
    "geometry_data_sp = np.matmul(tf.rotation_matrix_x(-np.pi / 2), geometry_data_sp)"
   ]
  },
  {
   "cell_type": "markdown",
   "metadata": {},
   "source": [
    "# Create sequence"
   ]
  },
  {
   "cell_type": "code",
   "execution_count": 13,
   "metadata": {},
   "outputs": [],
   "source": [
    "# create time line\n",
    "\n",
    "num_timesteps_scan_0 = 400\n",
    "num_scans_layer_0 = list_dsx_scan_data[0].profile.size\n",
    "indices_scan_0 = np.arange(0, num_scans_layer_0 + 0.5, num_scans_layer_0 / num_timesteps_scan_0)\n",
    "indices_scan_0 = np.array(np.round(indices_scan_0), int)\n",
    "\n",
    "\n",
    "num_timesteps_movement = 800\n",
    "idx_scan_1_start = np.argmax(dsx_relevant_machine_data.trigScan2_prog.data > 0.1)\n",
    "num_movement_data = idx_scan_1_start\n",
    "indices_movement = np.arange(0, num_movement_data + 0.5, num_movement_data / num_timesteps_movement)\n",
    "indices_movement = np.array(np.round(indices_movement), int)\n",
    "num_shown_video_frames = (dsx_relevant_machine_data.trigSchweissen.data[indices_movement] > 0).sum()\n",
    "\n",
    "num_timesteps_scan_1 = 400\n",
    "num_scans_layer_1 = list_dsx_scan_data[1].profile.size\n",
    "indices_scan_1 = np.arange(0, num_scans_layer_1 + 0.5, num_scans_layer_1 / num_timesteps_scan_1)\n",
    "indices_scan_1 = np.array(np.round(indices_scan_1), int)\n",
    "\n",
    "\n",
    "num_timesteps_total = num_timesteps_scan_0 + num_timesteps_movement + num_timesteps_scan_1"
   ]
  },
  {
   "cell_type": "markdown",
   "metadata": {},
   "source": [
    "# Extract frames"
   ]
  },
  {
   "cell_type": "code",
   "execution_count": 14,
   "metadata": {},
   "outputs": [],
   "source": [
    "# v = pims.PyAVReaderIndexed(\"./hd_05.avi\")\n",
    "# v"
   ]
  },
  {
   "cell_type": "code",
   "execution_count": 15,
   "metadata": {},
   "outputs": [],
   "source": [
    "video_frames = np.array(np.load(\"./hd_05.frames.npy\"))\n",
    "num_video_frames = video_frames.shape[0]\n",
    "delta_frame = num_video_frames / num_shown_video_frames\n",
    "indices_frames = np.arange(0, num_video_frames - 0.5, delta_frame)\n",
    "# video_data_array = np.asarray(v[100][::3,::3])\n",
    "indices_frames = np.array(np.round(indices_frames), int)\n",
    "\n",
    "video_frames = video_frames[indices_frames]"
   ]
  },
  {
   "cell_type": "markdown",
   "metadata": {},
   "source": [
    "# Create meshes"
   ]
  },
  {
   "cell_type": "code",
   "execution_count": 16,
   "metadata": {},
   "outputs": [],
   "source": [
    "scale_scanner = 15\n",
    "\n",
    "\n",
    "[vert_scanner, tri_scanner] = bm.create_cone_mesh(40)\n",
    "vert_scanner = vert_scanner + np.array([0, 0, -1])[:, np.newaxis]\n",
    "vert_scanner = np.matmul([[scale_scanner, 0, 0], [0, scale_scanner, 0], [0, 0, scale_scanner * 2]], vert_scanner)\n",
    "\n",
    "\n",
    "scale_torch = 15\n",
    "\n",
    "[vert_torch, tri_torch] = bm.create_cone_mesh(40)\n",
    "vert_torch = vert_torch + np.array([0, 0, -1])[:, np.newaxis]\n",
    "vert_torch = np.matmul([[scale_torch, 0, 0], [0, scale_torch, 0], [0, 0, scale_torch * 2]], vert_torch)\n",
    "\n",
    "\n",
    "scale_camera = 15\n",
    "\n",
    "[vert_camera, tri_camera] = bm.create_cone_mesh(40)\n",
    "vert_camera = vert_camera + np.array([0, 0, -1])[:, np.newaxis]\n",
    "vert_camera = np.matmul([[scale_camera, 0, 0], [0, scale_camera, 0], [0, 0, scale_camera * 2]], vert_camera)\n",
    "vert_camera = vert_camera + np.array([0, 0, 200])[:, np.newaxis]\n",
    "\n",
    "cylinder_radius = 5\n",
    "cylinder_height = 1\n",
    "[vertices_cylinder, triangle_indices_cylinder] = bm.create_unit_cylinder_mesh(40, 1)\n",
    "vertices_cylinder = np.matmul(\n",
    "    [[cylinder_radius, 0, 0], [0, cylinder_radius, 0], [0, 0, cylinder_height]], vertices_cylinder\n",
    ")"
   ]
  },
  {
   "cell_type": "markdown",
   "metadata": {},
   "source": [
    "# Create weld mesh"
   ]
  },
  {
   "cell_type": "code",
   "execution_count": 17,
   "metadata": {},
   "outputs": [],
   "source": [
    "scp = scanned_profiles_layer_1_sp[::5, :, ::5]\n",
    "\n",
    "# join all points\n",
    "scp = np.swapaxes(scp, 1, 2)\n",
    "scp = np.reshape(scp, (scp.shape[0] * scp.shape[1], 3))\n",
    "\n",
    "# sort point by x-value\n",
    "scp = scp[scp[:, 2] < 5]\n",
    "scp = scp[scp[:, 2] > -5]\n",
    "scp = scp[scp[:, 1] > -1]\n",
    "idx_sort = np.argsort(scp[:, 0])\n",
    "data_weld = scp[idx_sort]\n",
    "\n",
    "# triangulate\n",
    "triangles_weld = Delaunay(data_weld[:, [0, 2]]).simplices\n",
    "max_id = np.max(triangles_weld, axis=1)\n",
    "idx_sort = np.argsort(max_id)\n",
    "\n",
    "triangles_weld = triangles_weld[idx_sort]\n",
    "num_triangles_weld = triangles_weld.shape[0]\n",
    "num_points_weld = data_weld.shape[0]"
   ]
  },
  {
   "cell_type": "code",
   "execution_count": 18,
   "metadata": {},
   "outputs": [
    {
     "data": {
      "application/vnd.jupyter.widget-view+json": {
       "model_id": "94e4060da2574e288dbd0120266dad0c",
       "version_major": 2,
       "version_minor": 0
      },
      "text/plain": [
       "VBox(children=(HBox(children=(VBox(children=(Label(value='Thermoelement 1: 22.2 °C'), Label(value='Thermoeleme…"
      ]
     },
     "metadata": {},
     "output_type": "display_data"
    }
   ],
   "source": [
    "out2 = widgets.Output(layout={\"border\": \"0px solid black\"})\n",
    "# create figure inside output widget\n",
    "with out2:\n",
    "    fig = plt.figure()\n",
    "    fig.canvas.layout.height = \"600px\"\n",
    "    fig.canvas.layout.width = \"800px\"\n",
    "    gs = fig.add_gridspec(1, 1)\n",
    "    ax_0 = fig.add_subplot(gs[0, 0])\n",
    "\n",
    "\n",
    "ipvfig = ipv.figure(width=800, height=600, lighting=True)\n",
    "\n",
    "\n",
    "# ipv.show()\n",
    "\n",
    "play = widgets.Play(\n",
    "    value=0, min=0, max=num_timesteps_total, step=1, interval=10, description=\"Press play\", disabled=False\n",
    ")\n",
    "time_slider = IntSlider(min=0, max=num_timesteps_total, step=1, description=\"time\", continuous_update=True)\n",
    "w1 = dict(time=time_slider)\n",
    "\n",
    "widgets.jslink((play, \"value\"), (time_slider, \"value\"))\n",
    "w = {**w1}\n",
    "\n",
    "l_t0 = Label(\"Thermoelement 1: \")\n",
    "l_t1 = Label(\"Thermoelement 2: \")\n",
    "l_t2 = Label(\"Thermoelement 3: \")\n",
    "\n",
    "\n",
    "upper_box = HBox()\n",
    "lower_box = HBox()\n",
    "info_box = VBox([l_t0, l_t1, l_t2], layout=Layout(top=\"200px\", width=\"200px\"))\n",
    "box = VBox([upper_box, lower_box])\n",
    "\n",
    "ipv.plot_trisurf(\n",
    "    geometry_data_sp[0], geometry_data_sp[1], geometry_data_sp[2], triangles=triangles, color=[0.9, 0.9, 0.9]\n",
    ")\n",
    "ipv.plot_trisurf(vert_scanner[0], vert_scanner[1], vert_scanner[2], triangles=tri_scanner, color=[1, 0, 0])\n",
    "ipv.plot_trisurf(vert_torch[0], vert_torch[1], vert_torch[2], triangles=tri_torch, color=[0, 1, 0])\n",
    "ipv.plot_trisurf(\n",
    "    vertices_cylinder[0],\n",
    "    vertices_cylinder[1],\n",
    "    vertices_cylinder[2],\n",
    "    triangles=triangle_indices_cylinder,\n",
    "    color=[0, 0, 1],\n",
    ")\n",
    "ipv.plot_trisurf(\n",
    "    vertices_cylinder[0],\n",
    "    vertices_cylinder[1],\n",
    "    vertices_cylinder[2],\n",
    "    triangles=triangle_indices_cylinder,\n",
    "    color=[0, 0, 1],\n",
    ")\n",
    "ipv.plot_trisurf(\n",
    "    vertices_cylinder[0],\n",
    "    vertices_cylinder[1],\n",
    "    vertices_cylinder[2],\n",
    "    triangles=triangle_indices_cylinder,\n",
    "    color=[0, 0, 1],\n",
    ")\n",
    "ipv.plot_trisurf(vert_camera[0], vert_camera[1], vert_camera[2], triangles=tri_camera, color=[1, 1, 0])\n",
    "scanned_profiles = np.concatenate((scanned_profiles_layer_0_sp, scanned_profiles_layer_1_sp), axis=0)\n",
    "ipv.scatter(\n",
    "    scanned_profiles[:, 0, :],\n",
    "    scanned_profiles[:, 1, :],\n",
    "    scanned_profiles[:, 2, :],\n",
    "    size=1,\n",
    "    marker=\"sphere\",\n",
    "    color=\"red\",\n",
    ")\n",
    "ipv.plot_trisurf(data_weld[:, 0], data_weld[:, 1], data_weld[:, 2], triangles=triangles_weld, color=[1, 1, 0])\n",
    "\n",
    "x_min = 0\n",
    "x_max = 350\n",
    "z_min = -175\n",
    "z_max = 175\n",
    "y_min = -20\n",
    "y_max = 330\n",
    "ipv.xlim(x_min, x_max)\n",
    "ipv.ylim(y_min, y_max)\n",
    "ipv.zlim(z_min, z_max)\n",
    "\n",
    "d_x = x_max - x_min\n",
    "d_y = y_max - y_min\n",
    "d_z = z_max - z_min\n",
    "\n",
    "s_x = d_x / d_y\n",
    "s_y = d_y / d_y\n",
    "s_z = d_z / d_y\n",
    "\n",
    "axix_correction_scale_mat = [[s_x, 0, 0], [0, s_y, 0], [0, 0, s_z]]\n",
    "\n",
    "\n",
    "cs_scanner_schematic = tf.LocalCoordinateSystem(origin=[0, 0, -260])\n",
    "\n",
    "idx_switch_cs = np.argmax(dsx_machine_position_data.FB_Rz.dropna(\"time\").diff(\"time\").data)\n",
    "idx_scan_1 = np.argmax(dsx_relevant_machine_data.trigScan2_prog.data > 0.1)\n",
    "\n",
    "\n",
    "def temperature_to_color(temperature):\n",
    "    temperature = np.clip(temperature, 0, 600)\n",
    "    if temperature < 300:\n",
    "        weight = temperature / 300\n",
    "        return [0 + weight, 1, 0]\n",
    "    else:\n",
    "        weight = (temperature - 300) / 300\n",
    "        return [1, 1 - weight, 0]\n",
    "\n",
    "\n",
    "def transform_and_update_mesh(vertex_data_mesh, cs_transformation, ipv_idx, scale_x=1, scale_y=1, scale_z=1):\n",
    "    scale_mat = [[scale_x, 0, 0], [0, scale_y, 0], [0, 0, scale_z]]\n",
    "    vertex_data_trans = np.matmul(scale_mat, vertex_data_mesh)\n",
    "    vertex_data_trans = np.matmul(cs_transformation.orientation, vertex_data_trans)\n",
    "    vertex_data_trans = np.matmul(axix_correction_scale_mat, vertex_data_trans)\n",
    "    vertex_data_trans = vertex_data_trans + cs_transformation.location[:, np.newaxis]\n",
    "    ipvfig.meshes[ipv_idx].x = vertex_data_trans[0]\n",
    "    ipvfig.meshes[ipv_idx].y = vertex_data_trans[1]\n",
    "    ipvfig.meshes[ipv_idx].z = vertex_data_trans[2]\n",
    "\n",
    "\n",
    "def update_meshes(cs_scanner_in_sp, cs_torch_in_sp, cs_cam_in_sp, torch_color, t_0, t_1, t_2):\n",
    "    transform_and_update_mesh(vert_scanner, cs_scanner_in_sp, 1)\n",
    "    transform_and_update_mesh(vert_torch, cs_torch_in_sp, 2)\n",
    "    transform_and_update_mesh(vert_camera, cs_cam_in_sp, 6)\n",
    "    ipvfig.meshes[2].color = torch_color\n",
    "\n",
    "    transform_and_update_mesh(vertices_cylinder, list_cs_temp_in_sp[0], 3, scale_z=t_0 / 2)\n",
    "    transform_and_update_mesh(vertices_cylinder, list_cs_temp_in_sp[1], 4, scale_z=t_1 / 2)\n",
    "    transform_and_update_mesh(vertices_cylinder, list_cs_temp_in_sp[2], 5, scale_z=t_2 / 2)\n",
    "\n",
    "    ipvfig.meshes[3].color = temperature_to_color(t_0)\n",
    "    ipvfig.meshes[4].color = temperature_to_color(t_1)\n",
    "    ipvfig.meshes[5].color = temperature_to_color(t_2)\n",
    "    l_t0.value = \"Thermoelement 1: \" + str(np.round(t_0, decimals=1)) + \" °C\"\n",
    "    l_t1.value = \"Thermoelement 2: \" + str(np.round(t_1, decimals=1)) + \" °C\"\n",
    "    l_t2.value = \"Thermoelement 3: \" + str(np.round(t_2, decimals=1)) + \" °C\"\n",
    "\n",
    "\n",
    "def visualize_scan_phase(scan_data, scanned_profiles_in_sp, idx, num_timesteps_scan, idx_offset=0):\n",
    "    cs_scanner_tcp_in_sp = get_cs_scanner_tcp_in_sp(scan_data, idx)\n",
    "    cs_scanner_in_sp = cs_scanner_schematic + cs_scanner_tcp_in_sp\n",
    "    cs_torch_in_sp = cs_torch_tcp_in_scanner_tcp + cs_scanner_tcp_in_sp\n",
    "    cs_cam_in_sp = cs_cam_in_scanner_tcp + cs_scanner_tcp_in_sp\n",
    "\n",
    "    weight = cs_scanner_in_sp.location[0] / 350\n",
    "    profile_local = geo.linear_profile_interpolation_sbs(profile_1, profile_2, weight)\n",
    "    profile_local_data = profile_local.rasterize(20)\n",
    "    num_raster_points = profile_local_data.shape[1]\n",
    "    nhalf = int(num_raster_points / 2)\n",
    "    ax_0.clear()\n",
    "    ax_0.set_title(\"profile at x = \" + str(np.round(cs_scanner_in_sp.location[0], decimals=1)) + \"mm\")\n",
    "    ax_0.axis(\"auto\")\n",
    "    ax_0.plot(profile_local_data[0, 1:nhalf], profile_local_data[1, 1:nhalf], \"b\", label=\"ideal\")\n",
    "    ax_0.plot(profile_local_data[0, nhalf:], profile_local_data[1, nhalf:], \"b\")\n",
    "    ax_0.plot(scanned_profiles_in_sp[idx, 2, :], scanned_profiles_in_sp[idx, 1, :], \"r\", label=\"scan\")\n",
    "    ax_0.set_xlim([-20, 20])\n",
    "    ax_0.set_ylim([0, 12])\n",
    "    ax_0.set_xlabel(\"z in mm\")\n",
    "    ax_0.set_ylabel(\"y in mm\")\n",
    "    ax_0.legend()\n",
    "    ipvfig.scatters[0].sequence_index = idx.item() + idx_offset\n",
    "    ipvfig.scatters[0].visible = True\n",
    "    t_0 = scan_data.MH24_T01.data[idx]\n",
    "    t_1 = scan_data.MH24_T02.data[idx]\n",
    "    t_2 = scan_data.MH24_T03.data[idx]\n",
    "    update_meshes(cs_scanner_in_sp, cs_torch_in_sp, cs_cam_in_sp, [0, 1, 0], t_0, t_1, t_2)\n",
    "\n",
    "\n",
    "def update_output(time):\n",
    "    if time < num_timesteps_scan_0:\n",
    "        scn_idx = indices_scan_0[time]\n",
    "        ipvfig.meshes[7].visible = False\n",
    "        visualize_scan_phase(list_dsx_scan_data[0], scanned_profiles_layer_0_sp, scn_idx, num_timesteps_scan_0)\n",
    "    elif time < num_timesteps_scan_0 + num_timesteps_movement:\n",
    "        ipvfig.scatters[0].visible = False\n",
    "        local_idx = time - num_timesteps_scan_0\n",
    "        mvm_idx = indices_movement[local_idx]\n",
    "\n",
    "        x_angles_base = machine_angles_degree_base[:, mvm_idx]\n",
    "        x_coordinates_base = machine_coordinates_base[:, mvm_idx]\n",
    "        x_orientation_base = rot.from_euler(angles=x_angles_base, seq=\"xyz\", degrees=True).as_matrix()\n",
    "        cs_x_in_base = tf.LocalCoordinateSystem(basis=x_orientation_base, origin=x_coordinates_base)\n",
    "        cs_x_in_sp = cs_x_in_base - cs_ref_in_base - cs_sp_in_ref\n",
    "\n",
    "        if mvm_idx > idx_switch_cs:\n",
    "            cs_torch_in_sp = cs_torch_tcp_in_scanner_tcp + cs_x_in_sp\n",
    "            cs_scanner_in_sp = cs_scanner_schematic + cs_x_in_sp\n",
    "            cs_cam_in_sp = cs_cam_in_torch_tcp + cs_torch_in_sp\n",
    "        else:\n",
    "            cs_torch_in_sp = cs_x_in_sp\n",
    "            cs_scanner_in_sp = cs_scanner_schematic + cs_scanner_tcp_in_torch_tcp + cs_torch_in_sp\n",
    "            cs_cam_in_sp = cs_cam_in_torch_tcp + cs_torch_in_sp\n",
    "        torch_color = [0, 1, 0]\n",
    "        if dsx_relevant_machine_data.trigSchweissen.data[mvm_idx] > 0:\n",
    "            brightness = (time % 5) / 4\n",
    "            torch_color = [brightness, brightness, 1]\n",
    "        t_0 = dsx_relevant_machine_data.MH24_T01.data[mvm_idx]\n",
    "        t_1 = dsx_relevant_machine_data.MH24_T02.data[mvm_idx]\n",
    "        t_2 = dsx_relevant_machine_data.MH24_T03.data[mvm_idx]\n",
    "        update_meshes(cs_scanner_in_sp, cs_torch_in_sp, cs_cam_in_sp, torch_color, t_0, t_1, t_2)\n",
    "\n",
    "        if local_idx < video_frames.shape[0]:\n",
    "            ax_0.clear()\n",
    "            ax_0.imshow(video_frames[time - num_timesteps_scan_0], cmap=\"gray\", vmin=0, vmax=255)\n",
    "            max_weld_idx = int(num_points_weld / 2)\n",
    "            ipvfig.meshes[7].x = np.clip(data_weld[:, 0], 0, cs_torch_in_sp.location[0] + 10)\n",
    "            ipvfig.meshes[7].visible = True\n",
    "\n",
    "    else:\n",
    "        scn_idx = indices_scan_1[time - num_timesteps_scan_0 - num_timesteps_movement]\n",
    "        ipvfig.meshes[7].visible = True\n",
    "        visualize_scan_phase(\n",
    "            list_dsx_scan_data[1], scanned_profiles_layer_1_sp, scn_idx, num_timesteps_scan_1, num_scans_layer_0\n",
    "        )\n",
    "\n",
    "\n",
    "output = interactive_output(update_output, w)\n",
    "upper_box.children = [info_box, ipvfig, out2]\n",
    "lower_box.children = [play, time_slider]\n",
    "display(box)\n",
    "_ = ipv.view(elevation=10, azimuth=120, distance=1.7)"
   ]
  },
  {
   "cell_type": "code",
   "execution_count": null,
   "metadata": {},
   "outputs": [],
   "source": [
    "\n"
   ]
  },
  {
   "cell_type": "code",
   "execution_count": null,
   "metadata": {},
   "outputs": [],
   "source": []
  }
 ],
 "metadata": {
  "kernelspec": {
   "display_name": "libo",
   "language": "python",
   "name": "libo"
  },
  "language_info": {
   "codemirror_mode": {
    "name": "ipython",
    "version": 3
   },
   "file_extension": ".py",
   "mimetype": "text/x-python",
   "name": "python",
   "nbconvert_exporter": "python",
   "pygments_lexer": "ipython3",
   "version": "3.7.6"
  }
 },
 "nbformat": 4,
 "nbformat_minor": 4
}
